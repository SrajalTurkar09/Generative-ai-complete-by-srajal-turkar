{
  "nbformat": 4,
  "nbformat_minor": 0,
  "metadata": {
    "colab": {
      "provenance": []
    },
    "kernelspec": {
      "name": "python3",
      "display_name": "Python 3"
    },
    "language_info": {
      "name": "python"
    }
  },
  "cells": [
    {
      "cell_type": "code",
      "execution_count": null,
      "metadata": {
        "id": "4MR7ZMvL8eXy"
      },
      "outputs": [],
      "source": [
        "# Free Text-to-Speech using Coqui TTS (Tacotron2)\n",
        "from TTS.api import TTS\n",
        "\n",
        "# Initialize a free TTS model (Tacotron2 + MelGAN)\n",
        "tts = TTS(model_name=\"tts_models/en/ljspeech/tacotron2-DDC\", progress_bar=False, gpu=False)\n",
        "\n",
        "# Input text for speech synthesis\n",
        "text = \"Hello, this is a free text-to-speech synthesis example.\"\n",
        "\n",
        "# Generate speech and save to file\n",
        "tts.tts_to_file(text=text, file_path=\"free_speech.wav\")\n",
        "\n",
        "\n"
      ]
    }
  ]
}