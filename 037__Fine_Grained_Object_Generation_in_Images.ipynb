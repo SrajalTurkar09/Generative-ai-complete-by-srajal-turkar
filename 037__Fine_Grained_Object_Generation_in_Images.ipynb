{
  "nbformat": 4,
  "nbformat_minor": 0,
  "metadata": {
    "colab": {
      "provenance": [],
      "gpuType": "T4"
    },
    "kernelspec": {
      "name": "python3",
      "display_name": "Python 3"
    },
    "language_info": {
      "name": "python"
    },
    "accelerator": "GPU"
  },
  "cells": [
    {
      "cell_type": "code",
      "source": [
        "import tensorflow as tf\n",
        "from tensorflow import keras\n",
        "from tensorflow.keras import layers\n",
        "import numpy as np\n",
        "import matplotlib.pyplot as plt\n",
        "\n",
        "# Set parameters\n",
        "latent_dim = 100\n",
        "img_shape = (64, 64, 3)  # Adjusted size\n",
        "epochs = 100\n",
        "batch_size = 64\n",
        "\n",
        "# Build the generator\n",
        "def build_generator():\n",
        "    model = keras.Sequential([\n",
        "        layers.Dense(128 * 16 * 16, activation=\"relu\", input_dim=latent_dim),\n",
        "        layers.Reshape((16, 16, 128)),\n",
        "        layers.UpSampling2D(),\n",
        "        layers.Conv2D(128, kernel_size=3, padding='same'),\n",
        "        layers.Activation('relu'),\n",
        "        layers.UpSampling2D(),\n",
        "        layers.Conv2D(64, kernel_size=3, padding='same'),\n",
        "        layers.Activation('relu'),\n",
        "        layers.Conv2D(3, kernel_size=3, padding='same', activation='tanh')  # Change to output (64, 64, 3)\n",
        "    ])\n",
        "    return model\n",
        "\n",
        "# Build the discriminator\n",
        "def build_discriminator():\n",
        "    model = keras.Sequential([\n",
        "        layers.Conv2D(64, kernel_size=3, strides=2, padding='same', input_shape=(64, 64, 3)),  # Updated input shape\n",
        "        layers.LeakyReLU(alpha=0.2),\n",
        "        layers.Dropout(0.3),\n",
        "        layers.Conv2D(128, kernel_size=3, strides=2, padding='same'),\n",
        "        layers.LeakyReLU(alpha=0.2),\n",
        "        layers.Dropout(0.3),\n",
        "        layers.Flatten(),\n",
        "        layers.Dense(1, activation='sigmoid')\n",
        "    ])\n",
        "    return model\n",
        "\n",
        "# Compile GAN\n",
        "generator = build_generator()\n",
        "discriminator = build_discriminator()\n",
        "\n",
        "discriminator.compile(loss='binary_crossentropy', optimizer='adam', metrics=['accuracy'])\n",
        "\n",
        "# Create GAN model\n",
        "z = layers.Input(shape=(latent_dim,))\n",
        "img = generator(z)\n",
        "discriminator.trainable = False\n",
        "validity = discriminator(img)\n",
        "combined = keras.Model(z, validity)\n",
        "combined.compile(loss='binary_crossentropy', optimizer='adam')\n",
        "\n",
        "# Load your dataset\n",
        "(x_train, _), (_, _) = keras.datasets.cifar10.load_data()  # Sample dataset\n",
        "x_train = (x_train.astype(np.float32) - 127.5) / 127.5  # Normalize images\n",
        "x_train = x_train[np.random.choice(x_train.shape[0], size=5000, replace=False)]  # Example for using a subset\n",
        "\n",
        "# Assuming x_train is defined and properly loaded\n",
        "# Training GAN\n",
        "for epoch in range(epochs):\n",
        "    # Select a random batch of images\n",
        "    idx = np.random.randint(0, x_train.shape[0], batch_size)\n",
        "    real_imgs = x_train[idx]\n",
        "\n",
        "    # Resize real_imgs to match discriminator's input shape\n",
        "    real_imgs = tf.image.resize(real_imgs, (64, 64))\n",
        "\n",
        "    # Generate a batch of new images\n",
        "    noise = np.random.normal(0, 1, (batch_size, latent_dim))\n",
        "    fake_imgs = generator.predict(noise)\n",
        "\n",
        "    # Train the discriminator\n",
        "    d_loss_real = discriminator.train_on_batch(real_imgs, np.ones((batch_size, 1)))\n",
        "    d_loss_fake = discriminator.train_on_batch(fake_imgs, np.zeros((batch_size, 1)))\n",
        "\n",
        "    # Average the losses and accuracies\n",
        "    d_loss = (d_loss_real[0] + d_loss_fake[0]) / 2  # Average loss\n",
        "    d_acc = (d_loss_real[1] + d_loss_fake[1]) / 2  # Average accuracy\n",
        "\n",
        "    # Train the generator\n",
        "    noise = np.random.normal(0, 1, (batch_size, latent_dim))\n",
        "    g_loss = combined.train_on_batch(noise, np.ones((batch_size, 1)))\n",
        "\n",
        "    # Print the progress\n",
        "    if epoch % 1000 == 0:\n",
        "        # print(f\"{epoch} [D loss: {d_loss:.4f}, acc.: {100 * d_acc:.2f}%] [G loss: {g_loss:.4f}]\")\n",
        "\n",
        "        # Save generated images\n",
        "        generated_imgs = generator.predict(noise)\n",
        "        generated_imgs = 0.5 * generated_imgs + 0.5  # Rescale to [0, 1]\n",
        "        plt.figure(figsize=(10, 10))\n",
        "        for i in range(9):\n",
        "            plt.subplot(3, 3, i + 1)\n",
        "            plt.imshow(generated_imgs[i])\n",
        "            plt.axis('off')\n",
        "        plt.show()\n"
      ],
      "metadata": {
        "colab": {
          "base_uri": "https://localhost:8080/"
        },
        "id": "C_VQ9SGe_tjG",
        "outputId": "9e8fcec0-2aa1-4e80-b499-50fdae2bee1a"
      },
      "execution_count": null,
      "outputs": [
        {
          "output_type": "stream",
          "name": "stderr",
          "text": [
            "/usr/local/lib/python3.10/dist-packages/keras/src/layers/core/dense.py:87: UserWarning: Do not pass an `input_shape`/`input_dim` argument to a layer. When using Sequential models, prefer using an `Input(shape)` object as the first layer in the model instead.\n",
            "  super().__init__(activity_regularizer=activity_regularizer, **kwargs)\n",
            "/usr/local/lib/python3.10/dist-packages/keras/src/layers/convolutional/base_conv.py:107: UserWarning: Do not pass an `input_shape`/`input_dim` argument to a layer. When using Sequential models, prefer using an `Input(shape)` object as the first layer in the model instead.\n",
            "  super().__init__(activity_regularizer=activity_regularizer, **kwargs)\n",
            "/usr/local/lib/python3.10/dist-packages/keras/src/layers/activations/leaky_relu.py:41: UserWarning: Argument `alpha` is deprecated. Use `negative_slope` instead.\n",
            "  warnings.warn(\n"
          ]
        },
        {
          "output_type": "stream",
          "name": "stdout",
          "text": [
            "\u001b[1m2/2\u001b[0m \u001b[32m━━━━━━━━━━━━━━━━━━━━\u001b[0m\u001b[37m\u001b[0m \u001b[1m3s\u001b[0m 5ms/step\n"
          ]
        },
        {
          "output_type": "stream",
          "name": "stderr",
          "text": [
            "/usr/local/lib/python3.10/dist-packages/keras/src/backend/tensorflow/trainer.py:75: UserWarning: The model does not have any trainable weights.\n",
            "  warnings.warn(\"The model does not have any trainable weights.\")\n"
          ]
        }
      ]
    },
    {
      "cell_type": "code",
      "source": [],
      "metadata": {
        "id": "iKKgSdEC_zR5"
      },
      "execution_count": null,
      "outputs": []
    }
  ]
}