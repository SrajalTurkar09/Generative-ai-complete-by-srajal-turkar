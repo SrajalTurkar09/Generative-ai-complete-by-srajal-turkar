{
  "nbformat": 4,
  "nbformat_minor": 0,
  "metadata": {
    "colab": {
      "provenance": []
    },
    "kernelspec": {
      "name": "python3",
      "display_name": "Python 3"
    },
    "language_info": {
      "name": "python"
    }
  },
  "cells": [
    {
      "cell_type": "code",
      "execution_count": 4,
      "metadata": {
        "colab": {
          "base_uri": "https://localhost:8080/"
        },
        "id": "AlvnF1033Rkc",
        "outputId": "eee09b04-b43b-474d-8303-e502cbf89845"
      },
      "outputs": [
        {
          "output_type": "stream",
          "name": "stdout",
          "text": [
            "Generated sentence: sun shines at night. The sun rises in the east. The sun sets in the\n"
          ]
        }
      ],
      "source": [
        "import random\n",
        "\n",
        "# Sample input text\n",
        "text = \"\"\"\n",
        "The sun rises in the east. The sun sets in the west. The moon shines at night. The sun shines brightly.\n",
        "\"\"\"\n",
        "\n",
        "# Step 1: Tokenize the text\n",
        "words = text.split()\n",
        "\n",
        "# Step 2: Build the Markov Chain as a dictionary\n",
        "markov_chain = {}\n",
        "\n",
        "for i in range(len(words) - 1):\n",
        "    current_word = words[i]\n",
        "    next_word = words[i + 1]\n",
        "\n",
        "    if current_word not in markov_chain:\n",
        "        markov_chain[current_word] = []\n",
        "    markov_chain[current_word].append(next_word)\n",
        "\n",
        "# Step 3: Function to generate text\n",
        "def generate_text(chain, start_word, length=10):\n",
        "    word = start_word\n",
        "    sentence = [word]\n",
        "\n",
        "    for _ in range(length - 1):\n",
        "        if word in chain:\n",
        "            word = random.choice(chain[word])\n",
        "            sentence.append(word)\n",
        "        else:\n",
        "            break  # Stop if there's no next word\n",
        "\n",
        "    return ' '.join(sentence)\n",
        "\n",
        "# Generate and print sample sentences\n",
        "starting_word = \"sun\"\n",
        "generated_sentence = generate_text(markov_chain, starting_word, length=15)\n",
        "print(\"Generated sentence:\", generated_sentence)\n"
      ]
    },
    {
      "cell_type": "code",
      "source": [],
      "metadata": {
        "id": "IL28K1nl3odP"
      },
      "execution_count": null,
      "outputs": []
    }
  ]
}