{
 "cells": [
  {
   "cell_type": "code",
   "execution_count": 12,
   "metadata": {},
   "outputs": [],
   "source": [
    "# Auxiliary Classifier GAN (ACGAN) Implementation\n",
    "# ================================================\n",
    "# This notebook implements ACGAN using TensorFlow/Keras.\n",
    "# ACGAN generates class-conditional images by combining adversarial and classification tasks.\n",
    "# Dataset used: MNIST (handwritten digits 0-9)\n",
    "\n",
    "\n",
    "\n"
   ]
  },
  {
   "cell_type": "code",
   "execution_count": 13,
   "metadata": {},
   "outputs": [],
   "source": [
    "# Import necessary libraries\n",
    "import tensorflow as tf\n",
    "from tensorflow.keras import layers\n",
    "import numpy as np\n",
    "import matplotlib.pyplot as plt\n"
   ]
  },
  {
   "cell_type": "code",
   "execution_count": 14,
   "metadata": {},
   "outputs": [],
   "source": [
    "# Step 1: Define hyperparameters for the model\n",
    "NOISE_DIM = 100  # Dimension of the random noise vector\n",
    "NUM_CLASSES = 10  # Number of classes in the dataset (0-9 for MNIST)\n",
    "IMG_SHAPE = (28, 28, 1)  # Shape of the input image\n",
    "BATCH_SIZE = 64  # Number of samples per training batch\n",
    "EPOCHS = 50  # Number of training epochs\n",
    "BUFFER_SIZE = 60000  # Buffer size for shuffling data\n",
    "LEARNING_RATE = 0.0002  # Learning rate for optimizers\n"
   ]
  },
  {
   "cell_type": "code",
   "execution_count": 15,
   "metadata": {},
   "outputs": [],
   "source": [
    "# Step 2: Load and preprocess the MNIST dataset\n",
    "def preprocess_data():\n",
    "    \"\"\"\n",
    "    Loads the MNIST dataset and normalizes the pixel values to [-1, 1].\n",
    "    Also adds a channel dimension to make the images compatible with Conv2D layers.\n",
    "    \"\"\"\n",
    "    (x_train, y_train), (_, _) = tf.keras.datasets.mnist.load_data()\n",
    "    x_train = (x_train.astype(np.float32) - 127.5) / 127.5  # Normalize to [-1, 1]\n",
    "    x_train = np.expand_dims(x_train, axis=-1)  # Add a channel dimension\n",
    "    return x_train, y_train"
   ]
  },
  {
   "cell_type": "code",
   "execution_count": 57,
   "metadata": {},
   "outputs": [],
   "source": [
    "def preprocess_data():\n",
    "    (x_train, y_train), (_, _) = tf.keras.datasets.mnist.load_data()\n",
    "    x_train = (x_train.astype(np.float32) - 127.5) / 127.5  # Normalize to [-1, 1]\n",
    "    x_train = np.expand_dims(x_train, axis=-1)  # Add channel dimension\n",
    "    return x_train, y_train\n"
   ]
  },
  {
   "cell_type": "code",
   "execution_count": 58,
   "metadata": {},
   "outputs": [],
   "source": [
    "# Step 3: Define the Generator model\n",
    "def build_generator():\n",
    "    \"\"\"\n",
    "    Creates the Generator model.\n",
    "    The generator takes a noise vector and a class label as inputs\n",
    "    and generates an image corresponding to the given class.\n",
    "    \"\"\"\n",
    "    # Noise input\n",
    "    noise = layers.Input(shape=(NOISE_DIM,))\n",
    "    # Class label input\n",
    "    label = layers.Input(shape=(1,))\n",
    "\n",
    "    # Embed the label into a vector of size NOISE_DIM\n",
    "    label_embedding = layers.Embedding(NUM_CLASSES, NOISE_DIM)(label)\n",
    "    label_embedding = layers.Flatten()(label_embedding)\n",
    "\n",
    "    # Combine noise and label embeddings\n",
    "    input = layers.Multiply()([noise, label_embedding])\n",
    "\n",
    "    # Fully connected layer to project and reshape input\n",
    "    x = layers.Dense(7 * 7 * 256, activation=\"relu\")(input)\n",
    "    x = layers.Reshape((7, 7, 256))(x)\n",
    "\n",
    "    # Upsampling using transposed convolutions\n",
    "    x = layers.Conv2DTranspose(128, (5, 5), strides=(1, 1), padding=\"same\", activation=\"relu\")(x)\n",
    "    x = layers.Conv2DTranspose(64, (5, 5), strides=(2, 2), padding=\"same\", activation=\"relu\")(x)\n",
    "    x = layers.Conv2DTranspose(1, (5, 5), strides=(2, 2), padding=\"same\", activation=\"tanh\")(x)\n",
    "\n",
    "    return tf.keras.Model([noise, label], x, name=\"Generator\")"
   ]
  },
  {
   "cell_type": "code",
   "execution_count": null,
   "metadata": {},
   "outputs": [],
   "source": [
    "\n",
    "# # Step 4: Define the Discriminator model\n",
    "# def build_discriminator():\n",
    "#     \"\"\"\n",
    "#     Creates the Discriminator model.\n",
    "#     The discriminator takes an image as input and predicts:\n",
    "#     1. Whether the image is real or fake (binary classification).\n",
    "#     2. The class label of the image (multi-class classification).\n",
    "#     \"\"\"\n",
    "#     img = layers.Input(shape=IMG_SHAPE)\n",
    "\n",
    "#     # Convolutional layers for feature extraction\n",
    "#     x = layers.Conv2D(64, (5, 5), strides=(2, 2), padding=\"same\", activation=\"relu\")(img)\n",
    "#     x = layers.Conv2D(128, (5, 5), strides=(2, 2), padding=\"same\", activation=\"relu\")(x)\n",
    "#     x = layers.Flatten()(x)\n",
    "\n",
    "#     # Real/Fake classification output\n",
    "#     real_fake = layers.Dense(1, activation=\"sigmoid\", name=\"real_fake\")(x)\n",
    "\n",
    "#     # Class label prediction output\n",
    "#     class_label = layers.Dense(NUM_CLASSES, activation=\"softmax\", name=\"class_label\")(x)\n",
    "\n",
    "#     return tf.keras.Model(img, [real_fake, class_label], name=\"Discriminator\")\n",
    "\n",
    "\n"
   ]
  },
  {
   "cell_type": "code",
   "execution_count": 60,
   "metadata": {},
   "outputs": [],
   "source": [
    "IMG_HEIGHT = 32  # Height of input images\n",
    "IMG_WIDTH = 32   # Width of input images\n",
    "IMG_CHANNELS = 3 # Number of color channels (3 for RGB, 1 for grayscale)\n",
    "IMG_SHAPE = (28, 28, 1)  # Shape of MNIST images\n",
    "\n"
   ]
  },
  {
   "cell_type": "code",
   "execution_count": 61,
   "metadata": {},
   "outputs": [],
   "source": [
    "def build_discriminator():\n",
    "    img = layers.Input(shape=IMG_SHAPE)  # Use MNIST image shape\n",
    "\n",
    "    x = layers.Conv2D(32, (3, 3), strides=(2, 2), padding=\"same\")(img)\n",
    "    x = layers.LeakyReLU(0.2)(x)\n",
    "    x = layers.Dropout(0.3)(x)\n",
    "\n",
    "    x = layers.Conv2D(64, (3, 3), strides=(2, 2), padding=\"same\")(x)\n",
    "    x = layers.LeakyReLU(0.2)(x)\n",
    "    x = layers.Dropout(0.3)(x)\n",
    "\n",
    "    x = layers.Flatten()(x)\n",
    "    x = layers.Dense(128)(x)\n",
    "    x = layers.LeakyReLU(0.2)(x)\n",
    "\n",
    "    # Outputs for real/fake classification and class label prediction\n",
    "    validity = layers.Dense(1, activation=\"sigmoid\", name=\"validity\")(x)\n",
    "    label = layers.Dense(NUM_CLASSES, activation=\"softmax\", name=\"label\")(x)\n",
    "\n",
    "    return tf.keras.Model(img, [validity, label], name=\"discriminator\")\n"
   ]
  },
  {
   "cell_type": "code",
   "execution_count": null,
   "metadata": {},
   "outputs": [
    {
     "ename": "NameError",
     "evalue": "name 'x' is not defined",
     "output_type": "error",
     "traceback": [
      "\u001b[1;31m---------------------------------------------------------------------------\u001b[0m",
      "\u001b[1;31mNameError\u001b[0m                                 Traceback (most recent call last)",
      "Cell \u001b[1;32mIn[67], line 1\u001b[0m\n\u001b[1;32m----> 1\u001b[0m x \u001b[38;5;241m=\u001b[39m layers\u001b[38;5;241m.\u001b[39mConv2DTranspose(\u001b[38;5;241m1\u001b[39m, (\u001b[38;5;241m5\u001b[39m, \u001b[38;5;241m5\u001b[39m), strides\u001b[38;5;241m=\u001b[39m(\u001b[38;5;241m2\u001b[39m, \u001b[38;5;241m2\u001b[39m), padding\u001b[38;5;241m=\u001b[39m\u001b[38;5;124m\"\u001b[39m\u001b[38;5;124msame\u001b[39m\u001b[38;5;124m\"\u001b[39m, activation\u001b[38;5;241m=\u001b[39m\u001b[38;5;124m\"\u001b[39m\u001b[38;5;124mtanh\u001b[39m\u001b[38;5;124m\"\u001b[39m)(\u001b[43mx\u001b[49m)\n",
      "\u001b[1;31mNameError\u001b[0m: name 'x' is not defined"
     ]
    }
   ],
   "source": []
  },
  {
   "cell_type": "code",
   "execution_count": 68,
   "metadata": {},
   "outputs": [],
   "source": [
    "# Step 5: Compile the models\n",
    "\n",
    "def compile_models(generator, discriminator):\n",
    "    \"\"\"\n",
    "    Compiles the Generator, Discriminator, and the combined GAN model.\n",
    "    \"\"\"\n",
    "    # # Loss functions\n",
    "    # adversarial_loss = tf.keras.losses.BinaryCrossentropy(from_logits=False)\n",
    "    # classification_loss = tf.keras.losses.SparseCategoricalCrossentropy()\n",
    "\n",
    "    # Optimizer\n",
    "    optimizer = tf.keras.optimizers.Adam(LEARNING_RATE, beta_1=0.5)\n",
    "\n",
    "    # # Compile the discriminator\n",
    "    # discriminator.compile(\n",
    "    #     loss=[adversarial_loss, classification_loss],\n",
    "    #     optimizer=optimizer,\n",
    "    #     metrics=[\"accuracy\"],  # General metrics for all outputs\n",
    "    # )\n",
    "\n",
    "    adversarial_loss = tf.keras.losses.BinaryCrossentropy(from_logits=False)\n",
    "    classification_loss = tf.keras.losses.SparseCategoricalCrossentropy()\n",
    "\n",
    "    discriminator.compile(\n",
    "        loss=[adversarial_loss, classification_loss],\n",
    "        optimizer=tf.keras.optimizers.Adam(0.0002, beta_1=0.5),\n",
    "        metrics=[\"accuracy\"]  # Optional metrics for debugging\n",
    ")\n",
    "\n",
    "    # Freeze discriminator weights for combined model training\n",
    "    discriminator.trainable = False\n",
    "\n",
    "    # Combined GAN model\n",
    "    noise = layers.Input(shape=(NOISE_DIM,))\n",
    "    label = layers.Input(shape=(1,))\n",
    "    img = generator([noise, label])  # Generated image\n",
    "    valid, target_label = discriminator(img)  # Discriminator outputs\n",
    "\n",
    "    combined = tf.keras.Model([noise, label], [valid, target_label])\n",
    "    combined.compile(\n",
    "        loss=[adversarial_loss, classification_loss], optimizer=optimizer\n",
    "    )\n",
    "\n",
    "    return generator, discriminator, combined\n",
    "\n"
   ]
  },
  {
   "cell_type": "code",
   "execution_count": 73,
   "metadata": {},
   "outputs": [],
   "source": [
    "# Step 6: Train the models\n",
    "def train(generator, discriminator, combined, x_train, y_train):\n",
    "    \"\"\"\n",
    "    Trains the ACGAN models by alternating between:\n",
    "    1. Training the discriminator on real and fake images.\n",
    "    2. Training the generator to fool the discriminator and generate images with correct labels.\n",
    "    \"\"\"\n",
    "    # Create TensorFlow dataset\n",
    "    dataset = tf.data.Dataset.from_tensor_slices((x_train, y_train))\n",
    "    dataset = dataset.shuffle(BUFFER_SIZE).batch(BATCH_SIZE)\n",
    "\n",
    "    for epoch in range(EPOCHS):\n",
    "        for real_images, labels in dataset:\n",
    "            batch_size = real_images.shape[0]\n",
    "\n",
    "            # Generate fake images\n",
    "            noise = np.random.normal(0, 1, (batch_size, NOISE_DIM))\n",
    "            fake_labels = np.random.randint(0, NUM_CLASSES, batch_size)\n",
    "            fake_images = generator.predict([noise, fake_labels])\n",
    "\n",
    "            # Labels for discriminator\n",
    "            valid = np.ones((batch_size, 1))  # Real images -> \"valid\"\n",
    "            fake = np.zeros((batch_size, 1))  # Fake images -> \"fake\"\n",
    "\n",
    "            # Train discriminator\n",
    "            d_loss_real = discriminator.train_on_batch(real_images, [valid, labels])\n",
    "            d_loss_fake = discriminator.train_on_batch(fake_images, [fake, fake_labels])\n",
    "            d_loss = 0.5 * np.add(d_loss_real, d_loss_fake)\n",
    "\n",
    "            # Train generator\n",
    "            noise = np.random.normal(0, 1, (batch_size, NOISE_DIM))\n",
    "            fake_labels = np.random.randint(0, NUM_CLASSES, batch_size)\n",
    "            valid = np.ones((batch_size, 1))  # Generator tries to produce \"real\"\n",
    "\n",
    "            g_loss = combined.train_on_batch([noise, fake_labels], [valid, fake_labels])\n",
    "\n",
    "        # Print progress\n",
    "        print(\n",
    "            f\"Epoch {epoch + 1}/{EPOCHS} - D loss: {d_loss[0]:.4f}, G loss: {g_loss[0]:.4f}\"\n",
    "        )\n",
    "\n",
    "        # Save samples every few epochs\n",
    "        if (epoch + 1) % 10 == 0:\n",
    "            save_samples(generator, epoch + 1)\n"
   ]
  },
  {
   "cell_type": "code",
   "execution_count": 70,
   "metadata": {},
   "outputs": [],
   "source": [
    "# Step 7: Visualize generated images\n",
    "def save_samples(generator, epoch):\n",
    "    \"\"\"\n",
    "    Generates and saves a grid of images for each class (0-9).\n",
    "    \"\"\"\n",
    "    noise = np.random.normal(0, 1, (NUM_CLASSES, NOISE_DIM))\n",
    "    labels = np.arange(NUM_CLASSES)\n",
    "    generated_images = generator.predict([noise, labels])\n",
    "\n",
    "    # Rescale images from [-1, 1] to [0, 1]\n",
    "    generated_images = 0.5 * generated_images + 0.5\n",
    "\n",
    "    # Plot and save\n",
    "    fig, axs = plt.subplots(1, NUM_CLASSES, figsize=(20, 4))\n",
    "    for i in range(NUM_CLASSES):\n",
    "        axs[i].imshow(generated_images[i].squeeze(), cmap=\"gray\")\n",
    "        axs[i].axis(\"off\")\n",
    "        axs[i].set_title(f\"Digit: {i}\")\n",
    "    plt.savefig(f\"acgan_generated_epoch_{epoch}.png\")\n",
    "    plt.show()"
   ]
  },
  {
   "cell_type": "code",
   "execution_count": 71,
   "metadata": {},
   "outputs": [],
   "source": [
    "def train(generator, discriminator, combined, x_train, y_train):\n",
    "    for epoch in range(EPOCHS):\n",
    "        for real_images, labels in dataset:\n",
    "            batch_size = real_images.shape[0]\n",
    "\n",
    "            # Real/Fake labels\n",
    "            valid = np.ones((batch_size, 1))  # Shape (batch_size, 1)\n",
    "            fake = np.zeros((batch_size, 1))  # Shape (batch_size, 1)\n",
    "\n",
    "            # Generate fake images\n",
    "            noise = np.random.normal(0, 1, (batch_size, NOISE_DIM))\n",
    "            fake_labels = np.random.randint(0, NUM_CLASSES, batch_size)\n",
    "            fake_images = generator.predict([noise, fake_labels])\n",
    "\n",
    "            # Train discriminator\n",
    "            d_loss_real = discriminator.train_on_batch(real_images, [valid, labels])\n",
    "            d_loss_fake = discriminator.train_on_batch(fake_images, [fake, fake_labels])\n",
    "            d_loss = 0.5 * np.add(d_loss_real, d_loss_fake)\n",
    "\n",
    "            # Train generator\n",
    "            valid = np.ones((batch_size, 1))  # Generator tries to produce \"real\"\n",
    "            g_loss = combined.train_on_batch([noise, fake_labels], [valid, fake_labels])\n",
    "\n",
    "        print(f\"Epoch {epoch}/{EPOCHS} - D loss: {d_loss[0]:.4f}, G loss: {g_loss[0]:.4f}\")\n"
   ]
  },
  {
   "cell_type": "code",
   "execution_count": 74,
   "metadata": {},
   "outputs": [
    {
     "name": "stdout",
     "output_type": "stream",
     "text": [
      "WARNING:tensorflow:6 out of the last 11 calls to <function TensorFlowTrainer.make_predict_function.<locals>.one_step_on_data_distributed at 0x0000017E54BF3EE0> triggered tf.function retracing. Tracing is expensive and the excessive number of tracings could be due to (1) creating @tf.function repeatedly in a loop, (2) passing tensors with different shapes, (3) passing Python objects instead of tensors. For (1), please define your @tf.function outside of the loop. For (2), @tf.function has reduce_retracing=True option that can avoid unnecessary retracing. For (3), please refer to https://www.tensorflow.org/guide/function#controlling_retracing and https://www.tensorflow.org/api_docs/python/tf/function for  more details.\n",
      "\u001b[1m2/2\u001b[0m \u001b[32m━━━━━━━━━━━━━━━━━━━━\u001b[0m\u001b[37m\u001b[0m \u001b[1m0s\u001b[0m 20ms/step \n"
     ]
    },
    {
     "name": "stderr",
     "output_type": "stream",
     "text": [
      "c:\\Users\\Rishu\\AppData\\Local\\anaconda3\\envs\\rexxes\\lib\\site-packages\\keras\\src\\models\\functional.py:225: UserWarning: The structure of `inputs` doesn't match the expected structure: ['keras_tensor_277', 'keras_tensor_278']. Received: the structure of inputs=('*', '*')\n",
      "  warnings.warn(\n"
     ]
    },
    {
     "ename": "AttributeError",
     "evalue": "'NoneType' object has no attribute 'update_state'",
     "output_type": "error",
     "traceback": [
      "\u001b[1;31m---------------------------------------------------------------------------\u001b[0m",
      "\u001b[1;31mAttributeError\u001b[0m                            Traceback (most recent call last)",
      "Cell \u001b[1;32mIn[74], line 7\u001b[0m\n\u001b[0;32m      5\u001b[0m discriminator \u001b[38;5;241m=\u001b[39m build_discriminator()  \u001b[38;5;66;03m# Create discriminator\u001b[39;00m\n\u001b[0;32m      6\u001b[0m generator, discriminator, combined \u001b[38;5;241m=\u001b[39m compile_models(generator, discriminator)\n\u001b[1;32m----> 7\u001b[0m \u001b[43mtrain\u001b[49m\u001b[43m(\u001b[49m\u001b[43mgenerator\u001b[49m\u001b[43m,\u001b[49m\u001b[43m \u001b[49m\u001b[43mdiscriminator\u001b[49m\u001b[43m,\u001b[49m\u001b[43m \u001b[49m\u001b[43mcombined\u001b[49m\u001b[43m,\u001b[49m\u001b[43m \u001b[49m\u001b[43mx_train\u001b[49m\u001b[43m,\u001b[49m\u001b[43m \u001b[49m\u001b[43my_train\u001b[49m\u001b[43m)\u001b[49m  \u001b[38;5;66;03m# Train models\u001b[39;00m\n",
      "Cell \u001b[1;32mIn[73], line 26\u001b[0m, in \u001b[0;36mtrain\u001b[1;34m(generator, discriminator, combined, x_train, y_train)\u001b[0m\n\u001b[0;32m     23\u001b[0m fake \u001b[38;5;241m=\u001b[39m np\u001b[38;5;241m.\u001b[39mzeros((batch_size, \u001b[38;5;241m1\u001b[39m))  \u001b[38;5;66;03m# Fake images -> \"fake\"\u001b[39;00m\n\u001b[0;32m     25\u001b[0m \u001b[38;5;66;03m# Train discriminator\u001b[39;00m\n\u001b[1;32m---> 26\u001b[0m d_loss_real \u001b[38;5;241m=\u001b[39m \u001b[43mdiscriminator\u001b[49m\u001b[38;5;241;43m.\u001b[39;49m\u001b[43mtrain_on_batch\u001b[49m\u001b[43m(\u001b[49m\u001b[43mreal_images\u001b[49m\u001b[43m,\u001b[49m\u001b[43m \u001b[49m\u001b[43m[\u001b[49m\u001b[43mvalid\u001b[49m\u001b[43m,\u001b[49m\u001b[43m \u001b[49m\u001b[43mlabels\u001b[49m\u001b[43m]\u001b[49m\u001b[43m)\u001b[49m\n\u001b[0;32m     27\u001b[0m d_loss_fake \u001b[38;5;241m=\u001b[39m discriminator\u001b[38;5;241m.\u001b[39mtrain_on_batch(fake_images, [fake, fake_labels])\n\u001b[0;32m     28\u001b[0m d_loss \u001b[38;5;241m=\u001b[39m \u001b[38;5;241m0.5\u001b[39m \u001b[38;5;241m*\u001b[39m np\u001b[38;5;241m.\u001b[39madd(d_loss_real, d_loss_fake)\n",
      "File \u001b[1;32mc:\\Users\\Rishu\\AppData\\Local\\anaconda3\\envs\\rexxes\\lib\\site-packages\\keras\\src\\backend\\tensorflow\\trainer.py:549\u001b[0m, in \u001b[0;36mTensorFlowTrainer.train_on_batch\u001b[1;34m(self, x, y, sample_weight, class_weight, return_dict)\u001b[0m\n\u001b[0;32m    546\u001b[0m \u001b[38;5;28;01mdef\u001b[39;00m \u001b[38;5;21mdata\u001b[39m():\n\u001b[0;32m    547\u001b[0m     \u001b[38;5;28;01myield\u001b[39;00m (x, y, sample_weight)\n\u001b[1;32m--> 549\u001b[0m logs \u001b[38;5;241m=\u001b[39m \u001b[38;5;28;43mself\u001b[39;49m\u001b[38;5;241;43m.\u001b[39;49m\u001b[43mtrain_function\u001b[49m\u001b[43m(\u001b[49m\u001b[43mdata\u001b[49m\u001b[43m(\u001b[49m\u001b[43m)\u001b[49m\u001b[43m)\u001b[49m\n\u001b[0;32m    550\u001b[0m logs \u001b[38;5;241m=\u001b[39m tree\u001b[38;5;241m.\u001b[39mmap_structure(\u001b[38;5;28;01mlambda\u001b[39;00m x: np\u001b[38;5;241m.\u001b[39marray(x), logs)\n\u001b[0;32m    551\u001b[0m \u001b[38;5;28;01mif\u001b[39;00m return_dict:\n",
      "File \u001b[1;32mc:\\Users\\Rishu\\AppData\\Local\\anaconda3\\envs\\rexxes\\lib\\site-packages\\tensorflow\\python\\util\\traceback_utils.py:153\u001b[0m, in \u001b[0;36mfilter_traceback.<locals>.error_handler\u001b[1;34m(*args, **kwargs)\u001b[0m\n\u001b[0;32m    151\u001b[0m \u001b[38;5;28;01mexcept\u001b[39;00m \u001b[38;5;167;01mException\u001b[39;00m \u001b[38;5;28;01mas\u001b[39;00m e:\n\u001b[0;32m    152\u001b[0m   filtered_tb \u001b[38;5;241m=\u001b[39m _process_traceback_frames(e\u001b[38;5;241m.\u001b[39m__traceback__)\n\u001b[1;32m--> 153\u001b[0m   \u001b[38;5;28;01mraise\u001b[39;00m e\u001b[38;5;241m.\u001b[39mwith_traceback(filtered_tb) \u001b[38;5;28;01mfrom\u001b[39;00m \u001b[38;5;28;01mNone\u001b[39;00m\n\u001b[0;32m    154\u001b[0m \u001b[38;5;28;01mfinally\u001b[39;00m:\n\u001b[0;32m    155\u001b[0m   \u001b[38;5;28;01mdel\u001b[39;00m filtered_tb\n",
      "File \u001b[1;32mc:\\Users\\Rishu\\AppData\\Local\\anaconda3\\envs\\rexxes\\lib\\site-packages\\keras\\src\\backend\\tensorflow\\trainer.py:121\u001b[0m, in \u001b[0;36mTensorFlowTrainer.make_train_function.<locals>.one_step_on_iterator\u001b[1;34m(iterator)\u001b[0m\n\u001b[0;32m    119\u001b[0m \u001b[38;5;250m\u001b[39m\u001b[38;5;124;03m\"\"\"Runs a single training step given a Dataset iterator.\"\"\"\u001b[39;00m\n\u001b[0;32m    120\u001b[0m data \u001b[38;5;241m=\u001b[39m \u001b[38;5;28mnext\u001b[39m(iterator)\n\u001b[1;32m--> 121\u001b[0m outputs \u001b[38;5;241m=\u001b[39m \u001b[38;5;28;43mself\u001b[39;49m\u001b[38;5;241;43m.\u001b[39;49m\u001b[43mdistribute_strategy\u001b[49m\u001b[38;5;241;43m.\u001b[39;49m\u001b[43mrun\u001b[49m\u001b[43m(\u001b[49m\n\u001b[0;32m    122\u001b[0m \u001b[43m    \u001b[49m\u001b[43mone_step_on_data\u001b[49m\u001b[43m,\u001b[49m\u001b[43m \u001b[49m\u001b[43margs\u001b[49m\u001b[38;5;241;43m=\u001b[39;49m\u001b[43m(\u001b[49m\u001b[43mdata\u001b[49m\u001b[43m,\u001b[49m\u001b[43m)\u001b[49m\n\u001b[0;32m    123\u001b[0m \u001b[43m\u001b[49m\u001b[43m)\u001b[49m\n\u001b[0;32m    124\u001b[0m outputs \u001b[38;5;241m=\u001b[39m reduce_per_replica(\n\u001b[0;32m    125\u001b[0m     outputs,\n\u001b[0;32m    126\u001b[0m     \u001b[38;5;28mself\u001b[39m\u001b[38;5;241m.\u001b[39mdistribute_strategy,\n\u001b[0;32m    127\u001b[0m     reduction\u001b[38;5;241m=\u001b[39m\u001b[38;5;124m\"\u001b[39m\u001b[38;5;124mauto\u001b[39m\u001b[38;5;124m\"\u001b[39m,\n\u001b[0;32m    128\u001b[0m )\n\u001b[0;32m    129\u001b[0m \u001b[38;5;28;01mreturn\u001b[39;00m outputs\n",
      "File \u001b[1;32mc:\\Users\\Rishu\\AppData\\Local\\anaconda3\\envs\\rexxes\\lib\\site-packages\\keras\\src\\backend\\tensorflow\\trainer.py:108\u001b[0m, in \u001b[0;36mTensorFlowTrainer.make_train_function.<locals>.one_step_on_data\u001b[1;34m(data)\u001b[0m\n\u001b[0;32m    105\u001b[0m \u001b[38;5;129m@tf\u001b[39m\u001b[38;5;241m.\u001b[39mautograph\u001b[38;5;241m.\u001b[39mexperimental\u001b[38;5;241m.\u001b[39mdo_not_convert\n\u001b[0;32m    106\u001b[0m \u001b[38;5;28;01mdef\u001b[39;00m \u001b[38;5;21mone_step_on_data\u001b[39m(data):\n\u001b[0;32m    107\u001b[0m \u001b[38;5;250m    \u001b[39m\u001b[38;5;124;03m\"\"\"Runs a single training step on a batch of data.\"\"\"\u001b[39;00m\n\u001b[1;32m--> 108\u001b[0m     \u001b[38;5;28;01mreturn\u001b[39;00m \u001b[38;5;28;43mself\u001b[39;49m\u001b[38;5;241;43m.\u001b[39;49m\u001b[43mtrain_step\u001b[49m\u001b[43m(\u001b[49m\u001b[43mdata\u001b[49m\u001b[43m)\u001b[49m\n",
      "File \u001b[1;32mc:\\Users\\Rishu\\AppData\\Local\\anaconda3\\envs\\rexxes\\lib\\site-packages\\keras\\src\\backend\\tensorflow\\trainer.py:61\u001b[0m, in \u001b[0;36mTensorFlowTrainer.train_step\u001b[1;34m(self, data)\u001b[0m\n\u001b[0;32m     53\u001b[0m     y_pred \u001b[38;5;241m=\u001b[39m \u001b[38;5;28mself\u001b[39m(x)\n\u001b[0;32m     54\u001b[0m loss \u001b[38;5;241m=\u001b[39m \u001b[38;5;28mself\u001b[39m\u001b[38;5;241m.\u001b[39m_compute_loss(\n\u001b[0;32m     55\u001b[0m     x\u001b[38;5;241m=\u001b[39mx,\n\u001b[0;32m     56\u001b[0m     y\u001b[38;5;241m=\u001b[39my,\n\u001b[1;32m   (...)\u001b[0m\n\u001b[0;32m     59\u001b[0m     training\u001b[38;5;241m=\u001b[39m\u001b[38;5;28;01mTrue\u001b[39;00m,\n\u001b[0;32m     60\u001b[0m )\n\u001b[1;32m---> 61\u001b[0m \u001b[38;5;28mself\u001b[39m\u001b[38;5;241m.\u001b[39m_loss_tracker\u001b[38;5;241m.\u001b[39mupdate_state(\n\u001b[0;32m     62\u001b[0m     loss, sample_weight\u001b[38;5;241m=\u001b[39mtf\u001b[38;5;241m.\u001b[39mshape(tree\u001b[38;5;241m.\u001b[39mflatten(x)[\u001b[38;5;241m0\u001b[39m])[\u001b[38;5;241m0\u001b[39m]\n\u001b[0;32m     63\u001b[0m )\n\u001b[0;32m     64\u001b[0m \u001b[38;5;28;01mif\u001b[39;00m \u001b[38;5;28mself\u001b[39m\u001b[38;5;241m.\u001b[39moptimizer \u001b[38;5;129;01mis\u001b[39;00m \u001b[38;5;129;01mnot\u001b[39;00m \u001b[38;5;28;01mNone\u001b[39;00m:\n\u001b[0;32m     65\u001b[0m     loss \u001b[38;5;241m=\u001b[39m \u001b[38;5;28mself\u001b[39m\u001b[38;5;241m.\u001b[39moptimizer\u001b[38;5;241m.\u001b[39mscale_loss(loss)\n",
      "\u001b[1;31mAttributeError\u001b[0m: 'NoneType' object has no attribute 'update_state'"
     ]
    }
   ],
   "source": [
    "# Step 8: Run the ACGAN\n",
    "if __name__ == \"__main__\":\n",
    "    x_train, y_train = preprocess_data()  # Load data\n",
    "    generator = build_generator()  # Create generator\n",
    "    discriminator = build_discriminator()  # Create discriminator\n",
    "    generator, discriminator, combined = compile_models(generator, discriminator)\n",
    "    train(generator, discriminator, combined, x_train, y_train)  # Train models"
   ]
  },
  {
   "cell_type": "code",
   "execution_count": null,
   "metadata": {},
   "outputs": [],
   "source": []
  },
  {
   "cell_type": "code",
   "execution_count": null,
   "metadata": {},
   "outputs": [],
   "source": []
  },
  {
   "cell_type": "code",
   "execution_count": null,
   "metadata": {},
   "outputs": [],
   "source": []
  }
 ],
 "metadata": {
  "kernelspec": {
   "display_name": "rexxes",
   "language": "python",
   "name": "python3"
  },
  "language_info": {
   "codemirror_mode": {
    "name": "ipython",
    "version": 3
   },
   "file_extension": ".py",
   "mimetype": "text/x-python",
   "name": "python",
   "nbconvert_exporter": "python",
   "pygments_lexer": "ipython3",
   "version": "3.9.19"
  }
 },
 "nbformat": 4,
 "nbformat_minor": 2
}
