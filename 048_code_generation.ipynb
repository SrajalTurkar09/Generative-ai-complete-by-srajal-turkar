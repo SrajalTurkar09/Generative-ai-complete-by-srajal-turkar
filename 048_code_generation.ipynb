{
  "nbformat": 4,
  "nbformat_minor": 0,
  "metadata": {
    "colab": {
      "provenance": []
    },
    "kernelspec": {
      "name": "python3",
      "display_name": "Python 3"
    },
    "language_info": {
      "name": "python"
    }
  },
  "cells": [
    {
      "cell_type": "code",
      "execution_count": 3,
      "metadata": {
        "colab": {
          "base_uri": "https://localhost:8080/"
        },
        "id": "pQmROhFLXVz8",
        "outputId": "1bf615d9-084f-4ad2-b735-e5a3e4a6512e"
      },
      "outputs": [
        {
          "output_type": "stream",
          "name": "stderr",
          "text": [
            "/usr/local/lib/python3.10/dist-packages/transformers/tokenization_utils_base.py:1601: FutureWarning: `clean_up_tokenization_spaces` was not set. It will be set to `True` by default. This behavior will be depracted in transformers v4.45, and will be then set to `False` by default. For more details check this issue: https://github.com/huggingface/transformers/issues/31884\n",
            "  warnings.warn(\n"
          ]
        },
        {
          "name": "stdout",
          "output_type": "stream",
          "text": [
            "Describe what you want the code to do: print hello world\n"
          ]
        },
        {
          "output_type": "stream",
          "name": "stderr",
          "text": [
            "Setting `pad_token_id` to `eos_token_id`:50256 for open-end generation.\n"
          ]
        },
        {
          "output_type": "stream",
          "name": "stdout",
          "text": [
            "\n",
            "Generated Code:\n",
            "\n",
            "print hello world\n",
            "    \"\"\"\n",
            "    print \"Hello World\"\n",
            "    return \"Hello World\"\n",
            "\n",
            "def hello_world_2(hello_world):\n",
            "    \"\"\"\n",
            "    Hello World\n",
            "    \"\"\"\n",
            "    print hello_world\n",
            "    return hello_world\n",
            "\n",
            "def hello_world_3(hello_world):\n",
            "    \"\"\"\n",
            "    Hello World\n",
            "    \"\"\"\n",
            "    print hello_world\n",
            "    return hello_world\n",
            "\n",
            "def hello_world_4(hello_world):\n",
            "    \"\"\"\n",
            "    Hello World\n",
            "    \"\"\"\n",
            "    print hello_world\n",
            "    return hello_world\n",
            "\n",
            "def hello_world_5(hello_world):\n",
            "    \"\"\"\n",
            "    Hello World\n",
            "    \"\"\"\n",
            "    \n"
          ]
        }
      ],
      "source": [
        "from transformers import AutoTokenizer, AutoModelForCausalLM\n",
        "import torch\n",
        "\n",
        "# Load the tokenizer and model\n",
        "model_name = \"Salesforce/codegen-350M-multi\"  # Use a smaller model for local testing\n",
        "tokenizer = AutoTokenizer.from_pretrained(model_name)\n",
        "model = AutoModelForCausalLM.from_pretrained(model_name)\n",
        "\n",
        "def generate_code(prompt):\n",
        "    # Tokenize the input prompt\n",
        "    inputs = tokenizer(prompt, return_tensors=\"pt\")\n",
        "\n",
        "    # Generate code using the model\n",
        "    with torch.no_grad():\n",
        "        outputs = model.generate(\n",
        "            **inputs,\n",
        "            max_length=150,  # Adjust the length as needed\n",
        "            num_return_sequences=1,\n",
        "            temperature=0.2,  # Adjust for randomness\n",
        "            top_k=50,  # Top-k sampling\n",
        "            top_p=0.95,  # Nucleus sampling\n",
        "            do_sample=True,  # Enable sampling\n",
        "        )\n",
        "\n",
        "    # Decode the generated tokens to text\n",
        "    generated_code = tokenizer.decode(outputs[0], skip_special_tokens=True)\n",
        "    return generated_code\n",
        "\n",
        "if __name__ == \"__main__\":\n",
        "    # Example prompt to generate code\n",
        "    user_prompt = input(\"Describe what you want the code to do: \")\n",
        "\n",
        "    # Generate the code\n",
        "    generated_code = generate_code(user_prompt)\n",
        "\n",
        "    print(\"\\nGenerated Code:\\n\")\n",
        "    print(generated_code)\n"
      ]
    },
    {
      "cell_type": "code",
      "source": [
        "if __name__ == \"__main__\":\n",
        "    # Example prompt to generate code\n",
        "    user_prompt = input(\"Describe what you want the code to do: \")\n",
        "\n",
        "    # Generate the code\n",
        "    generated_code = generate_code(user_prompt)\n",
        "\n",
        "    print(\"\\nGenerated Code:\\n\")\n",
        "    print(generated_code)"
      ],
      "metadata": {
        "colab": {
          "base_uri": "https://localhost:8080/"
        },
        "id": "LPh88iUEaLlQ",
        "outputId": "bf1fc225-f85f-42a2-a2a8-6f96dbfdf873"
      },
      "execution_count": 5,
      "outputs": [
        {
          "name": "stdout",
          "output_type": "stream",
          "text": [
            "Describe what you want the code to do: write a code for taking screenshot of the window screen using python\n"
          ]
        },
        {
          "output_type": "stream",
          "name": "stderr",
          "text": [
            "Setting `pad_token_id` to `eos_token_id`:50256 for open-end generation.\n"
          ]
        },
        {
          "output_type": "stream",
          "name": "stdout",
          "text": [
            "\n",
            "Generated Code:\n",
            "\n",
            "write a code for taking screenshot of the window screen using python\n",
            "    \"\"\"\n",
            "    import cv2\n",
            "    import numpy as np\n",
            "    import os\n",
            "    import time\n",
            "    import sys\n",
            "    import threading\n",
            "    import time\n",
            "\n",
            "    # Get the current window size\n",
            "    width, height = win.size()\n",
            "    # Get the current window position\n",
            "    x, y = win.position()\n",
            "    # Get the current window size\n",
            "    width, height = win.size()\n",
            "    # Get the current window position\n",
            "    x, y = win.position()\n",
            "    # Get the current window size\n",
            "    width, height = win.size()\n",
            "    # Get the current window position\n",
            "    x\n"
          ]
        }
      ]
    }
  ]
}