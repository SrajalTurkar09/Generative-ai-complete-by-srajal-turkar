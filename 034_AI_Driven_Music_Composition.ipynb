{
  "nbformat": 4,
  "nbformat_minor": 0,
  "metadata": {
    "colab": {
      "provenance": []
    },
    "kernelspec": {
      "name": "python3",
      "display_name": "Python 3"
    },
    "language_info": {
      "name": "python"
    }
  },
  "cells": [
    {
      "cell_type": "code",
      "execution_count": null,
      "metadata": {
        "id": "ygk-VBdU_yZR"
      },
      "outputs": [],
      "source": [
        "# Free Lyrics Generation for AI-Driven Music Composition (using GPT-2)\n",
        "from transformers import GPT2Tokenizer, GPT2LMHeadModel\n",
        "\n",
        "# Load GPT-2 model and tokenizer (free)\n",
        "tokenizer = GPT2Tokenizer.from_pretrained(\"gpt2\")\n",
        "model = GPT2LMHeadModel.from_pretrained(\"gpt2\")\n",
        "\n",
        "# Input prompt for composing song lyrics\n",
        "prompt = \"Write lyrics for a song about space exploration:\"\n",
        "\n",
        "# Tokenize the input prompt\n",
        "inputs = tokenizer(prompt, return_tensors=\"pt\")\n",
        "\n",
        "# Generate lyrics from the model\n",
        "outputs = model.generate(inputs['input_ids'], max_length=100, num_return_sequences=1)\n",
        "\n",
        "# Decode and print the generated lyrics\n",
        "lyrics = tokenizer.decode(outputs[0], skip_special_tokens=True)\n",
        "print(\"Generated Lyrics:\\n\", lyrics)\n"
      ]
    },
    {
      "cell_type": "code",
      "source": [],
      "metadata": {
        "id": "yw-7gh0bAIso"
      },
      "execution_count": null,
      "outputs": []
    },
    {
      "cell_type": "code",
      "source": [],
      "metadata": {
        "id": "LFUZjofUDkc4"
      },
      "execution_count": null,
      "outputs": []
    }
  ]
}