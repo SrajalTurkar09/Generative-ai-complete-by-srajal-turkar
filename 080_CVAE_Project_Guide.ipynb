{
  "cells": [
    {
      "cell_type": "markdown",
      "id": "a8c46c39",
      "metadata": {
        "id": "a8c46c39"
      },
      "source": [
        "# Conditional Variational Autoencoder (CVAE) Project\n",
        "This notebook implements a Conditional Variational Autoencoder (CVAE) for generating images conditioned on specific labels using the MNIST dataset. The CVAE combines deep learning with probabilistic methods to enable controlled image generation."
      ]
    },
    {
      "cell_type": "markdown",
      "id": "efa33442",
      "metadata": {
        "id": "efa33442"
      },
      "source": [
        "## Step 1: Data Preparation\n",
        "Load and preprocess the MNIST dataset. Normalize image pixel values to [0, 1] and one-hot encode the labels to use as conditions."
      ]
    },
    {
      "cell_type": "code",
      "execution_count": 1,
      "id": "0a626002",
      "metadata": {
        "colab": {
          "base_uri": "https://localhost:8080/"
        },
        "id": "0a626002",
        "outputId": "6e0934d0-a9c1-4bce-8c01-4bf7bf854675"
      },
      "outputs": [
        {
          "output_type": "stream",
          "name": "stdout",
          "text": [
            "Downloading data from https://storage.googleapis.com/tensorflow/tf-keras-datasets/mnist.npz\n",
            "\u001b[1m11490434/11490434\u001b[0m \u001b[32m━━━━━━━━━━━━━━━━━━━━\u001b[0m\u001b[37m\u001b[0m \u001b[1m0s\u001b[0m 0us/step\n"
          ]
        }
      ],
      "source": [
        "\n",
        "import tensorflow as tf\n",
        "from tensorflow.keras.datasets import mnist\n",
        "import numpy as np\n",
        "\n",
        "# Load MNIST dataset\n",
        "(x_train, y_train), (x_test, y_test) = mnist.load_data()\n",
        "\n",
        "# Normalize images to range [0, 1]\n",
        "x_train = x_train.astype(\"float32\") / 255.0\n",
        "x_test = x_test.astype(\"float32\") / 255.0\n",
        "\n",
        "# Reshape images to add a channel dimension\n",
        "x_train = np.expand_dims(x_train, axis=-1)\n",
        "x_test = np.expand_dims(x_test, axis=-1)\n",
        "\n",
        "# One-hot encode the labels\n",
        "y_train_onehot = tf.keras.utils.to_categorical(y_train, num_classes=10)\n",
        "y_test_onehot = tf.keras.utils.to_categorical(y_test, num_classes=10)\n",
        ""
      ]
    },
    {
      "cell_type": "markdown",
      "id": "d5597d8d",
      "metadata": {
        "id": "d5597d8d"
      },
      "source": [
        "## Step 2: Build the Encoder\n",
        "The encoder processes the input image and condition, then outputs the latent space parameters (mean and log variance)."
      ]
    },
    {
      "cell_type": "code",
      "execution_count": 2,
      "id": "71f6fa80",
      "metadata": {
        "id": "71f6fa80"
      },
      "outputs": [],
      "source": [
        "\n",
        "from tensorflow.keras.layers import Input, Flatten, Dense, Concatenate, Conv2D\n",
        "from tensorflow.keras.models import Model\n",
        "\n",
        "# Latent space size\n",
        "latent_dim = 2\n",
        "\n",
        "# Encoder model\n",
        "def build_encoder():\n",
        "    image_input = Input(shape=(28, 28, 1), name=\"image_input\")\n",
        "    label_input = Input(shape=(10,), name=\"label_input\")\n",
        "\n",
        "    # Process image\n",
        "    x = Conv2D(32, (3, 3), activation=\"relu\", strides=2, padding=\"same\")(image_input)\n",
        "    x = Conv2D(64, (3, 3), activation=\"relu\", strides=2, padding=\"same\")(x)\n",
        "    x = Flatten()(x)\n",
        "\n",
        "    # Concatenate image features with label\n",
        "    x = Concatenate()([x, label_input])\n",
        "    x = Dense(128, activation=\"relu\")(x)\n",
        "\n",
        "    # Output latent parameters\n",
        "    z_mean = Dense(latent_dim, name=\"z_mean\")(x)\n",
        "    z_log_var = Dense(latent_dim, name=\"z_log_var\")(x)\n",
        "\n",
        "    return Model([image_input, label_input], [z_mean, z_log_var], name=\"encoder\")\n",
        ""
      ]
    },
    {
      "cell_type": "markdown",
      "id": "9e435930",
      "metadata": {
        "id": "9e435930"
      },
      "source": [
        "## Step 3: Latent Space Sampling\n",
        "The reparameterization trick is used to sample from the latent space."
      ]
    },
    {
      "cell_type": "code",
      "execution_count": 3,
      "id": "4378ced6",
      "metadata": {
        "id": "4378ced6"
      },
      "outputs": [],
      "source": [
        "\n",
        "import tensorflow.keras.backend as K\n",
        "\n",
        "def sampling(args):\n",
        "    z_mean, z_log_var = args\n",
        "    epsilon = K.random_normal(shape=(K.shape(z_mean)[0], latent_dim))\n",
        "    return z_mean + K.exp(0.5 * z_log_var) * epsilon\n",
        ""
      ]
    },
    {
      "cell_type": "markdown",
      "id": "09bd68ea",
      "metadata": {
        "id": "09bd68ea"
      },
      "source": [
        "## Step 4: Build the Decoder\n",
        "The decoder reconstructs the image from the latent variable and condition."
      ]
    },
    {
      "cell_type": "code",
      "execution_count": 4,
      "id": "92f09063",
      "metadata": {
        "id": "92f09063"
      },
      "outputs": [],
      "source": [
        "\n",
        "from tensorflow.keras.layers import Reshape, Conv2DTranspose\n",
        "\n",
        "def build_decoder():\n",
        "    latent_input = Input(shape=(latent_dim,), name=\"latent_input\")\n",
        "    label_input = Input(shape=(10,), name=\"label_input\")\n",
        "\n",
        "    # Concatenate latent variable with label\n",
        "    x = Concatenate()([latent_input, label_input])\n",
        "    x = Dense(7 * 7 * 64, activation=\"relu\")(x)\n",
        "    x = Reshape((7, 7, 64))(x)\n",
        "\n",
        "    # Upsample to reconstruct image\n",
        "    x = Conv2DTranspose(64, (3, 3), activation=\"relu\", strides=2, padding=\"same\")(x)\n",
        "    x = Conv2DTranspose(32, (3, 3), activation=\"relu\", strides=2, padding=\"same\")(x)\n",
        "    x = Conv2DTranspose(1, (3, 3), activation=\"sigmoid\", padding=\"same\")(x)\n",
        "\n",
        "    return Model([latent_input, label_input], x, name=\"decoder\")\n",
        ""
      ]
    },
    {
      "cell_type": "markdown",
      "id": "b57eb3ab",
      "metadata": {
        "id": "b57eb3ab"
      },
      "source": [
        "## Step 5: Build the CVAE\n",
        "Combine the encoder, latent sampling, and decoder to create the CVAE model."
      ]
    },
    {
      "cell_type": "code",
      "execution_count": 7,
      "id": "35b6476a",
      "metadata": {
        "id": "35b6476a"
      },
      "outputs": [],
      "source": [
        "from tensorflow.keras.layers import Input, Flatten, Dense, Concatenate, Conv2D, Lambda # Added Lambda import\n",
        "from tensorflow.keras.models import Model\n",
        "\n",
        "# ... (rest of the code remains the same)\n",
        "# Instantiate encoder and decoder\n",
        "encoder = build_encoder()\n",
        "decoder = build_decoder()\n",
        "\n",
        "# Define the CVAE model\n",
        "image_input = Input(shape=(28, 28, 1))\n",
        "label_input = Input(shape=(10,))\n",
        "\n",
        "# Encode to latent space\n",
        "z_mean, z_log_var = encoder([image_input, label_input])\n",
        "z = Lambda(sampling, name=\"z_sampling\")([z_mean, z_log_var])\n",
        "\n",
        "# Decode latent space to reconstruct image\n",
        "reconstructed = decoder([z, label_input])\n",
        "\n",
        "# Define the CVAE model\n",
        "cvae = Model([image_input, label_input], reconstructed, name=\"cvae\")\n",
        ""
      ]
    },
    {
      "cell_type": "markdown",
      "id": "4402af4e",
      "metadata": {
        "id": "4402af4e"
      },
      "source": [
        "## Step 6: Loss Function\n",
        "The loss combines reconstruction loss and KL divergence."
      ]
    },
    {
      "cell_type": "code",
      "execution_count": 23,
      "id": "75d600cb",
      "metadata": {
        "id": "75d600cb"
      },
      "outputs": [],
      "source": [
        "from tensorflow.keras.layers import Lambda\n",
        "from tensorflow.keras.losses import mse\n",
        "from tensorflow.keras import backend as K\n",
        "\n",
        "# Define a custom layer for adding the KL divergence to the loss\n",
        "class KLLossLayer(tf.keras.layers.Layer):\n",
        "    def __init__(self, **kwargs):\n",
        "        super(KLLossLayer, self).__init__(**kwargs)\n",
        "\n",
        "    def call(self, inputs):\n",
        "        z_mean, z_log_var = inputs\n",
        "        kl_loss = -0.5 * K.sum(1 + z_log_var - K.square(z_mean) - K.exp(z_log_var), axis=-1)\n",
        "        self.add_loss(kl_loss)\n",
        "        return z_mean  # Passing z_mean downstream\n",
        "\n",
        "# Rebuild the CVAE with the KL divergence as part of the graph\n",
        "z_mean, z_log_var = encoder([image_input, label_input])\n",
        "z_mean = KLLossLayer()([z_mean, z_log_var])  # KL loss is added here\n",
        "z = Lambda(sampling, name=\"z_sampling\")([z_mean, z_log_var])\n",
        "\n",
        "# Decode latent space to reconstruct image\n",
        "reconstructed = decoder([z, label_input])\n",
        "\n",
        "# Define the CVAE model\n",
        "cvae = Model([image_input, label_input], reconstructed, name=\"cvae\")\n",
        "\n",
        "# Compile the model with only the reconstruction loss (KL is added automatically)\n",
        "def reconstruction_loss(y_true, y_pred):\n",
        "    return mse(K.flatten(y_true), K.flatten(y_pred)) * 28 * 28\n",
        "\n",
        "cvae.compile(optimizer=\"adam\", loss=reconstruction_loss)\n"
      ]
    },
    {
      "cell_type": "markdown",
      "id": "14cc2eb0",
      "metadata": {
        "id": "14cc2eb0"
      },
      "source": [
        "## Step 7: Training\n",
        "Train the CVAE on the MNIST dataset."
      ]
    },
    {
      "cell_type": "code",
      "execution_count": 24,
      "id": "ea956d04",
      "metadata": {
        "colab": {
          "base_uri": "https://localhost:8080/"
        },
        "id": "ea956d04",
        "outputId": "ae8d2210-607d-46a6-b2ec-04b786bb4a0e"
      },
      "outputs": [
        {
          "output_type": "stream",
          "name": "stdout",
          "text": [
            "Epoch 1/50\n",
            "\u001b[1m469/469\u001b[0m \u001b[32m━━━━━━━━━━━━━━━━━━━━\u001b[0m\u001b[37m\u001b[0m \u001b[1m15s\u001b[0m 18ms/step - loss: 66.2992 - val_loss: 42.2160\n",
            "Epoch 2/50\n",
            "\u001b[1m469/469\u001b[0m \u001b[32m━━━━━━━━━━━━━━━━━━━━\u001b[0m\u001b[37m\u001b[0m \u001b[1m11s\u001b[0m 7ms/step - loss: 42.3275 - val_loss: 41.6750\n",
            "Epoch 3/50\n",
            "\u001b[1m469/469\u001b[0m \u001b[32m━━━━━━━━━━━━━━━━━━━━\u001b[0m\u001b[37m\u001b[0m \u001b[1m3s\u001b[0m 7ms/step - loss: 41.9536 - val_loss: 41.7346\n",
            "Epoch 4/50\n",
            "\u001b[1m469/469\u001b[0m \u001b[32m━━━━━━━━━━━━━━━━━━━━\u001b[0m\u001b[37m\u001b[0m \u001b[1m3s\u001b[0m 6ms/step - loss: 42.0126 - val_loss: 41.6257\n",
            "Epoch 5/50\n",
            "\u001b[1m469/469\u001b[0m \u001b[32m━━━━━━━━━━━━━━━━━━━━\u001b[0m\u001b[37m\u001b[0m \u001b[1m5s\u001b[0m 7ms/step - loss: 41.8823 - val_loss: 41.5369\n",
            "Epoch 6/50\n",
            "\u001b[1m469/469\u001b[0m \u001b[32m━━━━━━━━━━━━━━━━━━━━\u001b[0m\u001b[37m\u001b[0m \u001b[1m3s\u001b[0m 7ms/step - loss: 41.8679 - val_loss: 41.5589\n",
            "Epoch 7/50\n",
            "\u001b[1m469/469\u001b[0m \u001b[32m━━━━━━━━━━━━━━━━━━━━\u001b[0m\u001b[37m\u001b[0m \u001b[1m5s\u001b[0m 7ms/step - loss: 41.9456 - val_loss: 41.5499\n",
            "Epoch 8/50\n",
            "\u001b[1m469/469\u001b[0m \u001b[32m━━━━━━━━━━━━━━━━━━━━\u001b[0m\u001b[37m\u001b[0m \u001b[1m3s\u001b[0m 7ms/step - loss: 41.9179 - val_loss: 41.5396\n",
            "Epoch 9/50\n",
            "\u001b[1m469/469\u001b[0m \u001b[32m━━━━━━━━━━━━━━━━━━━━\u001b[0m\u001b[37m\u001b[0m \u001b[1m3s\u001b[0m 7ms/step - loss: 41.8652 - val_loss: 41.5581\n",
            "Epoch 10/50\n",
            "\u001b[1m469/469\u001b[0m \u001b[32m━━━━━━━━━━━━━━━━━━━━\u001b[0m\u001b[37m\u001b[0m \u001b[1m5s\u001b[0m 7ms/step - loss: 41.9048 - val_loss: 41.5197\n",
            "Epoch 11/50\n",
            "\u001b[1m469/469\u001b[0m \u001b[32m━━━━━━━━━━━━━━━━━━━━\u001b[0m\u001b[37m\u001b[0m \u001b[1m3s\u001b[0m 7ms/step - loss: 41.9215 - val_loss: 41.5664\n",
            "Epoch 12/50\n",
            "\u001b[1m469/469\u001b[0m \u001b[32m━━━━━━━━━━━━━━━━━━━━\u001b[0m\u001b[37m\u001b[0m \u001b[1m6s\u001b[0m 10ms/step - loss: 41.8554 - val_loss: 41.5589\n",
            "Epoch 13/50\n",
            "\u001b[1m469/469\u001b[0m \u001b[32m━━━━━━━━━━━━━━━━━━━━\u001b[0m\u001b[37m\u001b[0m \u001b[1m3s\u001b[0m 7ms/step - loss: 41.8382 - val_loss: 41.8215\n",
            "Epoch 14/50\n",
            "\u001b[1m469/469\u001b[0m \u001b[32m━━━━━━━━━━━━━━━━━━━━\u001b[0m\u001b[37m\u001b[0m \u001b[1m3s\u001b[0m 7ms/step - loss: 41.9218 - val_loss: 41.5237\n",
            "Epoch 15/50\n",
            "\u001b[1m469/469\u001b[0m \u001b[32m━━━━━━━━━━━━━━━━━━━━\u001b[0m\u001b[37m\u001b[0m \u001b[1m5s\u001b[0m 8ms/step - loss: 41.7644 - val_loss: 41.5593\n",
            "Epoch 16/50\n",
            "\u001b[1m469/469\u001b[0m \u001b[32m━━━━━━━━━━━━━━━━━━━━\u001b[0m\u001b[37m\u001b[0m \u001b[1m5s\u001b[0m 7ms/step - loss: 41.7349 - val_loss: 41.5337\n",
            "Epoch 17/50\n",
            "\u001b[1m469/469\u001b[0m \u001b[32m━━━━━━━━━━━━━━━━━━━━\u001b[0m\u001b[37m\u001b[0m \u001b[1m3s\u001b[0m 7ms/step - loss: 41.8520 - val_loss: 41.5359\n",
            "Epoch 18/50\n",
            "\u001b[1m469/469\u001b[0m \u001b[32m━━━━━━━━━━━━━━━━━━━━\u001b[0m\u001b[37m\u001b[0m \u001b[1m6s\u001b[0m 8ms/step - loss: 41.7776 - val_loss: 41.5501\n",
            "Epoch 19/50\n",
            "\u001b[1m469/469\u001b[0m \u001b[32m━━━━━━━━━━━━━━━━━━━━\u001b[0m\u001b[37m\u001b[0m \u001b[1m3s\u001b[0m 7ms/step - loss: 41.8603 - val_loss: 41.5654\n",
            "Epoch 20/50\n",
            "\u001b[1m469/469\u001b[0m \u001b[32m━━━━━━━━━━━━━━━━━━━━\u001b[0m\u001b[37m\u001b[0m \u001b[1m3s\u001b[0m 7ms/step - loss: 41.8787 - val_loss: 41.5811\n",
            "Epoch 21/50\n",
            "\u001b[1m469/469\u001b[0m \u001b[32m━━━━━━━━━━━━━━━━━━━━\u001b[0m\u001b[37m\u001b[0m \u001b[1m5s\u001b[0m 7ms/step - loss: 41.8647 - val_loss: 41.5620\n",
            "Epoch 22/50\n",
            "\u001b[1m469/469\u001b[0m \u001b[32m━━━━━━━━━━━━━━━━━━━━\u001b[0m\u001b[37m\u001b[0m \u001b[1m5s\u001b[0m 7ms/step - loss: 41.8536 - val_loss: 41.5539\n",
            "Epoch 23/50\n",
            "\u001b[1m469/469\u001b[0m \u001b[32m━━━━━━━━━━━━━━━━━━━━\u001b[0m\u001b[37m\u001b[0m \u001b[1m5s\u001b[0m 7ms/step - loss: 41.7127 - val_loss: 41.5211\n",
            "Epoch 24/50\n",
            "\u001b[1m469/469\u001b[0m \u001b[32m━━━━━━━━━━━━━━━━━━━━\u001b[0m\u001b[37m\u001b[0m \u001b[1m5s\u001b[0m 7ms/step - loss: 41.8191 - val_loss: 41.5083\n",
            "Epoch 25/50\n",
            "\u001b[1m469/469\u001b[0m \u001b[32m━━━━━━━━━━━━━━━━━━━━\u001b[0m\u001b[37m\u001b[0m \u001b[1m6s\u001b[0m 8ms/step - loss: 41.9019 - val_loss: 41.5375\n",
            "Epoch 26/50\n",
            "\u001b[1m469/469\u001b[0m \u001b[32m━━━━━━━━━━━━━━━━━━━━\u001b[0m\u001b[37m\u001b[0m \u001b[1m5s\u001b[0m 7ms/step - loss: 41.8664 - val_loss: 41.5246\n",
            "Epoch 27/50\n",
            "\u001b[1m469/469\u001b[0m \u001b[32m━━━━━━━━━━━━━━━━━━━━\u001b[0m\u001b[37m\u001b[0m \u001b[1m3s\u001b[0m 7ms/step - loss: 41.8549 - val_loss: 41.5371\n",
            "Epoch 28/50\n",
            "\u001b[1m469/469\u001b[0m \u001b[32m━━━━━━━━━━━━━━━━━━━━\u001b[0m\u001b[37m\u001b[0m \u001b[1m3s\u001b[0m 7ms/step - loss: 41.8405 - val_loss: 41.5308\n",
            "Epoch 29/50\n",
            "\u001b[1m469/469\u001b[0m \u001b[32m━━━━━━━━━━━━━━━━━━━━\u001b[0m\u001b[37m\u001b[0m \u001b[1m6s\u001b[0m 7ms/step - loss: 41.7772 - val_loss: 41.5359\n",
            "Epoch 30/50\n",
            "\u001b[1m469/469\u001b[0m \u001b[32m━━━━━━━━━━━━━━━━━━━━\u001b[0m\u001b[37m\u001b[0m \u001b[1m5s\u001b[0m 7ms/step - loss: 41.7812 - val_loss: 41.5420\n",
            "Epoch 31/50\n",
            "\u001b[1m469/469\u001b[0m \u001b[32m━━━━━━━━━━━━━━━━━━━━\u001b[0m\u001b[37m\u001b[0m \u001b[1m3s\u001b[0m 7ms/step - loss: 41.8071 - val_loss: 41.4924\n",
            "Epoch 32/50\n",
            "\u001b[1m469/469\u001b[0m \u001b[32m━━━━━━━━━━━━━━━━━━━━\u001b[0m\u001b[37m\u001b[0m \u001b[1m5s\u001b[0m 8ms/step - loss: 41.9268 - val_loss: 41.5194\n",
            "Epoch 33/50\n",
            "\u001b[1m469/469\u001b[0m \u001b[32m━━━━━━━━━━━━━━━━━━━━\u001b[0m\u001b[37m\u001b[0m \u001b[1m5s\u001b[0m 7ms/step - loss: 41.9448 - val_loss: 41.5055\n",
            "Epoch 34/50\n",
            "\u001b[1m469/469\u001b[0m \u001b[32m━━━━━━━━━━━━━━━━━━━━\u001b[0m\u001b[37m\u001b[0m \u001b[1m5s\u001b[0m 7ms/step - loss: 41.7878 - val_loss: 41.5190\n",
            "Epoch 35/50\n",
            "\u001b[1m469/469\u001b[0m \u001b[32m━━━━━━━━━━━━━━━━━━━━\u001b[0m\u001b[37m\u001b[0m \u001b[1m5s\u001b[0m 7ms/step - loss: 41.8596 - val_loss: 41.5265\n",
            "Epoch 36/50\n",
            "\u001b[1m469/469\u001b[0m \u001b[32m━━━━━━━━━━━━━━━━━━━━\u001b[0m\u001b[37m\u001b[0m \u001b[1m3s\u001b[0m 7ms/step - loss: 41.8187 - val_loss: 41.5521\n",
            "Epoch 37/50\n",
            "\u001b[1m469/469\u001b[0m \u001b[32m━━━━━━━━━━━━━━━━━━━━\u001b[0m\u001b[37m\u001b[0m \u001b[1m3s\u001b[0m 7ms/step - loss: 41.8123 - val_loss: 41.5406\n",
            "Epoch 38/50\n",
            "\u001b[1m469/469\u001b[0m \u001b[32m━━━━━━━━━━━━━━━━━━━━\u001b[0m\u001b[37m\u001b[0m \u001b[1m3s\u001b[0m 7ms/step - loss: 41.7510 - val_loss: 41.5508\n",
            "Epoch 39/50\n",
            "\u001b[1m469/469\u001b[0m \u001b[32m━━━━━━━━━━━━━━━━━━━━\u001b[0m\u001b[37m\u001b[0m \u001b[1m3s\u001b[0m 7ms/step - loss: 41.8446 - val_loss: 41.5719\n",
            "Epoch 40/50\n",
            "\u001b[1m469/469\u001b[0m \u001b[32m━━━━━━━━━━━━━━━━━━━━\u001b[0m\u001b[37m\u001b[0m \u001b[1m5s\u001b[0m 7ms/step - loss: 41.8016 - val_loss: 41.5413\n",
            "Epoch 41/50\n",
            "\u001b[1m469/469\u001b[0m \u001b[32m━━━━━━━━━━━━━━━━━━━━\u001b[0m\u001b[37m\u001b[0m \u001b[1m3s\u001b[0m 7ms/step - loss: 41.8531 - val_loss: 41.5932\n",
            "Epoch 42/50\n",
            "\u001b[1m469/469\u001b[0m \u001b[32m━━━━━━━━━━━━━━━━━━━━\u001b[0m\u001b[37m\u001b[0m \u001b[1m3s\u001b[0m 7ms/step - loss: 41.8250 - val_loss: 41.5798\n",
            "Epoch 43/50\n",
            "\u001b[1m469/469\u001b[0m \u001b[32m━━━━━━━━━━━━━━━━━━━━\u001b[0m\u001b[37m\u001b[0m \u001b[1m5s\u001b[0m 7ms/step - loss: 41.8397 - val_loss: 41.5396\n",
            "Epoch 44/50\n",
            "\u001b[1m469/469\u001b[0m \u001b[32m━━━━━━━━━━━━━━━━━━━━\u001b[0m\u001b[37m\u001b[0m \u001b[1m3s\u001b[0m 7ms/step - loss: 41.8150 - val_loss: 41.5209\n",
            "Epoch 45/50\n",
            "\u001b[1m469/469\u001b[0m \u001b[32m━━━━━━━━━━━━━━━━━━━━\u001b[0m\u001b[37m\u001b[0m \u001b[1m3s\u001b[0m 7ms/step - loss: 41.7566 - val_loss: 41.5607\n",
            "Epoch 46/50\n",
            "\u001b[1m469/469\u001b[0m \u001b[32m━━━━━━━━━━━━━━━━━━━━\u001b[0m\u001b[37m\u001b[0m \u001b[1m5s\u001b[0m 7ms/step - loss: 41.7441 - val_loss: 41.5149\n",
            "Epoch 47/50\n",
            "\u001b[1m469/469\u001b[0m \u001b[32m━━━━━━━━━━━━━━━━━━━━\u001b[0m\u001b[37m\u001b[0m \u001b[1m3s\u001b[0m 7ms/step - loss: 41.7718 - val_loss: 41.4982\n",
            "Epoch 48/50\n",
            "\u001b[1m469/469\u001b[0m \u001b[32m━━━━━━━━━━━━━━━━━━━━\u001b[0m\u001b[37m\u001b[0m \u001b[1m3s\u001b[0m 7ms/step - loss: 41.8425 - val_loss: 41.5473\n",
            "Epoch 49/50\n",
            "\u001b[1m469/469\u001b[0m \u001b[32m━━━━━━━━━━━━━━━━━━━━\u001b[0m\u001b[37m\u001b[0m \u001b[1m5s\u001b[0m 7ms/step - loss: 41.8164 - val_loss: 41.5424\n",
            "Epoch 50/50\n",
            "\u001b[1m469/469\u001b[0m \u001b[32m━━━━━━━━━━━━━━━━━━━━\u001b[0m\u001b[37m\u001b[0m \u001b[1m5s\u001b[0m 7ms/step - loss: 41.8096 - val_loss: 41.5388\n"
          ]
        },
        {
          "output_type": "execute_result",
          "data": {
            "text/plain": [
              "<keras.src.callbacks.history.History at 0x7960445e3f10>"
            ]
          },
          "metadata": {},
          "execution_count": 24
        }
      ],
      "source": [
        "\n",
        "cvae.fit([x_train, y_train_onehot], x_train,\n",
        "         epochs=50,\n",
        "         batch_size=128,\n",
        "         validation_data=([x_test, y_test_onehot], x_test))\n",
        ""
      ]
    },
    {
      "cell_type": "markdown",
      "id": "cdddf5e9",
      "metadata": {
        "id": "cdddf5e9"
      },
      "source": [
        "## Step 8: Conditional Image Generation\n",
        "Generate new images by sampling from the latent space and providing specific conditions."
      ]
    },
    {
      "cell_type": "code",
      "execution_count": 27,
      "id": "f36122ee",
      "metadata": {
        "colab": {
          "base_uri": "https://localhost:8080/",
          "height": 158
        },
        "id": "f36122ee",
        "outputId": "c7171220-3364-4cfe-ce26-e847d9081c42"
      },
      "outputs": [
        {
          "output_type": "stream",
          "name": "stdout",
          "text": [
            "\u001b[1m1/1\u001b[0m \u001b[32m━━━━━━━━━━━━━━━━━━━━\u001b[0m\u001b[37m\u001b[0m \u001b[1m0s\u001b[0m 17ms/step\n"
          ]
        },
        {
          "output_type": "display_data",
          "data": {
            "text/plain": [
              "<Figure size 640x480 with 10 Axes>"
            ],
            "image/png": "[encoded data removed]"
          },
          "metadata": {}
        },
        {
          "output_type": "display_data",
          "data": {
            "text/plain": [
              "<Figure size 640x480 with 10 Axes>"
            ],
            "image/png": "[encoded data removed]"
          },
          "metadata": {}
        }
      ],
      "source": [
        "\n",
        "import matplotlib.pyplot as plt\n",
        "\n",
        "def generate_images(label, num_images=10):\n",
        "    # Create one-hot encoded label\n",
        "    condition = np.zeros((num_images, 10))\n",
        "    condition[:, label] = 1\n",
        "\n",
        "    # Sample random latent variables\n",
        "    latent_samples = np.random.normal(size=(num_images, latent_dim))\n",
        "\n",
        "    # Generate images\n",
        "    generated_images = decoder.predict([latent_samples, condition])\n",
        "\n",
        "    # Plot images\n",
        "    for i, img in enumerate(generated_images):\n",
        "        plt.subplot(1, num_images, i + 1)\n",
        "        plt.imshow(img.squeeze(), cmap=\"gray\")\n",
        "        plt.axis(\"off\")\n",
        "    plt.show()\n",
        "\n",
        "# Generate images for the digit \"7\"\n",
        "generate_images(label=9)\n",
        "\n",
        "\n",
        "# generate original images\n",
        "for i in range(10):\n",
        "    plt.subplot(1, 10, i + 1)\n",
        "    plt.imshow(x_test[i].squeeze(), cmap=\"gray\")\n",
        "    plt.axis(\"off\")\n",
        "plt.show()\n",
        ""
      ]
    },
    {
      "cell_type": "code",
      "source": [],
      "metadata": {
        "id": "8o0N5YupZUwx"
      },
      "id": "8o0N5YupZUwx",
      "execution_count": null,
      "outputs": []
    }
  ],
  "metadata": {
    "colab": {
      "provenance": [],
      "gpuType": "T4"
    },
    "accelerator": "GPU",
    "language_info": {
      "name": "python"
    },
    "kernelspec": {
      "name": "python3",
      "display_name": "Python 3"
    }
  },
  "nbformat": 4,
  "nbformat_minor": 5
}