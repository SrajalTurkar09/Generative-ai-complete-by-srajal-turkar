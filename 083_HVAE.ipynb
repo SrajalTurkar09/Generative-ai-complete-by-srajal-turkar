{
 "cells": [
  {
   "cell_type": "markdown",
   "id": "83a2f99f",
   "metadata": {},
   "source": [
    "# Project: Face Generation Using Hierarchical VAEs"
   ]
  },
  {
   "cell_type": "code",
   "execution_count": 1,
   "id": "38f9e51b",
   "metadata": {},
   "outputs": [
    {
     "ename": "AttributeError",
     "evalue": "module 'keras.api.datasets' has no attribute 'celeb_a'",
     "output_type": "error",
     "traceback": [
      "\u001b[1;31m---------------------------------------------------------------------------\u001b[0m",
      "\u001b[1;31mAttributeError\u001b[0m                            Traceback (most recent call last)",
      "Cell \u001b[1;32mIn[1], line 8\u001b[0m\n\u001b[0;32m      4\u001b[0m \u001b[38;5;28;01mimport\u001b[39;00m \u001b[38;5;21;01mmatplotlib\u001b[39;00m\u001b[38;5;21;01m.\u001b[39;00m\u001b[38;5;21;01mpyplot\u001b[39;00m \u001b[38;5;28;01mas\u001b[39;00m \u001b[38;5;21;01mplt\u001b[39;00m\n\u001b[0;32m      6\u001b[0m \u001b[38;5;66;03m# Load CelebA dataset (make sure it's downloaded and available)\u001b[39;00m\n\u001b[0;32m      7\u001b[0m \u001b[38;5;66;03m# TensorFlow has a dataset API for CelebA (alternatively, you can use other sources)\u001b[39;00m\n\u001b[1;32m----> 8\u001b[0m dataset \u001b[38;5;241m=\u001b[39m \u001b[43mtf\u001b[49m\u001b[38;5;241;43m.\u001b[39;49m\u001b[43mkeras\u001b[49m\u001b[38;5;241;43m.\u001b[39;49m\u001b[43mdatasets\u001b[49m\u001b[38;5;241;43m.\u001b[39;49m\u001b[43mceleb_a\u001b[49m\u001b[38;5;241m.\u001b[39mload_data()\n\u001b[0;32m     10\u001b[0m \u001b[38;5;66;03m# Preprocess data: Normalize and resize images to 64x64 pixels\u001b[39;00m\n\u001b[0;32m     11\u001b[0m image_size \u001b[38;5;241m=\u001b[39m (\u001b[38;5;241m64\u001b[39m, \u001b[38;5;241m64\u001b[39m)\n",
      "\u001b[1;31mAttributeError\u001b[0m: module 'keras.api.datasets' has no attribute 'celeb_a'"
     ]
    }
   ],
   "source": [
    "\n",
    "import tensorflow as tf\n",
    "from tensorflow.keras.preprocessing.image import ImageDataGenerator\n",
    "import numpy as np\n",
    "import matplotlib.pyplot as plt\n",
    "\n",
    "# Load CelebA dataset (make sure it's downloaded and available)\n",
    "# TensorFlow has a dataset API for CelebA (alternatively, you can use other sources)\n",
    "dataset = tf.keras.datasets.celeb_a.load_data()\n",
    "\n",
    "# Preprocess data: Normalize and resize images to 64x64 pixels\n",
    "image_size = (64, 64)\n",
    "def preprocess_data(images):\n",
    "    images = tf.image.resize(images, image_size)  # Resize to 64x64\n",
    "    images = images / 255.0  # Normalize pixel values to [0, 1]\n",
    "    return images\n",
    "\n",
    "train_images = preprocess_data(dataset[0][0])  # Use training data\n",
    "val_images = preprocess_data(dataset[1][0])  # Use validation data\n",
    "\n",
    "# Visualize sample images\n",
    "plt.figure(figsize=(10, 10))\n",
    "for i in range(9):\n",
    "    plt.subplot(3, 3, i+1)\n",
    "    plt.imshow(train_images[i])\n",
    "    plt.axis('off')\n",
    "plt.show()\n"
   ]
  },
  {
   "cell_type": "code",
   "execution_count": null,
   "id": "1b0230cb",
   "metadata": {},
   "outputs": [],
   "source": [
    "\n",
    "from tensorflow.keras.layers import Input, Dense, Flatten, Reshape, Conv2D, Conv2DTranspose\n",
    "from tensorflow.keras.models import Model\n",
    "\n",
    "# Encoder - hierarchical structure\n",
    "def create_encoder():\n",
    "    inputs = Input(shape=(64, 64, 3))\n",
    "    \n",
    "    # First level of encoding (low-level features)\n",
    "    x = Conv2D(32, (3, 3), strides=2, activation='relu')(inputs)\n",
    "    x = Conv2D(64, (3, 3), strides=2, activation='relu')(x)\n",
    "    x = Flatten()(x)\n",
    "    \n",
    "    # Second level of encoding (higher-level features)\n",
    "    z1 = Dense(256, activation='relu')(x)\n",
    "    z2 = Dense(256, activation='relu')(x)\n",
    "    \n",
    "    # Final latent variables (hierarchical latent layers)\n",
    "    z1_mean = Dense(128)(z1)  # Latent variable 1\n",
    "    z2_mean = Dense(128)(z2)  # Latent variable 2\n",
    "\n",
    "    model = Model(inputs, [z1_mean, z2_mean], name=\"encoder\")\n",
    "    return model\n",
    "\n",
    "# Decoder - generating the image from latent variables\n",
    "def create_decoder():\n",
    "    latent_inputs = Input(shape=(128,))\n",
    "    \n",
    "    # Combining the hierarchical latent variables\n",
    "    x = Dense(256, activation='relu')(latent_inputs)\n",
    "    x = Dense(8*8*128, activation='relu')(x)\n",
    "    x = Reshape((8, 8, 128))(x)\n",
    "    \n",
    "    # Deconvolutional layers (upsampling to image size)\n",
    "    x = Conv2DTranspose(64, (3, 3), strides=2, activation='relu')(x)\n",
    "    x = Conv2DTranspose(32, (3, 3), strides=2, activation='relu')(x)\n",
    "    outputs = Conv2DTranspose(3, (3, 3), activation='sigmoid')(x)  # Output image (3 channels for RGB)\n",
    "\n",
    "    model = Model(latent_inputs, outputs, name=\"decoder\")\n",
    "    return model\n",
    "\n",
    "# Build and compile HVAE model\n",
    "encoder = create_encoder()\n",
    "decoder = create_decoder()\n",
    "\n",
    "# Latent variable input (we take both z1_mean and z2_mean)\n",
    "latent_inputs = Input(shape=(128,))\n",
    "generated_image = decoder(latent_inputs)\n",
    "hvae = Model(latent_inputs, generated_image)\n",
    "\n",
    "hvae.compile(optimizer='adam', loss='binary_crossentropy')\n"
   ]
  },
  {
   "cell_type": "code",
   "execution_count": null,
   "id": "f961d23b",
   "metadata": {},
   "outputs": [],
   "source": [
    "\n",
    "# Training HVAE\n",
    "hvae.fit(train_images, train_images, epochs=20, batch_size=64, validation_data=(val_images, val_images))\n",
    "\n",
    "# Plot the loss curve\n",
    "plt.plot(hvae.history.history['loss'], label='Training loss')\n",
    "plt.plot(hvae.history.history['val_loss'], label='Validation loss')\n",
    "plt.legend()\n",
    "plt.title('Training and Validation Loss')\n",
    "plt.show()\n"
   ]
  },
  {
   "cell_type": "code",
   "execution_count": null,
   "id": "6a9d4199",
   "metadata": {},
   "outputs": [],
   "source": [
    "\n",
    "# Sample new latent variables (z1_mean and z2_mean)\n",
    "latent_samples = np.random.normal(size=(10, 128))  # Generate 10 samples from latent space\n",
    "\n",
    "# Generate images from the latent variables\n",
    "generated_faces = decoder.predict(latent_samples)\n",
    "\n",
    "# Visualize generated faces\n",
    "plt.figure(figsize=(10, 10))\n",
    "for i in range(10):\n",
    "    plt.subplot(2, 5, i+1)\n",
    "    plt.imshow(generated_faces[i])\n",
    "    plt.axis('off')\n",
    "plt.show()\n"
   ]
  }
 ],
 "metadata": {
  "kernelspec": {
   "display_name": "rexxes",
   "language": "python",
   "name": "python3"
  },
  "language_info": {
   "codemirror_mode": {
    "name": "ipython",
    "version": 3
   },
   "file_extension": ".py",
   "mimetype": "text/x-python",
   "name": "python",
   "nbconvert_exporter": "python",
   "pygments_lexer": "ipython3",
   "version": "3.9.19"
  }
 },
 "nbformat": 4,
 "nbformat_minor": 5
}
