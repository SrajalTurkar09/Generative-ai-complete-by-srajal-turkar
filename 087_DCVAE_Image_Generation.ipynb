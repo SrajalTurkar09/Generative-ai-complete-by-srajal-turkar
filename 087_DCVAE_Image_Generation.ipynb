
{
 "cells": [
  {
   "cell_type": "code",
   "execution_count": 1,
   "metadata": {},
   "outputs": [],
   "source": [
    "import tensorflow as tf
",
    "from tensorflow.keras import layers, models, backend as K
",
    "import numpy as np
",
    "import matplotlib.pyplot as plt
",
    "from tensorflow.keras.datasets import mnist
"
   ]
  },
  {
   "cell_type": "code",
   "execution_count": 2,
   "metadata": {},
   "outputs": [],
   "source": [
    "# Load MNIST dataset
",
    "(x_train, _), (x_test, _) = mnist.load_data()
",
    "
",
    "# Normalize and reshape data
",
    "x_train = x_train.astype('float32') / 255.0
",
    "x_test = x_test.astype('float32') / 255.0
",
    "x_train = np.expand_dims(x_train, axis=-1)  # Add channel dimension
",
    "x_test = np.expand_dims(x_test, axis=-1)
"
   ]
  },
  {
   "cell_type": "code",
   "execution_count": 3,
   "metadata": {},
   "outputs": [],
   "source": [
    "latent_dim = 2  # Dimension of latent space
",
    "
",
    "def build_encoder():
",
    "    inputs = layers.Input(shape=(28, 28, 1))
",
    "    x = layers.Conv2D(32, (3, 3), activation='relu', strides=2, padding='same')(inputs)
",
    "    x = layers.Conv2D(64, (3, 3), activation='relu', strides=2, padding='same')(x)
",
    "    x = layers.Flatten()(x)
",
    "    x = layers.Dense(16, activation='relu')(x)
",
    "    
",
    "    z_mean = layers.Dense(latent_dim, name='z_mean')(x)
",
    "    z_log_var = layers.Dense(latent_dim, name='z_log_var')(x)
",
    "    
",
    "    return models.Model(inputs, [z_mean, z_log_var], name='encoder')"
   ]
  },
  {
   "cell_type": "code",
   "execution_count": 4,
   "metadata": {},
   "outputs": [],
   "source": [
    "def sampling(z_mean, z_log_var):
",
    "    epsilon = K.random_normal(shape=(K.shape(z_mean)[0], latent_dim))
",
    "    return z_mean + K.exp(0.5 * z_log_var) * epsilon"
   ]
  },
  {
   "cell_type": "code",
   "execution_count": 5,
   "metadata": {},
   "outputs": [],
   "source": [
    "def build_decoder():
",
    "    latent_inputs = layers.Input(shape=(latent_dim,))
",
    "    x = layers.Dense(7 * 7 * 64, activation='relu')(latent_inputs)
",
    "    x = layers.Reshape((7, 7, 64))(x)
",
    "    x = layers.Conv2DTranspose(64, (3, 3), activation='relu', strides=2, padding='same')(x)
",
    "    x = layers.Conv2DTranspose(32, (3, 3), activation='relu', strides=2, padding='same')(x)
",
    "    outputs = layers.Conv2DTranspose(1, (3, 3), activation='sigmoid', padding='same')(x)
",
    "    
",
    "    return models.Model(latent_inputs, outputs, name='decoder')"
   ]
  },
  {
   "cell_type": "code",
   "execution_count": 6,
   "metadata": {},
   "outputs": [],
   "source": [
    "class VAE(models.Model):
",
    "    def __init__(self, encoder, decoder, **kwargs):
",
    "        super(VAE, self).__init__(**kwargs)
",
    "        self.encoder = encoder
",
    "        self.decoder = decoder
",
    "
",
    "    def call(self, inputs):
",
    "        z_mean, z_log_var = self.encoder(inputs)
",
    "        z = sampling(z_mean, z_log_var)
",
    "        reconstructed = self.decoder(z)
",
    "        kl_loss = -0.5 * K.sum(1 + z_log_var - K.square(z_mean) - K.exp(z_log_var), axis=-1)
",
    "        self.add_loss(K.mean(kl_loss) / 28.0)
",
    "        return reconstructed"
   ]
  },
  {
   "cell_type": "code",
   "execution_count": 7,
   "metadata": {},
   "outputs": [],
   "source": [
    "encoder = build_encoder()
",
    "decoder = build_decoder()
",
    "vae = VAE(encoder, decoder)
",
    "
",
    "vae.compile(optimizer='adam', loss='binary_crossentropy')
",
    "vae.fit(x_train, x_train, epochs=20, batch_size=128, validation_data=(x_test, x_test))"
   ]
  },
  {
   "cell_type": "code",
   "execution_count": 8,
   "metadata": {},
   "outputs": [],
   "source": [
    "def plot_reconstructions(model, data):
",
    "    reconstructed = model.predict(data[:10])
",
    "    plt.figure(figsize=(20, 4))
",
    "    for i in range(10):
",
    "        # Original image
",
    "        plt.subplot(2, 10, i + 1)
",
    "        plt.imshow(data[i].squeeze(), cmap='gray')
",
    "        plt.axis('off')
",
    "
",
    "        # Reconstructed image
",
    "        plt.subplot(2, 10, i + 11)
",
    "        plt.imshow(reconstructed[i].squeeze(), cmap='gray')
",
    "        plt.axis('off')
",
    "    plt.show()
",
    "
",
    "plot_reconstructions(vae, x_test)"
   ]
  },
  {
   "cell_type": "code",
   "execution_count": 9,
   "metadata": {},
   "outputs": [],
   "source": [
    "def generate_images(decoder, n=10):
",
    "    random_latent_vectors = np.random.normal(size=(n, latent_dim))
",
    "    generated_images = decoder.predict(random_latent_vectors)
",
    "    
",
    "    plt.figure(figsize=(20, 4))
",
    "    for i in range(n):
",
    "        plt.subplot(1, n, i + 1)
",
    "        plt.imshow(generated_images[i].squeeze(), cmap='gray')
",
    "        plt.axis('off')
",
    "    plt.show()
",
    "
",
    "generate_images(decoder)"
   ]
  }
 ],
 "metadata": {
  "kernelspec": {
   "display_name": "Python 3",
   "language": "python",
   "name": "python3"
  },
  "language_info": {
   "codemirror_mode": {
    "name": "ipython",
    "version": 3
   },
   "file_extension": ".py",
   "mimetype": "text/x-python",
   "name": "python",
   "nbconvert_exporter": "python",
   "version": "3.8.5"
  }
 },
 "nbformat": 4,
 "nbformat_minor": 5
}
