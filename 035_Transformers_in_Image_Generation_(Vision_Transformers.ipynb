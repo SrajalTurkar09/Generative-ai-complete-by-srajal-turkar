{
  "nbformat": 4,
  "nbformat_minor": 0,
  "metadata": {
    "colab": {
      "provenance": []
    },
    "kernelspec": {
      "name": "python3",
      "display_name": "Python 3"
    },
    "language_info": {
      "name": "python"
    }
  },
  "cells": [
    {
      "cell_type": "code",
      "execution_count": null,
      "metadata": {
        "id": "cyZtuH9WALDw"
      },
      "outputs": [],
      "source": [
        "# Free Vision Transformer (ViT) Example for Image Classification\n",
        "from transformers import ViTFeatureExtractor, ViTForImageClassification\n",
        "from PIL import Image\n",
        "import torch\n",
        "\n",
        "# Load a pre-trained Vision Transformer (ViT) model\n",
        "feature_extractor = ViTFeatureExtractor.from_pretrained(\"google/vit-base-patch16-224\")\n",
        "model = ViTForImageClassification.from_pretrained(\"google/vit-base-patch16-224\")\n",
        "\n",
        "# Load and preprocess the input image\n",
        "image = Image.open(\"sample_image.jpg\")  # Replace with your image path\n",
        "inputs = feature_extractor(images=image, return_tensors=\"pt\")\n",
        "\n",
        "# Perform inference and get logits for image classification\n",
        "with torch.no_grad():\n",
        "    outputs = model(**inputs)\n",
        "    logits = outputs.logits\n",
        "\n",
        "# Get the predicted class\n",
        "predicted_class = logits.argmax(-1).item()\n",
        "\n",
        "# Print the predicted class index (use a label map for real-world use)\n",
        "print(\"Predicted class index:\", predicted_class)\n"
      ]
    }
  ]
}