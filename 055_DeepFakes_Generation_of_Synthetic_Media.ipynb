{
  "nbformat": 4,
  "nbformat_minor": 0,
  "metadata": {
    "colab": {
      "provenance": [],
      "gpuType": "T4"
    },
    "kernelspec": {
      "name": "python3",
      "display_name": "Python 3"
    },
    "language_info": {
      "name": "python"
    },
    "accelerator": "GPU"
  },
  "cells": [
    {
      "cell_type": "markdown",
      "source": [
        "**1. Setup and Environment**\n"
      ],
      "metadata": {
        "id": "V4Kwdn0J2zpK"
      }
    },
    {
      "cell_type": "code",
      "execution_count": 1,
      "metadata": {
        "colab": {
          "base_uri": "https://localhost:8080/"
        },
        "id": "9INyYBNJ2res",
        "outputId": "7230ea27-b870-4802-8ba5-30d804ce9def"
      },
      "outputs": [
        {
          "output_type": "stream",
          "name": "stdout",
          "text": [
            "Requirement already satisfied: tensorflow in /usr/local/lib/python3.10/dist-packages (2.17.0)\n",
            "Requirement already satisfied: opencv-python in /usr/local/lib/python3.10/dist-packages (4.10.0.84)\n",
            "Requirement already satisfied: dlib in /usr/local/lib/python3.10/dist-packages (19.24.2)\n",
            "Requirement already satisfied: numpy in /usr/local/lib/python3.10/dist-packages (1.26.4)\n",
            "Requirement already satisfied: absl-py>=1.0.0 in /usr/local/lib/python3.10/dist-packages (from tensorflow) (1.4.0)\n",
            "Requirement already satisfied: astunparse>=1.6.0 in /usr/local/lib/python3.10/dist-packages (from tensorflow) (1.6.3)\n",
            "Requirement already satisfied: flatbuffers>=24.3.25 in /usr/local/lib/python3.10/dist-packages (from tensorflow) (24.3.25)\n",
            "Requirement already satisfied: gast!=0.5.0,!=0.5.1,!=0.5.2,>=0.2.1 in /usr/local/lib/python3.10/dist-packages (from tensorflow) (0.6.0)\n",
            "Requirement already satisfied: google-pasta>=0.1.1 in /usr/local/lib/python3.10/dist-packages (from tensorflow) (0.2.0)\n",
            "Requirement already satisfied: h5py>=3.10.0 in /usr/local/lib/python3.10/dist-packages (from tensorflow) (3.12.1)\n",
            "Requirement already satisfied: libclang>=13.0.0 in /usr/local/lib/python3.10/dist-packages (from tensorflow) (18.1.1)\n",
            "Requirement already satisfied: ml-dtypes<0.5.0,>=0.3.1 in /usr/local/lib/python3.10/dist-packages (from tensorflow) (0.4.1)\n",
            "Requirement already satisfied: opt-einsum>=2.3.2 in /usr/local/lib/python3.10/dist-packages (from tensorflow) (3.4.0)\n",
            "Requirement already satisfied: packaging in /usr/local/lib/python3.10/dist-packages (from tensorflow) (24.1)\n",
            "Requirement already satisfied: protobuf!=4.21.0,!=4.21.1,!=4.21.2,!=4.21.3,!=4.21.4,!=4.21.5,<5.0.0dev,>=3.20.3 in /usr/local/lib/python3.10/dist-packages (from tensorflow) (3.20.3)\n",
            "Requirement already satisfied: requests<3,>=2.21.0 in /usr/local/lib/python3.10/dist-packages (from tensorflow) (2.32.3)\n",
            "Requirement already satisfied: setuptools in /usr/local/lib/python3.10/dist-packages (from tensorflow) (75.1.0)\n",
            "Requirement already satisfied: six>=1.12.0 in /usr/local/lib/python3.10/dist-packages (from tensorflow) (1.16.0)\n",
            "Requirement already satisfied: termcolor>=1.1.0 in /usr/local/lib/python3.10/dist-packages (from tensorflow) (2.5.0)\n",
            "Requirement already satisfied: typing-extensions>=3.6.6 in /usr/local/lib/python3.10/dist-packages (from tensorflow) (4.12.2)\n",
            "Requirement already satisfied: wrapt>=1.11.0 in /usr/local/lib/python3.10/dist-packages (from tensorflow) (1.16.0)\n",
            "Requirement already satisfied: grpcio<2.0,>=1.24.3 in /usr/local/lib/python3.10/dist-packages (from tensorflow) (1.64.1)\n",
            "Requirement already satisfied: tensorboard<2.18,>=2.17 in /usr/local/lib/python3.10/dist-packages (from tensorflow) (2.17.0)\n",
            "Requirement already satisfied: keras>=3.2.0 in /usr/local/lib/python3.10/dist-packages (from tensorflow) (3.4.1)\n",
            "Requirement already satisfied: tensorflow-io-gcs-filesystem>=0.23.1 in /usr/local/lib/python3.10/dist-packages (from tensorflow) (0.37.1)\n",
            "Requirement already satisfied: wheel<1.0,>=0.23.0 in /usr/local/lib/python3.10/dist-packages (from astunparse>=1.6.0->tensorflow) (0.44.0)\n",
            "Requirement already satisfied: rich in /usr/local/lib/python3.10/dist-packages (from keras>=3.2.0->tensorflow) (13.9.4)\n",
            "Requirement already satisfied: namex in /usr/local/lib/python3.10/dist-packages (from keras>=3.2.0->tensorflow) (0.0.8)\n",
            "Requirement already satisfied: optree in /usr/local/lib/python3.10/dist-packages (from keras>=3.2.0->tensorflow) (0.13.0)\n",
            "Requirement already satisfied: charset-normalizer<4,>=2 in /usr/local/lib/python3.10/dist-packages (from requests<3,>=2.21.0->tensorflow) (3.4.0)\n",
            "Requirement already satisfied: idna<4,>=2.5 in /usr/local/lib/python3.10/dist-packages (from requests<3,>=2.21.0->tensorflow) (3.10)\n",
            "Requirement already satisfied: urllib3<3,>=1.21.1 in /usr/local/lib/python3.10/dist-packages (from requests<3,>=2.21.0->tensorflow) (2.2.3)\n",
            "Requirement already satisfied: certifi>=2017.4.17 in /usr/local/lib/python3.10/dist-packages (from requests<3,>=2.21.0->tensorflow) (2024.8.30)\n",
            "Requirement already satisfied: markdown>=2.6.8 in /usr/local/lib/python3.10/dist-packages (from tensorboard<2.18,>=2.17->tensorflow) (3.7)\n",
            "Requirement already satisfied: tensorboard-data-server<0.8.0,>=0.7.0 in /usr/local/lib/python3.10/dist-packages (from tensorboard<2.18,>=2.17->tensorflow) (0.7.2)\n",
            "Requirement already satisfied: werkzeug>=1.0.1 in /usr/local/lib/python3.10/dist-packages (from tensorboard<2.18,>=2.17->tensorflow) (3.1.2)\n",
            "Requirement already satisfied: MarkupSafe>=2.1.1 in /usr/local/lib/python3.10/dist-packages (from werkzeug>=1.0.1->tensorboard<2.18,>=2.17->tensorflow) (3.0.2)\n",
            "Requirement already satisfied: markdown-it-py>=2.2.0 in /usr/local/lib/python3.10/dist-packages (from rich->keras>=3.2.0->tensorflow) (3.0.0)\n",
            "Requirement already satisfied: pygments<3.0.0,>=2.13.0 in /usr/local/lib/python3.10/dist-packages (from rich->keras>=3.2.0->tensorflow) (2.18.0)\n",
            "Requirement already satisfied: mdurl~=0.1 in /usr/local/lib/python3.10/dist-packages (from markdown-it-py>=2.2.0->rich->keras>=3.2.0->tensorflow) (0.1.2)\n"
          ]
        }
      ],
      "source": [
        "pip install tensorflow opencv-python dlib numpy\n"
      ]
    },
    {
      "cell_type": "markdown",
      "source": [
        "*You will also need a pre-trained model for face alignment. For example, you can download the shape_predictor_68_face_landmarks.dat file from dlib.*"
      ],
      "metadata": {
        "id": "RjPiX55p3ADB"
      }
    },
    {
      "cell_type": "markdown",
      "source": [
        "**2. Data Collection and Preprocessing**\n",
        "\n",
        "```This part includes gathering and preparing images or videos of the source and target faces, followed by face detection and alignment using OpenCV and dlib.```"
      ],
      "metadata": {
        "id": "tinclhyg3GZy"
      }
    },
    {
      "cell_type": "code",
      "source": [
        "\n",
        "\n",
        "import cv2\n",
        "import dlib\n",
        "import numpy as np\n",
        "\n",
        "# Initialize dlib's face detector and landmark predictor\n",
        "detector = dlib.get_frontal_face_detector()\n",
        "predictor = dlib.shape_predictor(\"shape_predictor_68_face_landmarks.dat\")\n",
        "\n",
        "# Function to align faces in images\n",
        "def align_face(image):\n",
        "    # Convert image to grayscale for better face detection\n",
        "    gray = cv2.cvtColor(image, cv2.COLOR_BGR2GRAY)\n",
        "\n",
        "    # Detect faces in the image\n",
        "    faces = detector(gray)\n",
        "\n",
        "    # Loop over each detected face\n",
        "    for face in faces:\n",
        "        # Get facial landmarks\n",
        "        landmarks = predictor(gray, face)\n",
        "\n",
        "        # Align the face (crop, resize, and adjust according to landmarks)\n",
        "        aligned_face = crop_and_align(landmarks, image)  # Placeholder function to crop and align\n",
        "        return aligned_face  # Return the aligned face for further processing\n",
        "\n",
        "    return None\n",
        "\n",
        "def crop_and_align(landmarks, image):\n",
        "    # Placeholder function - crop and align based on facial landmarks\n",
        "    # You can use techniques like affine transformations to align\n",
        "    # Example: Extract face region using landmarks and crop it to a consistent size.\n",
        "    # Return the aligned face\n",
        "\n",
        "    return image\n"
      ],
      "metadata": {
        "colab": {
          "base_uri": "https://localhost:8080/",
          "height": 211
        },
        "id": "f9cxursC3Ean",
        "outputId": "c89aaa98-866e-4c64-d769-48c4fdf70163"
      },
      "execution_count": 2,
      "outputs": [
        {
          "output_type": "error",
          "ename": "RuntimeError",
          "evalue": "Unable to open shape_predictor_68_face_landmarks.dat",
          "traceback": [
            "\u001b[0;31m---------------------------------------------------------------------------\u001b[0m",
            "\u001b[0;31mRuntimeError\u001b[0m                              Traceback (most recent call last)",
            "\u001b[0;32m<ipython-input-2-a87d20fb7e28>\u001b[0m in \u001b[0;36m<cell line: 7>\u001b[0;34m()\u001b[0m\n\u001b[1;32m      5\u001b[0m \u001b[0;31m# Initialize dlib's face detector and landmark predictor\u001b[0m\u001b[0;34m\u001b[0m\u001b[0;34m\u001b[0m\u001b[0m\n\u001b[1;32m      6\u001b[0m \u001b[0mdetector\u001b[0m \u001b[0;34m=\u001b[0m \u001b[0mdlib\u001b[0m\u001b[0;34m.\u001b[0m\u001b[0mget_frontal_face_detector\u001b[0m\u001b[0;34m(\u001b[0m\u001b[0;34m)\u001b[0m\u001b[0;34m\u001b[0m\u001b[0;34m\u001b[0m\u001b[0m\n\u001b[0;32m----> 7\u001b[0;31m \u001b[0mpredictor\u001b[0m \u001b[0;34m=\u001b[0m \u001b[0mdlib\u001b[0m\u001b[0;34m.\u001b[0m\u001b[0mshape_predictor\u001b[0m\u001b[0;34m(\u001b[0m\u001b[0;34m\"shape_predictor_68_face_landmarks.dat\"\u001b[0m\u001b[0;34m)\u001b[0m\u001b[0;34m\u001b[0m\u001b[0;34m\u001b[0m\u001b[0m\n\u001b[0m\u001b[1;32m      8\u001b[0m \u001b[0;34m\u001b[0m\u001b[0m\n\u001b[1;32m      9\u001b[0m \u001b[0;31m# Function to align faces in images\u001b[0m\u001b[0;34m\u001b[0m\u001b[0;34m\u001b[0m\u001b[0m\n",
            "\u001b[0;31mRuntimeError\u001b[0m: Unable to open shape_predictor_68_face_landmarks.dat"
          ]
        }
      ]
    },
    {
      "cell_type": "markdown",
      "source": [
        "**Explanation:**\n",
        "\n",
        "    Face detection: We use dlib's face detector to identify faces in an image.\n",
        ">\n",
        "    Face alignment: After detecting a face, we use landmark detection (68 points on the face) to crop and align the face properly for further processing.\n"
      ],
      "metadata": {
        "id": "_cLYWxaC3P9Q"
      }
    },
    {
      "cell_type": "code",
      "source": [
        "import tensorflow as tf\n",
        "from tensorflow.keras.datasets import cifar10\n",
        "import numpy as np\n",
        "import matplotlib.pyplot as plt\n",
        "\n",
        "# Load CIFAR-10 dataset\n",
        "(x_train, y_train), (x_test, y_test) = cifar10.load_data()\n",
        "\n",
        "# Normalize the images to the range [0, 1]\n",
        "x_train = x_train.astype(\"float32\") / 255.0\n",
        "x_test = x_test.astype(\"float32\") / 255.0\n",
        "\n",
        "# Display a sample image from the CIFAR-10 dataset\n",
        "plt.imshow(x_train[0])\n",
        "plt.show()\n"
      ],
      "metadata": {
        "colab": {
          "base_uri": "https://localhost:8080/",
          "height": 465
        },
        "id": "XvNYboMh75vK",
        "outputId": "236a3b50-bb61-4293-e57c-551fe590c544"
      },
      "execution_count": 3,
      "outputs": [
        {
          "output_type": "stream",
          "name": "stdout",
          "text": [
            "Downloading data from https://www.cs.toronto.edu/~kriz/cifar-10-python.tar.gz\n",
            "\u001b[1m170498071/170498071\u001b[0m \u001b[32m━━━━━━━━━━━━━━━━━━━━\u001b[0m\u001b[37m\u001b[0m \u001b[1m4s\u001b[0m 0us/step\n"
          ]
        },
        {
          "output_type": "display_data",
          "data": {
            "text/plain": [
              "<Figure size 640x480 with 1 Axes>"
            ],
            "image/png": "[encoded data removed]"
          },
          "metadata": {}
        }
      ]
    },
    {
      "cell_type": "markdown",
      "source": [
        "**3. Autoencoder Model for Face Encoding/Decoding**\n",
        "\n",
        "```Next, we'll create a simple autoencoder using TensorFlow to train a model that learns how to encode (compress) and decode (reconstruct) the faces of the source and target.```"
      ],
      "metadata": {
        "id": "IMSF1ERC3a64"
      }
    },
    {
      "cell_type": "code",
      "source": [
        "import tensorflow as tf\n",
        "from tensorflow.keras import layers, models\n",
        "\n",
        "\n",
        "# Encoder model for CIFAR-10\n",
        "def build_encoder():\n",
        "    model = models.Sequential([\n",
        "        layers.InputLayer(input_shape=(32, 32, 3)),  # Input size (32x32 RGB image)\n",
        "        layers.Conv2D(64, (3, 3), strides=2, padding='same', activation='relu'),\n",
        "        layers.Conv2D(128, (3, 3), strides=2, padding='same', activation='relu'),\n",
        "        layers.Flatten(),\n",
        "        layers.Dense(1024, activation='relu'),\n",
        "        layers.Dense(256, activation='relu')  # Latent space (encoding)\n",
        "    ])\n",
        "    return model\n",
        "\n",
        "# Decoder model for CIFAR-10\n",
        "def build_decoder():\n",
        "    model = models.Sequential([\n",
        "        layers.InputLayer(input_shape=(256,)),  # Latent space representation\n",
        "        layers.Dense(1024, activation='relu'),\n",
        "        layers.Dense(128 * 8 * 8, activation='relu'),  # Reshape to fit the size of image (32x32x3)\n",
        "        layers.Reshape((8, 8, 128)),\n",
        "        layers.Conv2DTranspose(128, (3, 3), strides=2, padding='same', activation='relu'),\n",
        "        layers.Conv2DTranspose(64, (3, 3), strides=2, padding='same', activation='relu'),\n",
        "        layers.Conv2DTranspose(3, (3, 3), strides=1, padding='same', activation='sigmoid')  # Reconstructed image\n",
        "    ])\n",
        "    return model\n"
      ],
      "metadata": {
        "id": "0BL4jcMk3X4A"
      },
      "execution_count": 4,
      "outputs": []
    },
    {
      "cell_type": "markdown",
      "source": [
        "**Explanation:**\n",
        "\n",
        "\n",
        "    Encoder: The encoder reduces the high-dimensional input image to a compressed representation (latent space), capturing essential features of the face.\n",
        ">\n",
        "    Decoder: The decoder takes this compressed representation and reconstructs the image back to its original size (256x256 in this case)."
      ],
      "metadata": {
        "id": "IDXtcLt93j-4"
      }
    },
    {
      "cell_type": "markdown",
      "source": [
        "**4. Training the Autoencoder**\n",
        "\n",
        "```Now, we will define a loss function and train the autoencoder on aligned face images (from both source and target faces). This process ensures the model learns to reconstruct the faces.```\n"
      ],
      "metadata": {
        "id": "XLrkh7Rk3udw"
      }
    },
    {
      "cell_type": "code",
      "source": [
        "# Prepare the autoencoder (Encoder + Decoder)\n",
        "encoder = build_encoder()\n",
        "decoder = build_decoder()\n",
        "\n",
        "# Combine encoder and decoder into an autoencoder model\n",
        "autoencoder = models.Sequential([encoder, decoder])\n",
        "\n",
        "# Loss function: Mean Squared Error (MSE) between the input image and reconstructed image\n",
        "autoencoder.compile(optimizer='adam', loss='mse')\n",
        "\n",
        "# Train the model on CIFAR-10 images\n",
        "autoencoder.fit(x_train, x_train, epochs=10, batch_size=128, validation_data=(x_test, x_test))\n"
      ],
      "metadata": {
        "colab": {
          "base_uri": "https://localhost:8080/"
        },
        "id": "DxuaBWD03riV",
        "outputId": "e5985813-83e0-413a-a0ab-56a32f5bb140"
      },
      "execution_count": null,
      "outputs": [
        {
          "output_type": "stream",
          "name": "stderr",
          "text": [
            "/usr/local/lib/python3.10/dist-packages/keras/src/layers/core/input_layer.py:26: UserWarning: Argument `input_shape` is deprecated. Use `shape` instead.\n",
            "  warnings.warn(\n"
          ]
        },
        {
          "output_type": "stream",
          "name": "stdout",
          "text": [
            "Epoch 1/10\n",
            "\u001b[1m 24/391\u001b[0m \u001b[32m━\u001b[0m\u001b[37m━━━━━━━━━━━━━━━━━━━\u001b[0m \u001b[1m7:55\u001b[0m 1s/step - loss: 0.0621"
          ]
        }
      ]
    },
    {
      "cell_type": "markdown",
      "source": [
        "**Explanation:**\n",
        "\n",
        "    We train the autoencoder using mean squared error (MSE) as the loss function, comparing the input and output images.\n",
        ">\n",
        "    The model will gradually learn to encode faces and decode them into the same representation, helping it understand features like facial shape, expression, etc."
      ],
      "metadata": {
        "id": "4BDZyVNJ3zwA"
      }
    },
    {
      "cell_type": "markdown",
      "source": [
        "**5. Generating Synthetic Media (Fake Images)**"
      ],
      "metadata": {
        "id": "F1KFbUZM8BEj"
      }
    },
    {
      "cell_type": "code",
      "source": [
        "# Select a random image from the test set\n",
        "test_image = x_test[np.random.randint(0, len(x_test))]\n",
        "\n",
        "# Encode the image using the encoder\n",
        "encoded_image = encoder.predict(test_image[np.newaxis])\n",
        "\n",
        "# Decode the encoded image to generate a \"fake\" image\n",
        "fake_image = decoder.predict(encoded_image)\n",
        "\n",
        "# Display the original and fake images\n",
        "plt.subplot(1, 2, 1)\n",
        "plt.title(\"Original Image\")\n",
        "plt.imshow(test_image)\n",
        "\n",
        "plt.subplot(1, 2, 2)\n",
        "plt.title(\"Generated Fake Image\")\n",
        "plt.imshow(fake_image[0])\n",
        "\n",
        "plt.show()\n"
      ],
      "metadata": {
        "id": "5lCBtKHq7-mT"
      },
      "execution_count": null,
      "outputs": []
    },
    {
      "cell_type": "markdown",
      "source": [
        "**5. Face Swapping**\n",
        "\n",
        "```Once the model is trained, we use it to swap faces by encoding the source face and decoding it using the target's decoder, then blending it into the target image.```"
      ],
      "metadata": {
        "id": "-wrKjCfH38iB"
      }
    },
    {
      "cell_type": "code",
      "source": [
        "# Function to swap faces\n",
        "def swap_faces(source_image, target_image):\n",
        "    # Align the source and target faces\n",
        "    aligned_source_face = align_face(source_image)\n",
        "    aligned_target_face = align_face(target_image)\n",
        "\n",
        "    # Encode and decode the faces\n",
        "    source_encoding = encoder.predict(aligned_source_face)  # Encode the source face\n",
        "    swapped_face = decoder.predict(source_encoding)  # Decode into the target's style\n",
        "\n",
        "    # Blend the swapped face into the target image (simulating a face swap)\n",
        "    blended_image = blend_faces(target_image, swapped_face)  # Placeholder function for blending\n",
        "\n",
        "    return blended_image\n",
        "\n",
        "# Example: Using two images (source and target) for face swapping\n",
        "source_image = cv2.imread(\"source_face.jpg\")\n",
        "target_image = cv2.imread(\"target_face.jpg\")\n",
        "swapped_image = swap_faces(source_image, target_image)\n",
        "\n",
        "cv2.imwrite(\"swapped_face_result.jpg\", swapped_image)\n"
      ],
      "metadata": {
        "id": "iEqq1Qpr36RJ"
      },
      "execution_count": null,
      "outputs": []
    },
    {
      "cell_type": "markdown",
      "source": [
        "**Explanation:**\n",
        "\n",
        "    Face encoding: We encode the source face to a compressed representation.\n",
        ">\n",
        "    Face decoding: The source encoding is decoded using the target’s decoder to match the target's facial features.\n",
        ">\n",
        "    Face blending: The swapped face is blended seamlessly into the target image. A simple blending technique is used (e.g., Poisson blending or Gaussian blending).\n"
      ],
      "metadata": {
        "id": "7IhasBl54DQq"
      }
    },
    {
      "cell_type": "markdown",
      "source": [
        "**6. Post-Processing: Blending Faces**\n",
        "\n",
        "```This step involves merging the swapped face smoothly into the target face using blending techniques.```\n"
      ],
      "metadata": {
        "id": "aaaUJnak4NO5"
      }
    },
    {
      "cell_type": "code",
      "source": [
        "def blend_faces(target_image, swapped_face):\n",
        "    # Simple blending: Replace target face region with swapped face\n",
        "    # More advanced techniques like Poisson or multi-band blending can be used here\n",
        "    target_image[100:200, 100:200] = swapped_face[100:200, 100:200]  # Example region\n",
        "    return target_image\n"
      ],
      "metadata": {
        "id": "0gdNhxrF4J3c"
      },
      "execution_count": null,
      "outputs": []
    },
    {
      "cell_type": "markdown",
      "source": [
        "**Explanation:**\n",
        "\n",
        "    Blending: This is a simple technique where the swapped face is placed over the target face. In practice, more advanced methods such as Poisson Image Editing or seamless cloning (using OpenCV) would ensure smooth integration without noticeable seams."
      ],
      "metadata": {
        "id": "Zesfz9By4TDp"
      }
    },
    {
      "cell_type": "markdown",
      "source": [
        "**7. Putting it All Together in a Video**\n",
        "\n",
        "```You can now apply the face-swapping process frame by frame in a video.```"
      ],
      "metadata": {
        "id": "Fi_DEbRr4X5r"
      }
    },
    {
      "cell_type": "code",
      "source": [
        "cap = cv2.VideoCapture(\"target_video.mp4\")\n",
        "out = cv2.VideoWriter(\"output_video.mp4\", cv2.VideoWriter_fourcc(*'mp4v'), 30.0, (640, 480))\n",
        "\n",
        "while cap.isOpened():\n",
        "    ret, frame = cap.read()\n",
        "    if not ret:\n",
        "        break\n",
        "\n",
        "    # Swap faces frame by frame\n",
        "    swapped_frame = swap_faces(frame, source_image)  # Using the source image for swapping\n",
        "    out.write(swapped_frame)  # Save the result frame\n",
        "\n",
        "cap.release()\n",
        "out.release()\n"
      ],
      "metadata": {
        "id": "yYDXqlj94WHD"
      },
      "execution_count": null,
      "outputs": []
    },
    {
      "cell_type": "markdown",
      "source": [
        "**Explanation:**\n",
        "\n",
        "    Video Processing: We read the video frame by frame, perform face-swapping, and write the modified frames to an output video."
      ],
      "metadata": {
        "id": "HwYjg48r4cs5"
      }
    },
    {
      "cell_type": "code",
      "source": [],
      "metadata": {
        "id": "EVZBDz4p4gZk"
      },
      "execution_count": null,
      "outputs": []
    }
  ]
}