{
 "cells": [
  {
   "cell_type": "markdown",
   "id": "674a9313",
   "metadata": {},
   "source": [
    "# Conditional Wasserstein GAN (CWGAN) with TensorFlow"
   ]
  },
  {
   "cell_type": "markdown",
   "id": "eb85a277",
   "metadata": {},
   "source": [
    "\n",
    "This notebook demonstrates how to implement a Conditional Wasserstein GAN (CWGAN) using TensorFlow. \n",
    "The model is trained on the MNIST dataset to generate realistic handwritten digits conditioned on class labels.\n",
    "\n",
    "## Steps:\n",
    "1. Import libraries and set hyperparameters.\n",
    "2. Load and preprocess the MNIST dataset.\n",
    "3. Define the generator and critic models.\n",
    "4. Implement the gradient penalty for improved stability.\n",
    "5. Train the CWGAN.\n",
    "6. Visualize the generated digits conditioned on specific labels.\n"
   ]
  },
  {
   "cell_type": "code",
   "execution_count": 1,
   "id": "fc064f59",
   "metadata": {},
   "outputs": [],
   "source": [
    "\n",
    "import tensorflow as tf\n",
    "from tensorflow.keras import layers\n",
    "import numpy as np\n",
    "import matplotlib.pyplot as plt\n",
    "\n",
    "# Set random seed for reproducibility\n",
    "tf.random.set_seed(42)\n",
    "\n",
    "# Hyperparameters\n",
    "IMG_SHAPE = (28, 28, 1)  # Shape of MNIST images\n",
    "NOISE_DIM = 100  # Dimension of noise vector\n",
    "NUM_CLASSES = 10  # Number of digit classes (0-9)\n",
    "BATCH_SIZE = 64\n",
    "EPOCHS = 50  # Reduced epochs for demonstration\n",
    "CRITIC_ITERATIONS = 5  # Number of critic updates per generator update\n",
    "LAMBDA_GP = 10  # Gradient penalty weight\n"
   ]
  },
  {
   "cell_type": "code",
   "execution_count": 2,
   "id": "f5150353",
   "metadata": {},
   "outputs": [],
   "source": [
    "\n",
    "# Load MNIST dataset\n",
    "(train_images, train_labels), (_, _) = tf.keras.datasets.mnist.load_data()\n",
    "\n",
    "# Normalize images to [-1, 1]\n",
    "train_images = (train_images.astype(np.float32) - 127.5) / 127.5\n",
    "train_images = np.expand_dims(train_images, axis=-1)  # Add channel dimension\n",
    "\n",
    "# One-hot encode labels\n",
    "train_labels = tf.keras.utils.to_categorical(train_labels, NUM_CLASSES)\n",
    "\n",
    "# Create a TensorFlow dataset\n",
    "dataset = tf.data.Dataset.from_tensor_slices((train_images, train_labels))\n",
    "dataset = dataset.shuffle(buffer_size=1024).batch(BATCH_SIZE).prefetch(buffer_size=tf.data.AUTOTUNE)\n"
   ]
  },
  {
   "cell_type": "code",
   "execution_count": 3,
   "id": "531c4719",
   "metadata": {},
   "outputs": [
    {
     "data": {
      "text/html": [
       "<pre style=\"white-space:pre;overflow-x:auto;line-height:normal;font-family:Menlo,'DejaVu Sans Mono',consolas,'Courier New',monospace\"><span style=\"font-weight: bold\">Model: \"Generator\"</span>\n",
       "</pre>\n"
      ],
      "text/plain": [
       "\u001b[1mModel: \"Generator\"\u001b[0m\n"
      ]
     },
     "metadata": {},
     "output_type": "display_data"
    },
    {
     "data": {
      "text/html": [
       "<pre style=\"white-space:pre;overflow-x:auto;line-height:normal;font-family:Menlo,'DejaVu Sans Mono',consolas,'Courier New',monospace\">┏━━━━━━━━━━━━━━━━━━━━━┳━━━━━━━━━━━━━━━━━━━┳━━━━━━━━━━━━┳━━━━━━━━━━━━━━━━━━━┓\n",
       "┃<span style=\"font-weight: bold\"> Layer (type)        </span>┃<span style=\"font-weight: bold\"> Output Shape      </span>┃<span style=\"font-weight: bold\">    Param # </span>┃<span style=\"font-weight: bold\"> Connected to      </span>┃\n",
       "┡━━━━━━━━━━━━━━━━━━━━━╇━━━━━━━━━━━━━━━━━━━╇━━━━━━━━━━━━╇━━━━━━━━━━━━━━━━━━━┩\n",
       "│ input_layer         │ (<span style=\"color: #00d7ff; text-decoration-color: #00d7ff\">None</span>, <span style=\"color: #00af00; text-decoration-color: #00af00\">100</span>)       │          <span style=\"color: #00af00; text-decoration-color: #00af00\">0</span> │ -                 │\n",
       "│ (<span style=\"color: #0087ff; text-decoration-color: #0087ff\">InputLayer</span>)        │                   │            │                   │\n",
       "├─────────────────────┼───────────────────┼────────────┼───────────────────┤\n",
       "│ input_layer_1       │ (<span style=\"color: #00d7ff; text-decoration-color: #00d7ff\">None</span>, <span style=\"color: #00af00; text-decoration-color: #00af00\">10</span>)        │          <span style=\"color: #00af00; text-decoration-color: #00af00\">0</span> │ -                 │\n",
       "│ (<span style=\"color: #0087ff; text-decoration-color: #0087ff\">InputLayer</span>)        │                   │            │                   │\n",
       "├─────────────────────┼───────────────────┼────────────┼───────────────────┤\n",
       "│ concatenate         │ (<span style=\"color: #00d7ff; text-decoration-color: #00d7ff\">None</span>, <span style=\"color: #00af00; text-decoration-color: #00af00\">110</span>)       │          <span style=\"color: #00af00; text-decoration-color: #00af00\">0</span> │ input_layer[<span style=\"color: #00af00; text-decoration-color: #00af00\">0</span>][<span style=\"color: #00af00; text-decoration-color: #00af00\">0</span>… │\n",
       "│ (<span style=\"color: #0087ff; text-decoration-color: #0087ff\">Concatenate</span>)       │                   │            │ input_layer_1[<span style=\"color: #00af00; text-decoration-color: #00af00\">0</span>]… │\n",
       "├─────────────────────┼───────────────────┼────────────┼───────────────────┤\n",
       "│ dense (<span style=\"color: #0087ff; text-decoration-color: #0087ff\">Dense</span>)       │ (<span style=\"color: #00d7ff; text-decoration-color: #00d7ff\">None</span>, <span style=\"color: #00af00; text-decoration-color: #00af00\">256</span>)       │     <span style=\"color: #00af00; text-decoration-color: #00af00\">28,416</span> │ concatenate[<span style=\"color: #00af00; text-decoration-color: #00af00\">0</span>][<span style=\"color: #00af00; text-decoration-color: #00af00\">0</span>] │\n",
       "├─────────────────────┼───────────────────┼────────────┼───────────────────┤\n",
       "│ dense_1 (<span style=\"color: #0087ff; text-decoration-color: #0087ff\">Dense</span>)     │ (<span style=\"color: #00d7ff; text-decoration-color: #00d7ff\">None</span>, <span style=\"color: #00af00; text-decoration-color: #00af00\">512</span>)       │    <span style=\"color: #00af00; text-decoration-color: #00af00\">131,584</span> │ dense[<span style=\"color: #00af00; text-decoration-color: #00af00\">0</span>][<span style=\"color: #00af00; text-decoration-color: #00af00\">0</span>]       │\n",
       "├─────────────────────┼───────────────────┼────────────┼───────────────────┤\n",
       "│ dense_2 (<span style=\"color: #0087ff; text-decoration-color: #0087ff\">Dense</span>)     │ (<span style=\"color: #00d7ff; text-decoration-color: #00d7ff\">None</span>, <span style=\"color: #00af00; text-decoration-color: #00af00\">1024</span>)      │    <span style=\"color: #00af00; text-decoration-color: #00af00\">525,312</span> │ dense_1[<span style=\"color: #00af00; text-decoration-color: #00af00\">0</span>][<span style=\"color: #00af00; text-decoration-color: #00af00\">0</span>]     │\n",
       "├─────────────────────┼───────────────────┼────────────┼───────────────────┤\n",
       "│ dense_3 (<span style=\"color: #0087ff; text-decoration-color: #0087ff\">Dense</span>)     │ (<span style=\"color: #00d7ff; text-decoration-color: #00d7ff\">None</span>, <span style=\"color: #00af00; text-decoration-color: #00af00\">784</span>)       │    <span style=\"color: #00af00; text-decoration-color: #00af00\">803,600</span> │ dense_2[<span style=\"color: #00af00; text-decoration-color: #00af00\">0</span>][<span style=\"color: #00af00; text-decoration-color: #00af00\">0</span>]     │\n",
       "├─────────────────────┼───────────────────┼────────────┼───────────────────┤\n",
       "│ reshape (<span style=\"color: #0087ff; text-decoration-color: #0087ff\">Reshape</span>)   │ (<span style=\"color: #00d7ff; text-decoration-color: #00d7ff\">None</span>, <span style=\"color: #00af00; text-decoration-color: #00af00\">28</span>, <span style=\"color: #00af00; text-decoration-color: #00af00\">28</span>, <span style=\"color: #00af00; text-decoration-color: #00af00\">1</span>) │          <span style=\"color: #00af00; text-decoration-color: #00af00\">0</span> │ dense_3[<span style=\"color: #00af00; text-decoration-color: #00af00\">0</span>][<span style=\"color: #00af00; text-decoration-color: #00af00\">0</span>]     │\n",
       "└─────────────────────┴───────────────────┴────────────┴───────────────────┘\n",
       "</pre>\n"
      ],
      "text/plain": [
       "┏━━━━━━━━━━━━━━━━━━━━━┳━━━━━━━━━━━━━━━━━━━┳━━━━━━━━━━━━┳━━━━━━━━━━━━━━━━━━━┓\n",
       "┃\u001b[1m \u001b[0m\u001b[1mLayer (type)       \u001b[0m\u001b[1m \u001b[0m┃\u001b[1m \u001b[0m\u001b[1mOutput Shape     \u001b[0m\u001b[1m \u001b[0m┃\u001b[1m \u001b[0m\u001b[1m   Param #\u001b[0m\u001b[1m \u001b[0m┃\u001b[1m \u001b[0m\u001b[1mConnected to     \u001b[0m\u001b[1m \u001b[0m┃\n",
       "┡━━━━━━━━━━━━━━━━━━━━━╇━━━━━━━━━━━━━━━━━━━╇━━━━━━━━━━━━╇━━━━━━━━━━━━━━━━━━━┩\n",
       "│ input_layer         │ (\u001b[38;5;45mNone\u001b[0m, \u001b[38;5;34m100\u001b[0m)       │          \u001b[38;5;34m0\u001b[0m │ -                 │\n",
       "│ (\u001b[38;5;33mInputLayer\u001b[0m)        │                   │            │                   │\n",
       "├─────────────────────┼───────────────────┼────────────┼───────────────────┤\n",
       "│ input_layer_1       │ (\u001b[38;5;45mNone\u001b[0m, \u001b[38;5;34m10\u001b[0m)        │          \u001b[38;5;34m0\u001b[0m │ -                 │\n",
       "│ (\u001b[38;5;33mInputLayer\u001b[0m)        │                   │            │                   │\n",
       "├─────────────────────┼───────────────────┼────────────┼───────────────────┤\n",
       "│ concatenate         │ (\u001b[38;5;45mNone\u001b[0m, \u001b[38;5;34m110\u001b[0m)       │          \u001b[38;5;34m0\u001b[0m │ input_layer[\u001b[38;5;34m0\u001b[0m][\u001b[38;5;34m0\u001b[0m… │\n",
       "│ (\u001b[38;5;33mConcatenate\u001b[0m)       │                   │            │ input_layer_1[\u001b[38;5;34m0\u001b[0m]… │\n",
       "├─────────────────────┼───────────────────┼────────────┼───────────────────┤\n",
       "│ dense (\u001b[38;5;33mDense\u001b[0m)       │ (\u001b[38;5;45mNone\u001b[0m, \u001b[38;5;34m256\u001b[0m)       │     \u001b[38;5;34m28,416\u001b[0m │ concatenate[\u001b[38;5;34m0\u001b[0m][\u001b[38;5;34m0\u001b[0m] │\n",
       "├─────────────────────┼───────────────────┼────────────┼───────────────────┤\n",
       "│ dense_1 (\u001b[38;5;33mDense\u001b[0m)     │ (\u001b[38;5;45mNone\u001b[0m, \u001b[38;5;34m512\u001b[0m)       │    \u001b[38;5;34m131,584\u001b[0m │ dense[\u001b[38;5;34m0\u001b[0m][\u001b[38;5;34m0\u001b[0m]       │\n",
       "├─────────────────────┼───────────────────┼────────────┼───────────────────┤\n",
       "│ dense_2 (\u001b[38;5;33mDense\u001b[0m)     │ (\u001b[38;5;45mNone\u001b[0m, \u001b[38;5;34m1024\u001b[0m)      │    \u001b[38;5;34m525,312\u001b[0m │ dense_1[\u001b[38;5;34m0\u001b[0m][\u001b[38;5;34m0\u001b[0m]     │\n",
       "├─────────────────────┼───────────────────┼────────────┼───────────────────┤\n",
       "│ dense_3 (\u001b[38;5;33mDense\u001b[0m)     │ (\u001b[38;5;45mNone\u001b[0m, \u001b[38;5;34m784\u001b[0m)       │    \u001b[38;5;34m803,600\u001b[0m │ dense_2[\u001b[38;5;34m0\u001b[0m][\u001b[38;5;34m0\u001b[0m]     │\n",
       "├─────────────────────┼───────────────────┼────────────┼───────────────────┤\n",
       "│ reshape (\u001b[38;5;33mReshape\u001b[0m)   │ (\u001b[38;5;45mNone\u001b[0m, \u001b[38;5;34m28\u001b[0m, \u001b[38;5;34m28\u001b[0m, \u001b[38;5;34m1\u001b[0m) │          \u001b[38;5;34m0\u001b[0m │ dense_3[\u001b[38;5;34m0\u001b[0m][\u001b[38;5;34m0\u001b[0m]     │\n",
       "└─────────────────────┴───────────────────┴────────────┴───────────────────┘\n"
      ]
     },
     "metadata": {},
     "output_type": "display_data"
    },
    {
     "data": {
      "text/html": [
       "<pre style=\"white-space:pre;overflow-x:auto;line-height:normal;font-family:Menlo,'DejaVu Sans Mono',consolas,'Courier New',monospace\"><span style=\"font-weight: bold\"> Total params: </span><span style=\"color: #00af00; text-decoration-color: #00af00\">1,488,912</span> (5.68 MB)\n",
       "</pre>\n"
      ],
      "text/plain": [
       "\u001b[1m Total params: \u001b[0m\u001b[38;5;34m1,488,912\u001b[0m (5.68 MB)\n"
      ]
     },
     "metadata": {},
     "output_type": "display_data"
    },
    {
     "data": {
      "text/html": [
       "<pre style=\"white-space:pre;overflow-x:auto;line-height:normal;font-family:Menlo,'DejaVu Sans Mono',consolas,'Courier New',monospace\"><span style=\"font-weight: bold\"> Trainable params: </span><span style=\"color: #00af00; text-decoration-color: #00af00\">1,488,912</span> (5.68 MB)\n",
       "</pre>\n"
      ],
      "text/plain": [
       "\u001b[1m Trainable params: \u001b[0m\u001b[38;5;34m1,488,912\u001b[0m (5.68 MB)\n"
      ]
     },
     "metadata": {},
     "output_type": "display_data"
    },
    {
     "data": {
      "text/html": [
       "<pre style=\"white-space:pre;overflow-x:auto;line-height:normal;font-family:Menlo,'DejaVu Sans Mono',consolas,'Courier New',monospace\"><span style=\"font-weight: bold\"> Non-trainable params: </span><span style=\"color: #00af00; text-decoration-color: #00af00\">0</span> (0.00 B)\n",
       "</pre>\n"
      ],
      "text/plain": [
       "\u001b[1m Non-trainable params: \u001b[0m\u001b[38;5;34m0\u001b[0m (0.00 B)\n"
      ]
     },
     "metadata": {},
     "output_type": "display_data"
    }
   ],
   "source": [
    "\n",
    "def build_generator():\n",
    "    # Inputs: random noise vector and label\n",
    "    noise_input = layers.Input(shape=(NOISE_DIM,))\n",
    "    label_input = layers.Input(shape=(NUM_CLASSES,))\n",
    "\n",
    "    # Combine noise and label inputs\n",
    "    combined_input = layers.Concatenate()([noise_input, label_input])\n",
    "\n",
    "    # Fully connected layers to generate image\n",
    "    x = layers.Dense(256, activation=\"relu\")(combined_input)\n",
    "    x = layers.Dense(512, activation=\"relu\")(x)\n",
    "    x = layers.Dense(1024, activation=\"relu\")(x)\n",
    "    x = layers.Dense(np.prod(IMG_SHAPE), activation=\"tanh\")(x)\n",
    "\n",
    "    # Reshape output to match image dimensions\n",
    "    output = layers.Reshape(IMG_SHAPE)(x)\n",
    "\n",
    "    return tf.keras.Model([noise_input, label_input], output, name=\"Generator\")\n",
    "\n",
    "generator = build_generator()\n",
    "generator.summary()\n"
   ]
  },
  {
   "cell_type": "code",
   "execution_count": 4,
   "id": "191e99eb",
   "metadata": {},
   "outputs": [
    {
     "data": {
      "text/html": [
       "<pre style=\"white-space:pre;overflow-x:auto;line-height:normal;font-family:Menlo,'DejaVu Sans Mono',consolas,'Courier New',monospace\"><span style=\"font-weight: bold\">Model: \"Critic\"</span>\n",
       "</pre>\n"
      ],
      "text/plain": [
       "\u001b[1mModel: \"Critic\"\u001b[0m\n"
      ]
     },
     "metadata": {},
     "output_type": "display_data"
    },
    {
     "data": {
      "text/html": [
       "<pre style=\"white-space:pre;overflow-x:auto;line-height:normal;font-family:Menlo,'DejaVu Sans Mono',consolas,'Courier New',monospace\">┏━━━━━━━━━━━━━━━━━━━━━┳━━━━━━━━━━━━━━━━━━━┳━━━━━━━━━━━━┳━━━━━━━━━━━━━━━━━━━┓\n",
       "┃<span style=\"font-weight: bold\"> Layer (type)        </span>┃<span style=\"font-weight: bold\"> Output Shape      </span>┃<span style=\"font-weight: bold\">    Param # </span>┃<span style=\"font-weight: bold\"> Connected to      </span>┃\n",
       "┡━━━━━━━━━━━━━━━━━━━━━╇━━━━━━━━━━━━━━━━━━━╇━━━━━━━━━━━━╇━━━━━━━━━━━━━━━━━━━┩\n",
       "│ input_layer_2       │ (<span style=\"color: #00d7ff; text-decoration-color: #00d7ff\">None</span>, <span style=\"color: #00af00; text-decoration-color: #00af00\">28</span>, <span style=\"color: #00af00; text-decoration-color: #00af00\">28</span>, <span style=\"color: #00af00; text-decoration-color: #00af00\">1</span>) │          <span style=\"color: #00af00; text-decoration-color: #00af00\">0</span> │ -                 │\n",
       "│ (<span style=\"color: #0087ff; text-decoration-color: #0087ff\">InputLayer</span>)        │                   │            │                   │\n",
       "├─────────────────────┼───────────────────┼────────────┼───────────────────┤\n",
       "│ flatten (<span style=\"color: #0087ff; text-decoration-color: #0087ff\">Flatten</span>)   │ (<span style=\"color: #00d7ff; text-decoration-color: #00d7ff\">None</span>, <span style=\"color: #00af00; text-decoration-color: #00af00\">784</span>)       │          <span style=\"color: #00af00; text-decoration-color: #00af00\">0</span> │ input_layer_2[<span style=\"color: #00af00; text-decoration-color: #00af00\">0</span>]… │\n",
       "├─────────────────────┼───────────────────┼────────────┼───────────────────┤\n",
       "│ input_layer_3       │ (<span style=\"color: #00d7ff; text-decoration-color: #00d7ff\">None</span>, <span style=\"color: #00af00; text-decoration-color: #00af00\">10</span>)        │          <span style=\"color: #00af00; text-decoration-color: #00af00\">0</span> │ -                 │\n",
       "│ (<span style=\"color: #0087ff; text-decoration-color: #0087ff\">InputLayer</span>)        │                   │            │                   │\n",
       "├─────────────────────┼───────────────────┼────────────┼───────────────────┤\n",
       "│ concatenate_1       │ (<span style=\"color: #00d7ff; text-decoration-color: #00d7ff\">None</span>, <span style=\"color: #00af00; text-decoration-color: #00af00\">794</span>)       │          <span style=\"color: #00af00; text-decoration-color: #00af00\">0</span> │ flatten[<span style=\"color: #00af00; text-decoration-color: #00af00\">0</span>][<span style=\"color: #00af00; text-decoration-color: #00af00\">0</span>],    │\n",
       "│ (<span style=\"color: #0087ff; text-decoration-color: #0087ff\">Concatenate</span>)       │                   │            │ input_layer_3[<span style=\"color: #00af00; text-decoration-color: #00af00\">0</span>]… │\n",
       "├─────────────────────┼───────────────────┼────────────┼───────────────────┤\n",
       "│ dense_4 (<span style=\"color: #0087ff; text-decoration-color: #0087ff\">Dense</span>)     │ (<span style=\"color: #00d7ff; text-decoration-color: #00d7ff\">None</span>, <span style=\"color: #00af00; text-decoration-color: #00af00\">512</span>)       │    <span style=\"color: #00af00; text-decoration-color: #00af00\">407,040</span> │ concatenate_1[<span style=\"color: #00af00; text-decoration-color: #00af00\">0</span>]… │\n",
       "├─────────────────────┼───────────────────┼────────────┼───────────────────┤\n",
       "│ dense_5 (<span style=\"color: #0087ff; text-decoration-color: #0087ff\">Dense</span>)     │ (<span style=\"color: #00d7ff; text-decoration-color: #00d7ff\">None</span>, <span style=\"color: #00af00; text-decoration-color: #00af00\">256</span>)       │    <span style=\"color: #00af00; text-decoration-color: #00af00\">131,328</span> │ dense_4[<span style=\"color: #00af00; text-decoration-color: #00af00\">0</span>][<span style=\"color: #00af00; text-decoration-color: #00af00\">0</span>]     │\n",
       "├─────────────────────┼───────────────────┼────────────┼───────────────────┤\n",
       "│ dense_6 (<span style=\"color: #0087ff; text-decoration-color: #0087ff\">Dense</span>)     │ (<span style=\"color: #00d7ff; text-decoration-color: #00d7ff\">None</span>, <span style=\"color: #00af00; text-decoration-color: #00af00\">1</span>)         │        <span style=\"color: #00af00; text-decoration-color: #00af00\">257</span> │ dense_5[<span style=\"color: #00af00; text-decoration-color: #00af00\">0</span>][<span style=\"color: #00af00; text-decoration-color: #00af00\">0</span>]     │\n",
       "└─────────────────────┴───────────────────┴────────────┴───────────────────┘\n",
       "</pre>\n"
      ],
      "text/plain": [
       "┏━━━━━━━━━━━━━━━━━━━━━┳━━━━━━━━━━━━━━━━━━━┳━━━━━━━━━━━━┳━━━━━━━━━━━━━━━━━━━┓\n",
       "┃\u001b[1m \u001b[0m\u001b[1mLayer (type)       \u001b[0m\u001b[1m \u001b[0m┃\u001b[1m \u001b[0m\u001b[1mOutput Shape     \u001b[0m\u001b[1m \u001b[0m┃\u001b[1m \u001b[0m\u001b[1m   Param #\u001b[0m\u001b[1m \u001b[0m┃\u001b[1m \u001b[0m\u001b[1mConnected to     \u001b[0m\u001b[1m \u001b[0m┃\n",
       "┡━━━━━━━━━━━━━━━━━━━━━╇━━━━━━━━━━━━━━━━━━━╇━━━━━━━━━━━━╇━━━━━━━━━━━━━━━━━━━┩\n",
       "│ input_layer_2       │ (\u001b[38;5;45mNone\u001b[0m, \u001b[38;5;34m28\u001b[0m, \u001b[38;5;34m28\u001b[0m, \u001b[38;5;34m1\u001b[0m) │          \u001b[38;5;34m0\u001b[0m │ -                 │\n",
       "│ (\u001b[38;5;33mInputLayer\u001b[0m)        │                   │            │                   │\n",
       "├─────────────────────┼───────────────────┼────────────┼───────────────────┤\n",
       "│ flatten (\u001b[38;5;33mFlatten\u001b[0m)   │ (\u001b[38;5;45mNone\u001b[0m, \u001b[38;5;34m784\u001b[0m)       │          \u001b[38;5;34m0\u001b[0m │ input_layer_2[\u001b[38;5;34m0\u001b[0m]… │\n",
       "├─────────────────────┼───────────────────┼────────────┼───────────────────┤\n",
       "│ input_layer_3       │ (\u001b[38;5;45mNone\u001b[0m, \u001b[38;5;34m10\u001b[0m)        │          \u001b[38;5;34m0\u001b[0m │ -                 │\n",
       "│ (\u001b[38;5;33mInputLayer\u001b[0m)        │                   │            │                   │\n",
       "├─────────────────────┼───────────────────┼────────────┼───────────────────┤\n",
       "│ concatenate_1       │ (\u001b[38;5;45mNone\u001b[0m, \u001b[38;5;34m794\u001b[0m)       │          \u001b[38;5;34m0\u001b[0m │ flatten[\u001b[38;5;34m0\u001b[0m][\u001b[38;5;34m0\u001b[0m],    │\n",
       "│ (\u001b[38;5;33mConcatenate\u001b[0m)       │                   │            │ input_layer_3[\u001b[38;5;34m0\u001b[0m]… │\n",
       "├─────────────────────┼───────────────────┼────────────┼───────────────────┤\n",
       "│ dense_4 (\u001b[38;5;33mDense\u001b[0m)     │ (\u001b[38;5;45mNone\u001b[0m, \u001b[38;5;34m512\u001b[0m)       │    \u001b[38;5;34m407,040\u001b[0m │ concatenate_1[\u001b[38;5;34m0\u001b[0m]… │\n",
       "├─────────────────────┼───────────────────┼────────────┼───────────────────┤\n",
       "│ dense_5 (\u001b[38;5;33mDense\u001b[0m)     │ (\u001b[38;5;45mNone\u001b[0m, \u001b[38;5;34m256\u001b[0m)       │    \u001b[38;5;34m131,328\u001b[0m │ dense_4[\u001b[38;5;34m0\u001b[0m][\u001b[38;5;34m0\u001b[0m]     │\n",
       "├─────────────────────┼───────────────────┼────────────┼───────────────────┤\n",
       "│ dense_6 (\u001b[38;5;33mDense\u001b[0m)     │ (\u001b[38;5;45mNone\u001b[0m, \u001b[38;5;34m1\u001b[0m)         │        \u001b[38;5;34m257\u001b[0m │ dense_5[\u001b[38;5;34m0\u001b[0m][\u001b[38;5;34m0\u001b[0m]     │\n",
       "└─────────────────────┴───────────────────┴────────────┴───────────────────┘\n"
      ]
     },
     "metadata": {},
     "output_type": "display_data"
    },
    {
     "data": {
      "text/html": [
       "<pre style=\"white-space:pre;overflow-x:auto;line-height:normal;font-family:Menlo,'DejaVu Sans Mono',consolas,'Courier New',monospace\"><span style=\"font-weight: bold\"> Total params: </span><span style=\"color: #00af00; text-decoration-color: #00af00\">538,625</span> (2.05 MB)\n",
       "</pre>\n"
      ],
      "text/plain": [
       "\u001b[1m Total params: \u001b[0m\u001b[38;5;34m538,625\u001b[0m (2.05 MB)\n"
      ]
     },
     "metadata": {},
     "output_type": "display_data"
    },
    {
     "data": {
      "text/html": [
       "<pre style=\"white-space:pre;overflow-x:auto;line-height:normal;font-family:Menlo,'DejaVu Sans Mono',consolas,'Courier New',monospace\"><span style=\"font-weight: bold\"> Trainable params: </span><span style=\"color: #00af00; text-decoration-color: #00af00\">538,625</span> (2.05 MB)\n",
       "</pre>\n"
      ],
      "text/plain": [
       "\u001b[1m Trainable params: \u001b[0m\u001b[38;5;34m538,625\u001b[0m (2.05 MB)\n"
      ]
     },
     "metadata": {},
     "output_type": "display_data"
    },
    {
     "data": {
      "text/html": [
       "<pre style=\"white-space:pre;overflow-x:auto;line-height:normal;font-family:Menlo,'DejaVu Sans Mono',consolas,'Courier New',monospace\"><span style=\"font-weight: bold\"> Non-trainable params: </span><span style=\"color: #00af00; text-decoration-color: #00af00\">0</span> (0.00 B)\n",
       "</pre>\n"
      ],
      "text/plain": [
       "\u001b[1m Non-trainable params: \u001b[0m\u001b[38;5;34m0\u001b[0m (0.00 B)\n"
      ]
     },
     "metadata": {},
     "output_type": "display_data"
    }
   ],
   "source": [
    "\n",
    "def build_critic():\n",
    "    # Inputs: real or generated image and label\n",
    "    image_input = layers.Input(shape=IMG_SHAPE)\n",
    "    label_input = layers.Input(shape=(NUM_CLASSES,))\n",
    "\n",
    "    # Flatten image input\n",
    "    flat_image = layers.Flatten()(image_input)\n",
    "\n",
    "    # Combine image and label inputs\n",
    "    combined_input = layers.Concatenate()([flat_image, label_input])\n",
    "\n",
    "    # Fully connected layers to compute a scalar score\n",
    "    x = layers.Dense(512, activation=tf.nn.leaky_relu)(combined_input)\n",
    "    x = layers.Dense(256, activation=tf.nn.leaky_relu)(x)\n",
    "    x = layers.Dense(1)(x)  # Single scalar output\n",
    "\n",
    "    return tf.keras.Model([image_input, label_input], x, name=\"Critic\")\n",
    "\n",
    "critic = build_critic()\n",
    "critic.summary()\n"
   ]
  },
  {
   "cell_type": "code",
   "execution_count": 5,
   "id": "14f513bb",
   "metadata": {},
   "outputs": [],
   "source": [
    "\n",
    "@tf.function\n",
    "def gradient_penalty(critic, real_images, fake_images, labels):\n",
    "    batch_size = tf.shape(real_images)[0]\n",
    "    alpha = tf.random.uniform([batch_size, 1, 1, 1], 0.0, 1.0)\n",
    "    interpolated = alpha * real_images + (1 - alpha) * fake_images\n",
    "    with tf.GradientTape() as tape:\n",
    "        tape.watch(interpolated)\n",
    "        interpolated_scores = critic([interpolated, labels])\n",
    "    gradients = tape.gradient(interpolated_scores, [interpolated])[0]\n",
    "    gradients = tf.reshape(gradients, [batch_size, -1])\n",
    "    return tf.reduce_mean((tf.norm(gradients, axis=1) - 1.0) ** 2)\n"
   ]
  },
  {
   "cell_type": "code",
   "execution_count": 6,
   "id": "77abfb09",
   "metadata": {},
   "outputs": [
    {
     "name": "stdout",
     "output_type": "stream",
     "text": [
      "Epoch 1, Critic Loss: -4.2126, Generator Loss: -4.9100\n",
      "Epoch 2, Critic Loss: -7.6605, Generator Loss: -2.0663\n",
      "Epoch 3, Critic Loss: -7.7782, Generator Loss: -4.6642\n",
      "Epoch 4, Critic Loss: -4.8079, Generator Loss: -8.2856\n",
      "Epoch 5, Critic Loss: -4.3876, Generator Loss: -7.3938\n",
      "Epoch 6, Critic Loss: -3.3931, Generator Loss: -7.4775\n",
      "Epoch 7, Critic Loss: -3.7384, Generator Loss: -6.7957\n",
      "Epoch 8, Critic Loss: -3.3648, Generator Loss: -7.4592\n",
      "Epoch 9, Critic Loss: -3.3120, Generator Loss: -7.7719\n",
      "Epoch 10, Critic Loss: -3.4247, Generator Loss: -6.9365\n",
      "Epoch 11, Critic Loss: -3.5532, Generator Loss: -7.6444\n",
      "Epoch 12, Critic Loss: -2.3615, Generator Loss: -6.3157\n",
      "Epoch 13, Critic Loss: -3.1989, Generator Loss: -3.5347\n",
      "Epoch 14, Critic Loss: -1.5946, Generator Loss: -6.1083\n",
      "Epoch 15, Critic Loss: -2.6414, Generator Loss: -5.9626\n",
      "Epoch 16, Critic Loss: -2.8144, Generator Loss: -7.9413\n",
      "Epoch 17, Critic Loss: -2.3687, Generator Loss: -5.4595\n",
      "Epoch 18, Critic Loss: -1.9641, Generator Loss: -5.4643\n",
      "Epoch 19, Critic Loss: -1.7460, Generator Loss: -5.2812\n",
      "Epoch 20, Critic Loss: -2.2277, Generator Loss: -5.6675\n",
      "Epoch 21, Critic Loss: -2.1274, Generator Loss: -6.0176\n",
      "Epoch 22, Critic Loss: -2.0393, Generator Loss: -6.3293\n",
      "Epoch 23, Critic Loss: -1.7442, Generator Loss: -6.1976\n",
      "Epoch 24, Critic Loss: -1.7499, Generator Loss: -5.9937\n",
      "Epoch 25, Critic Loss: -3.1021, Generator Loss: -5.4674\n",
      "Epoch 26, Critic Loss: -2.2038, Generator Loss: -4.5257\n",
      "Epoch 27, Critic Loss: -1.6280, Generator Loss: -4.7925\n",
      "Epoch 28, Critic Loss: -2.4021, Generator Loss: -5.7443\n",
      "Epoch 29, Critic Loss: -2.0715, Generator Loss: -5.5139\n",
      "Epoch 30, Critic Loss: -1.6690, Generator Loss: -6.0698\n",
      "Epoch 31, Critic Loss: -1.3747, Generator Loss: -4.8779\n",
      "Epoch 32, Critic Loss: -1.6794, Generator Loss: -4.4903\n",
      "Epoch 33, Critic Loss: -1.9149, Generator Loss: -4.6715\n",
      "Epoch 34, Critic Loss: -2.1767, Generator Loss: -3.9892\n",
      "Epoch 35, Critic Loss: -1.5157, Generator Loss: -4.6553\n",
      "Epoch 36, Critic Loss: -1.5369, Generator Loss: -5.5791\n",
      "Epoch 37, Critic Loss: -1.5226, Generator Loss: -5.4005\n",
      "Epoch 38, Critic Loss: -0.6806, Generator Loss: -5.3528\n",
      "Epoch 39, Critic Loss: -1.9858, Generator Loss: -5.8592\n",
      "Epoch 40, Critic Loss: -1.4174, Generator Loss: -3.6402\n",
      "Epoch 41, Critic Loss: -2.1440, Generator Loss: -4.8619\n",
      "Epoch 42, Critic Loss: -2.0320, Generator Loss: -6.5135\n",
      "Epoch 43, Critic Loss: -0.9639, Generator Loss: -5.4132\n",
      "Epoch 44, Critic Loss: -1.3919, Generator Loss: -2.5106\n",
      "Epoch 45, Critic Loss: -1.6281, Generator Loss: -6.0085\n",
      "Epoch 46, Critic Loss: -1.4529, Generator Loss: -4.2405\n",
      "Epoch 47, Critic Loss: -1.4867, Generator Loss: -4.7928\n",
      "Epoch 48, Critic Loss: -1.7169, Generator Loss: -7.0729\n",
      "Epoch 49, Critic Loss: -1.3821, Generator Loss: -4.5488\n",
      "Epoch 50, Critic Loss: -0.5432, Generator Loss: -6.3165\n"
     ]
    }
   ],
   "source": [
    "\n",
    "generator_optimizer = tf.keras.optimizers.Adam(1e-4, beta_1=0.5, beta_2=0.9)\n",
    "critic_optimizer = tf.keras.optimizers.Adam(1e-4, beta_1=0.5, beta_2=0.9)\n",
    "\n",
    "@tf.function\n",
    "def train_step(real_images, real_labels):\n",
    "    batch_size = tf.shape(real_images)[0]\n",
    "    for _ in range(CRITIC_ITERATIONS):\n",
    "        noise = tf.random.normal([batch_size, NOISE_DIM])\n",
    "        fake_images = generator([noise, real_labels])\n",
    "        with tf.GradientTape() as tape:\n",
    "            real_scores = critic([real_images, real_labels])\n",
    "            fake_scores = critic([fake_images, real_labels])\n",
    "            gp = gradient_penalty(critic, real_images, fake_images, real_labels)\n",
    "            critic_loss = tf.reduce_mean(fake_scores) - tf.reduce_mean(real_scores) + LAMBDA_GP * gp\n",
    "        grads = tape.gradient(critic_loss, critic.trainable_variables)\n",
    "        critic_optimizer.apply_gradients(zip(grads, critic.trainable_variables))\n",
    "    with tf.GradientTape() as tape:\n",
    "        noise = tf.random.normal([batch_size, NOISE_DIM])\n",
    "        fake_images = generator([noise, real_labels])\n",
    "        fake_scores = critic([fake_images, real_labels])\n",
    "        gen_loss = -tf.reduce_mean(fake_scores)\n",
    "    grads = tape.gradient(gen_loss, generator.trainable_variables)\n",
    "    generator_optimizer.apply_gradients(zip(grads, generator.trainable_variables))\n",
    "    return critic_loss, gen_loss\n",
    "\n",
    "for epoch in range(EPOCHS):\n",
    "    for real_images, real_labels in dataset:\n",
    "        c_loss, g_loss = train_step(real_images, real_labels)\n",
    "    print(f\"Epoch {epoch + 1}, Critic Loss: {c_loss:.4f}, Generator Loss: {g_loss:.4f}\")\n"
   ]
  },
  {
   "cell_type": "code",
   "execution_count": 8,
   "id": "13246868",
   "metadata": {},
   "outputs": [
    {
     "ename": "ValueError",
     "evalue": "In a nested call() argument, you cannot mix tensors and non-tensors. Received invalid mixed argument: inputs=[<tf.Tensor: shape=(1, 100), dtype=float32, numpy=\narray([[-0.55909735, -0.5347214 ,  2.3730333 , -1.5725931 ,  0.8055056 ,\n        -0.83387697,  0.30611223,  2.2660494 ,  0.2856414 , -1.5536156 ,\n         0.37975532,  0.76646256,  0.3611479 ,  0.09653295,  0.2169556 ,\n        -0.81440705, -0.23623598,  0.49669704, -1.7737728 ,  0.20886712,\n         1.0022159 , -0.12915266,  0.1658908 ,  0.47333536, -0.834051  ,\n         1.013081  ,  0.41076526,  0.5531745 ,  1.7808596 , -0.3277541 ,\n         0.9474485 ,  0.9795105 , -0.46425048,  1.3030936 , -0.24370237,\n         0.66929215,  0.39855948, -2.4770668 , -0.3692293 , -0.8428784 ,\n         1.8889831 , -0.6198924 ,  1.0777894 ,  1.0240268 ,  0.26340935,\n        -0.9011545 ,  0.8177133 , -0.27730602,  1.1863395 , -0.11432811,\n        -0.81191176, -0.13922755,  1.8237975 ,  0.09685095, -0.1175178 ,\n         0.65498006,  0.8112674 , -0.20581378,  0.34243056,  1.0400138 ,\n         0.5152446 , -1.7396942 , -1.25223   ,  1.2125494 ,  0.9787496 ,\n        -0.4366913 ,  0.5438104 , -0.6789775 , -0.79198945, -0.23655523,\n        -0.6963311 ,  0.427093  , -0.04938047,  0.12529565, -1.705371  ,\n        -0.38835114, -0.15932687, -1.0995821 , -0.27845883,  1.4318053 ,\n         0.1378414 , -0.05521483, -0.17450511, -0.27249354,  1.1057245 ,\n        -0.09636995, -0.1075452 , -1.1829088 ,  0.61956465, -0.5877444 ,\n        -0.5636711 ,  1.0141273 ,  1.0195346 , -1.4466401 , -0.8346937 ,\n         1.4103183 ,  0.45040983,  0.2560983 , -0.86556965,  0.2880006 ]],\n      dtype=float32)>, array([[1., 0., 0., 0., 0., 0., 0., 0., 0., 0.]])]",
     "output_type": "error",
     "traceback": [
      "\u001b[1;31m---------------------------------------------------------------------------\u001b[0m",
      "\u001b[1;31mValueError\u001b[0m                                Traceback (most recent call last)",
      "Cell \u001b[1;32mIn[8], line 12\u001b[0m\n\u001b[0;32m     10\u001b[0m \u001b[38;5;66;03m# Visualize digits from 0 to 9\u001b[39;00m\n\u001b[0;32m     11\u001b[0m \u001b[38;5;28;01mfor\u001b[39;00m digit \u001b[38;5;129;01min\u001b[39;00m \u001b[38;5;28mrange\u001b[39m(\u001b[38;5;241m10\u001b[39m):\n\u001b[1;32m---> 12\u001b[0m     \u001b[43mgenerate_and_plot\u001b[49m\u001b[43m(\u001b[49m\u001b[43mgenerator\u001b[49m\u001b[43m,\u001b[49m\u001b[43m \u001b[49m\u001b[43mdigit\u001b[49m\u001b[43m)\u001b[49m\n",
      "Cell \u001b[1;32mIn[8], line 4\u001b[0m, in \u001b[0;36mgenerate_and_plot\u001b[1;34m(generator, digit)\u001b[0m\n\u001b[0;32m      2\u001b[0m noise \u001b[38;5;241m=\u001b[39m tf\u001b[38;5;241m.\u001b[39mrandom\u001b[38;5;241m.\u001b[39mnormal([\u001b[38;5;241m1\u001b[39m, NOISE_DIM])\n\u001b[0;32m      3\u001b[0m label \u001b[38;5;241m=\u001b[39m tf\u001b[38;5;241m.\u001b[39mkeras\u001b[38;5;241m.\u001b[39mutils\u001b[38;5;241m.\u001b[39mto_categorical([digit], NUM_CLASSES)\n\u001b[1;32m----> 4\u001b[0m generated_image \u001b[38;5;241m=\u001b[39m \u001b[43mgenerator\u001b[49m\u001b[43m(\u001b[49m\u001b[43m[\u001b[49m\u001b[43mnoise\u001b[49m\u001b[43m,\u001b[49m\u001b[43m \u001b[49m\u001b[43mlabel\u001b[49m\u001b[43m]\u001b[49m\u001b[43m)\u001b[49m\n\u001b[0;32m      5\u001b[0m plt\u001b[38;5;241m.\u001b[39mimshow(generated_image[\u001b[38;5;241m0\u001b[39m, :, :, \u001b[38;5;241m0\u001b[39m], cmap\u001b[38;5;241m=\u001b[39m\u001b[38;5;124m\"\u001b[39m\u001b[38;5;124mgray\u001b[39m\u001b[38;5;124m\"\u001b[39m)\n\u001b[0;32m      6\u001b[0m plt\u001b[38;5;241m.\u001b[39mtitle(\u001b[38;5;124mf\u001b[39m\u001b[38;5;124m\"\u001b[39m\u001b[38;5;124mDigit: \u001b[39m\u001b[38;5;132;01m{\u001b[39;00mdigit\u001b[38;5;132;01m}\u001b[39;00m\u001b[38;5;124m\"\u001b[39m)\n",
      "File \u001b[1;32mc:\\Users\\Rishu\\AppData\\Local\\anaconda3\\envs\\rexxes\\lib\\site-packages\\keras\\src\\utils\\traceback_utils.py:122\u001b[0m, in \u001b[0;36mfilter_traceback.<locals>.error_handler\u001b[1;34m(*args, **kwargs)\u001b[0m\n\u001b[0;32m    119\u001b[0m     filtered_tb \u001b[38;5;241m=\u001b[39m _process_traceback_frames(e\u001b[38;5;241m.\u001b[39m__traceback__)\n\u001b[0;32m    120\u001b[0m     \u001b[38;5;66;03m# To get the full stack trace, call:\u001b[39;00m\n\u001b[0;32m    121\u001b[0m     \u001b[38;5;66;03m# `keras.config.disable_traceback_filtering()`\u001b[39;00m\n\u001b[1;32m--> 122\u001b[0m     \u001b[38;5;28;01mraise\u001b[39;00m e\u001b[38;5;241m.\u001b[39mwith_traceback(filtered_tb) \u001b[38;5;28;01mfrom\u001b[39;00m \u001b[38;5;28;01mNone\u001b[39;00m\n\u001b[0;32m    123\u001b[0m \u001b[38;5;28;01mfinally\u001b[39;00m:\n\u001b[0;32m    124\u001b[0m     \u001b[38;5;28;01mdel\u001b[39;00m filtered_tb\n",
      "File \u001b[1;32mc:\\Users\\Rishu\\AppData\\Local\\anaconda3\\envs\\rexxes\\lib\\site-packages\\keras\\src\\layers\\layer.py:1597\u001b[0m, in \u001b[0;36mCallSpec.__init__\u001b[1;34m(self, signature, args, kwargs)\u001b[0m\n\u001b[0;32m   1595\u001b[0m             nested_tensor_arg_names\u001b[38;5;241m.\u001b[39mappend(name)\n\u001b[0;32m   1596\u001b[0m         \u001b[38;5;28;01melif\u001b[39;00m \u001b[38;5;28many\u001b[39m(is_backend_tensor_or_symbolic(x) \u001b[38;5;28;01mfor\u001b[39;00m x \u001b[38;5;129;01min\u001b[39;00m flat_values):\n\u001b[1;32m-> 1597\u001b[0m             \u001b[38;5;28;01mraise\u001b[39;00m \u001b[38;5;167;01mValueError\u001b[39;00m(\n\u001b[0;32m   1598\u001b[0m                 \u001b[38;5;124m\"\u001b[39m\u001b[38;5;124mIn a nested call() argument, \u001b[39m\u001b[38;5;124m\"\u001b[39m\n\u001b[0;32m   1599\u001b[0m                 \u001b[38;5;124m\"\u001b[39m\u001b[38;5;124myou cannot mix tensors and non-tensors. \u001b[39m\u001b[38;5;124m\"\u001b[39m\n\u001b[0;32m   1600\u001b[0m                 \u001b[38;5;124m\"\u001b[39m\u001b[38;5;124mReceived invalid mixed argument: \u001b[39m\u001b[38;5;124m\"\u001b[39m\n\u001b[0;32m   1601\u001b[0m                 \u001b[38;5;124mf\u001b[39m\u001b[38;5;124m\"\u001b[39m\u001b[38;5;132;01m{\u001b[39;00mname\u001b[38;5;132;01m}\u001b[39;00m\u001b[38;5;124m=\u001b[39m\u001b[38;5;132;01m{\u001b[39;00mvalue\u001b[38;5;132;01m}\u001b[39;00m\u001b[38;5;124m\"\u001b[39m\n\u001b[0;32m   1602\u001b[0m             )\n\u001b[0;32m   1603\u001b[0m \u001b[38;5;28mself\u001b[39m\u001b[38;5;241m.\u001b[39marguments_dict \u001b[38;5;241m=\u001b[39m arg_dict\n\u001b[0;32m   1604\u001b[0m \u001b[38;5;28mself\u001b[39m\u001b[38;5;241m.\u001b[39margument_names \u001b[38;5;241m=\u001b[39m arg_names\n",
      "\u001b[1;31mValueError\u001b[0m: In a nested call() argument, you cannot mix tensors and non-tensors. Received invalid mixed argument: inputs=[<tf.Tensor: shape=(1, 100), dtype=float32, numpy=\narray([[-0.55909735, -0.5347214 ,  2.3730333 , -1.5725931 ,  0.8055056 ,\n        -0.83387697,  0.30611223,  2.2660494 ,  0.2856414 , -1.5536156 ,\n         0.37975532,  0.76646256,  0.3611479 ,  0.09653295,  0.2169556 ,\n        -0.81440705, -0.23623598,  0.49669704, -1.7737728 ,  0.20886712,\n         1.0022159 , -0.12915266,  0.1658908 ,  0.47333536, -0.834051  ,\n         1.013081  ,  0.41076526,  0.5531745 ,  1.7808596 , -0.3277541 ,\n         0.9474485 ,  0.9795105 , -0.46425048,  1.3030936 , -0.24370237,\n         0.66929215,  0.39855948, -2.4770668 , -0.3692293 , -0.8428784 ,\n         1.8889831 , -0.6198924 ,  1.0777894 ,  1.0240268 ,  0.26340935,\n        -0.9011545 ,  0.8177133 , -0.27730602,  1.1863395 , -0.11432811,\n        -0.81191176, -0.13922755,  1.8237975 ,  0.09685095, -0.1175178 ,\n         0.65498006,  0.8112674 , -0.20581378,  0.34243056,  1.0400138 ,\n         0.5152446 , -1.7396942 , -1.25223   ,  1.2125494 ,  0.9787496 ,\n        -0.4366913 ,  0.5438104 , -0.6789775 , -0.79198945, -0.23655523,\n        -0.6963311 ,  0.427093  , -0.04938047,  0.12529565, -1.705371  ,\n        -0.38835114, -0.15932687, -1.0995821 , -0.27845883,  1.4318053 ,\n         0.1378414 , -0.05521483, -0.17450511, -0.27249354,  1.1057245 ,\n        -0.09636995, -0.1075452 , -1.1829088 ,  0.61956465, -0.5877444 ,\n        -0.5636711 ,  1.0141273 ,  1.0195346 , -1.4466401 , -0.8346937 ,\n         1.4103183 ,  0.45040983,  0.2560983 , -0.86556965,  0.2880006 ]],\n      dtype=float32)>, array([[1., 0., 0., 0., 0., 0., 0., 0., 0., 0.]])]"
     ]
    }
   ],
   "source": [
    "\n",
    "def generate_and_plot(generator, digit):\n",
    "    noise = tf.random.normal([1, NOISE_DIM])\n",
    "    label = tf.keras.utils.to_categorical([digit], NUM_CLASSES)\n",
    "    generated_image = generator([noise, label])\n",
    "    plt.imshow(generated_image[0, :, :, 0], cmap=\"gray\")\n",
    "    plt.title(f\"Digit: {digit}\")\n",
    "    plt.axis(\"off\")\n",
    "    plt.show()\n",
    "\n",
    "# Visualize digits from 0 to 9\n",
    "for digit in range(10):\n",
    "    generate_and_plot(generator, digit)\n"
   ]
  },
  {
   "cell_type": "code",
   "execution_count": 9,
   "id": "8b04ac00",
   "metadata": {},
   "outputs": [
    {
     "ename": "ValueError",
     "evalue": "In a nested call() argument, you cannot mix tensors and non-tensors. Received invalid mixed argument: inputs=[<tf.Tensor: shape=(1, 100), dtype=float32, numpy=\narray([[ 0.65648675, -0.4130517 ,  0.33997506, -1.0056272 ,  0.70266235,\n        -1.4008642 , -0.89780754, -0.34856176, -0.95890623,  1.1948482 ,\n         0.8507053 , -0.30878615,  0.31389382,  0.41766927,  1.0629053 ,\n        -0.02858001,  0.11500491, -0.7930163 , -0.79445046,  0.9535958 ,\n         0.505839  ,  0.719474  ,  0.22363159, -2.8650103 ,  0.544603  ,\n        -0.88403946, -0.31746316,  0.72348213, -0.23562859,  1.1022452 ,\n         0.306418  ,  0.39102894, -1.242671  ,  0.27901274, -0.7255115 ,\n         0.98467183, -1.810875  ,  1.7373034 ,  0.72699076,  0.6858734 ,\n         1.2584732 ,  0.0337329 , -0.7173049 , -1.2640756 , -0.5495717 ,\n         0.29599485, -0.10209271, -0.5012239 ,  0.6392977 ,  2.4985871 ,\n        -0.59750557,  0.08453979,  0.481224  , -0.4051515 ,  1.1612142 ,\n        -0.7902166 ,  1.4976313 , -0.25545642,  0.15304247, -0.17617755,\n        -0.6068476 ,  0.65866256, -1.7283841 ,  1.2412881 ,  0.2717926 ,\n         0.02033234, -1.8912936 , -0.65944195,  0.96844363, -0.84783554,\n        -0.8103375 , -0.43390667, -1.222408  , -1.0169306 ,  0.63072336,\n        -1.965373  , -1.3588659 ,  0.3423996 , -0.17318818,  1.1900524 ,\n        -0.21243529,  0.06442714,  0.361204  ,  1.1238041 ,  0.18094097,\n        -0.29161656,  0.3464304 , -1.641573  , -0.8368261 , -0.15267536,\n         0.55575234, -0.8988402 ,  1.2181404 , -1.1123979 ,  0.47546574,\n        -1.450981  , -0.49372724, -0.8460825 , -0.38176724, -2.403893  ]],\n      dtype=float32)>, array([[1., 0., 0., 0., 0., 0., 0., 0., 0., 0.]])]",
     "output_type": "error",
     "traceback": [
      "\u001b[1;31m---------------------------------------------------------------------------\u001b[0m",
      "\u001b[1;31mValueError\u001b[0m                                Traceback (most recent call last)",
      "Cell \u001b[1;32mIn[9], line 19\u001b[0m\n\u001b[0;32m     17\u001b[0m \u001b[38;5;66;03m# Visualize digits from 0 to 9\u001b[39;00m\n\u001b[0;32m     18\u001b[0m \u001b[38;5;28;01mfor\u001b[39;00m digit \u001b[38;5;129;01min\u001b[39;00m \u001b[38;5;28mrange\u001b[39m(\u001b[38;5;241m10\u001b[39m):\n\u001b[1;32m---> 19\u001b[0m     \u001b[43mgenerate_and_plot\u001b[49m\u001b[43m(\u001b[49m\u001b[43mgenerator\u001b[49m\u001b[43m,\u001b[49m\u001b[43m \u001b[49m\u001b[43mdigit\u001b[49m\u001b[43m)\u001b[49m\n",
      "Cell \u001b[1;32mIn[9], line 9\u001b[0m, in \u001b[0;36mgenerate_and_plot\u001b[1;34m(generator, digit)\u001b[0m\n\u001b[0;32m      6\u001b[0m label \u001b[38;5;241m=\u001b[39m tf\u001b[38;5;241m.\u001b[39mkeras\u001b[38;5;241m.\u001b[39mutils\u001b[38;5;241m.\u001b[39mto_categorical([digit], NUM_CLASSES)  \u001b[38;5;66;03m# Shape: (1, NUM_CLASSES)\u001b[39;00m\n\u001b[0;32m      8\u001b[0m \u001b[38;5;66;03m# Pass noise and label to the generator\u001b[39;00m\n\u001b[1;32m----> 9\u001b[0m generated_image \u001b[38;5;241m=\u001b[39m \u001b[43mgenerator\u001b[49m\u001b[43m(\u001b[49m\u001b[43m[\u001b[49m\u001b[43mnoise\u001b[49m\u001b[43m,\u001b[49m\u001b[43m \u001b[49m\u001b[43mlabel\u001b[49m\u001b[43m]\u001b[49m\u001b[43m)\u001b[49m  \u001b[38;5;66;03m# Output shape: (1, 28, 28, 1)\u001b[39;00m\n\u001b[0;32m     11\u001b[0m \u001b[38;5;66;03m# Reshape and plot the generated image\u001b[39;00m\n\u001b[0;32m     12\u001b[0m plt\u001b[38;5;241m.\u001b[39mimshow(generated_image[\u001b[38;5;241m0\u001b[39m, :, :, \u001b[38;5;241m0\u001b[39m], cmap\u001b[38;5;241m=\u001b[39m\u001b[38;5;124m\"\u001b[39m\u001b[38;5;124mgray\u001b[39m\u001b[38;5;124m\"\u001b[39m)  \u001b[38;5;66;03m# Extract the first (and only) image in the batch\u001b[39;00m\n",
      "File \u001b[1;32mc:\\Users\\Rishu\\AppData\\Local\\anaconda3\\envs\\rexxes\\lib\\site-packages\\keras\\src\\utils\\traceback_utils.py:122\u001b[0m, in \u001b[0;36mfilter_traceback.<locals>.error_handler\u001b[1;34m(*args, **kwargs)\u001b[0m\n\u001b[0;32m    119\u001b[0m     filtered_tb \u001b[38;5;241m=\u001b[39m _process_traceback_frames(e\u001b[38;5;241m.\u001b[39m__traceback__)\n\u001b[0;32m    120\u001b[0m     \u001b[38;5;66;03m# To get the full stack trace, call:\u001b[39;00m\n\u001b[0;32m    121\u001b[0m     \u001b[38;5;66;03m# `keras.config.disable_traceback_filtering()`\u001b[39;00m\n\u001b[1;32m--> 122\u001b[0m     \u001b[38;5;28;01mraise\u001b[39;00m e\u001b[38;5;241m.\u001b[39mwith_traceback(filtered_tb) \u001b[38;5;28;01mfrom\u001b[39;00m \u001b[38;5;28;01mNone\u001b[39;00m\n\u001b[0;32m    123\u001b[0m \u001b[38;5;28;01mfinally\u001b[39;00m:\n\u001b[0;32m    124\u001b[0m     \u001b[38;5;28;01mdel\u001b[39;00m filtered_tb\n",
      "File \u001b[1;32mc:\\Users\\Rishu\\AppData\\Local\\anaconda3\\envs\\rexxes\\lib\\site-packages\\keras\\src\\layers\\layer.py:1597\u001b[0m, in \u001b[0;36mCallSpec.__init__\u001b[1;34m(self, signature, args, kwargs)\u001b[0m\n\u001b[0;32m   1595\u001b[0m             nested_tensor_arg_names\u001b[38;5;241m.\u001b[39mappend(name)\n\u001b[0;32m   1596\u001b[0m         \u001b[38;5;28;01melif\u001b[39;00m \u001b[38;5;28many\u001b[39m(is_backend_tensor_or_symbolic(x) \u001b[38;5;28;01mfor\u001b[39;00m x \u001b[38;5;129;01min\u001b[39;00m flat_values):\n\u001b[1;32m-> 1597\u001b[0m             \u001b[38;5;28;01mraise\u001b[39;00m \u001b[38;5;167;01mValueError\u001b[39;00m(\n\u001b[0;32m   1598\u001b[0m                 \u001b[38;5;124m\"\u001b[39m\u001b[38;5;124mIn a nested call() argument, \u001b[39m\u001b[38;5;124m\"\u001b[39m\n\u001b[0;32m   1599\u001b[0m                 \u001b[38;5;124m\"\u001b[39m\u001b[38;5;124myou cannot mix tensors and non-tensors. \u001b[39m\u001b[38;5;124m\"\u001b[39m\n\u001b[0;32m   1600\u001b[0m                 \u001b[38;5;124m\"\u001b[39m\u001b[38;5;124mReceived invalid mixed argument: \u001b[39m\u001b[38;5;124m\"\u001b[39m\n\u001b[0;32m   1601\u001b[0m                 \u001b[38;5;124mf\u001b[39m\u001b[38;5;124m\"\u001b[39m\u001b[38;5;132;01m{\u001b[39;00mname\u001b[38;5;132;01m}\u001b[39;00m\u001b[38;5;124m=\u001b[39m\u001b[38;5;132;01m{\u001b[39;00mvalue\u001b[38;5;132;01m}\u001b[39;00m\u001b[38;5;124m\"\u001b[39m\n\u001b[0;32m   1602\u001b[0m             )\n\u001b[0;32m   1603\u001b[0m \u001b[38;5;28mself\u001b[39m\u001b[38;5;241m.\u001b[39marguments_dict \u001b[38;5;241m=\u001b[39m arg_dict\n\u001b[0;32m   1604\u001b[0m \u001b[38;5;28mself\u001b[39m\u001b[38;5;241m.\u001b[39margument_names \u001b[38;5;241m=\u001b[39m arg_names\n",
      "\u001b[1;31mValueError\u001b[0m: In a nested call() argument, you cannot mix tensors and non-tensors. Received invalid mixed argument: inputs=[<tf.Tensor: shape=(1, 100), dtype=float32, numpy=\narray([[ 0.65648675, -0.4130517 ,  0.33997506, -1.0056272 ,  0.70266235,\n        -1.4008642 , -0.89780754, -0.34856176, -0.95890623,  1.1948482 ,\n         0.8507053 , -0.30878615,  0.31389382,  0.41766927,  1.0629053 ,\n        -0.02858001,  0.11500491, -0.7930163 , -0.79445046,  0.9535958 ,\n         0.505839  ,  0.719474  ,  0.22363159, -2.8650103 ,  0.544603  ,\n        -0.88403946, -0.31746316,  0.72348213, -0.23562859,  1.1022452 ,\n         0.306418  ,  0.39102894, -1.242671  ,  0.27901274, -0.7255115 ,\n         0.98467183, -1.810875  ,  1.7373034 ,  0.72699076,  0.6858734 ,\n         1.2584732 ,  0.0337329 , -0.7173049 , -1.2640756 , -0.5495717 ,\n         0.29599485, -0.10209271, -0.5012239 ,  0.6392977 ,  2.4985871 ,\n        -0.59750557,  0.08453979,  0.481224  , -0.4051515 ,  1.1612142 ,\n        -0.7902166 ,  1.4976313 , -0.25545642,  0.15304247, -0.17617755,\n        -0.6068476 ,  0.65866256, -1.7283841 ,  1.2412881 ,  0.2717926 ,\n         0.02033234, -1.8912936 , -0.65944195,  0.96844363, -0.84783554,\n        -0.8103375 , -0.43390667, -1.222408  , -1.0169306 ,  0.63072336,\n        -1.965373  , -1.3588659 ,  0.3423996 , -0.17318818,  1.1900524 ,\n        -0.21243529,  0.06442714,  0.361204  ,  1.1238041 ,  0.18094097,\n        -0.29161656,  0.3464304 , -1.641573  , -0.8368261 , -0.15267536,\n         0.55575234, -0.8988402 ,  1.2181404 , -1.1123979 ,  0.47546574,\n        -1.450981  , -0.49372724, -0.8460825 , -0.38176724, -2.403893  ]],\n      dtype=float32)>, array([[1., 0., 0., 0., 0., 0., 0., 0., 0., 0.]])]"
     ]
    }
   ],
   "source": [
    "def generate_and_plot(generator, digit):\n",
    "    # Generate a batch of noise vectors (batch size = 1)\n",
    "    noise = tf.random.normal([1, NOISE_DIM])  # Shape: (1, NOISE_DIM)\n",
    "\n",
    "    # Create a batch of one-hot encoded labels (batch size = 1)\n",
    "    label = tf.keras.utils.to_categorical([digit], NUM_CLASSES)  # Shape: (1, NUM_CLASSES)\n",
    "\n",
    "    # Pass noise and label to the generator\n",
    "    generated_image = generator([noise, label])  # Output shape: (1, 28, 28, 1)\n",
    "\n",
    "    # Reshape and plot the generated image\n",
    "    plt.imshow(generated_image[0, :, :, 0], cmap=\"gray\")  # Extract the first (and only) image in the batch\n",
    "    plt.title(f\"Generated Digit: {digit}\")\n",
    "    plt.axis(\"off\")\n",
    "    plt.show()\n",
    "\n",
    "# Visualize digits from 0 to 9\n",
    "for digit in range(10):\n",
    "    generate_and_plot(generator, digit)\n"
   ]
  },
  {
   "cell_type": "code",
   "execution_count": 10,
   "id": "44236923",
   "metadata": {},
   "outputs": [
    {
     "ename": "NameError",
     "evalue": "name 'noise' is not defined",
     "output_type": "error",
     "traceback": [
      "\u001b[1;31m---------------------------------------------------------------------------\u001b[0m",
      "\u001b[1;31mNameError\u001b[0m                                 Traceback (most recent call last)",
      "Cell \u001b[1;32mIn[10], line 1\u001b[0m\n\u001b[1;32m----> 1\u001b[0m \u001b[38;5;28mprint\u001b[39m(\u001b[38;5;124m\"\u001b[39m\u001b[38;5;124mNoise shape:\u001b[39m\u001b[38;5;124m\"\u001b[39m, \u001b[43mnoise\u001b[49m\u001b[38;5;241m.\u001b[39mshape)\n\u001b[0;32m      2\u001b[0m \u001b[38;5;28mprint\u001b[39m(\u001b[38;5;124m\"\u001b[39m\u001b[38;5;124mLabel shape:\u001b[39m\u001b[38;5;124m\"\u001b[39m, label\u001b[38;5;241m.\u001b[39mshape)\n",
      "\u001b[1;31mNameError\u001b[0m: name 'noise' is not defined"
     ]
    }
   ],
   "source": [
    "print(\"Noise shape:\", noise.shape)\n",
    "print(\"Label shape:\", label.shape)\n"
   ]
  },
  {
   "cell_type": "code",
   "execution_count": 11,
   "id": "262a0459",
   "metadata": {},
   "outputs": [
    {
     "name": "stdout",
     "output_type": "stream",
     "text": [
      "Noise shape: (1, 100)\n",
      "Label shape: (1, 10)\n"
     ]
    },
    {
     "data": {
      "image/png": "[encoded data removed]",
      "text/plain": [
       "<Figure size 640x480 with 1 Axes>"
      ]
     },
     "metadata": {},
     "output_type": "display_data"
    },
    {
     "name": "stdout",
     "output_type": "stream",
     "text": [
      "Noise shape: (1, 100)\n",
      "Label shape: (1, 10)\n"
     ]
    },
    {
     "data": {
      "image/png": "[encoded data removed]",
      "text/plain": [
       "<Figure size 640x480 with 1 Axes>"
      ]
     },
     "metadata": {},
     "output_type": "display_data"
    },
    {
     "name": "stdout",
     "output_type": "stream",
     "text": [
      "Noise shape: (1, 100)\n",
      "Label shape: (1, 10)\n"
     ]
    },
    {
     "data": {
      "image/png": "[encoded data removed]",
      "text/plain": [
       "<Figure size 640x480 with 1 Axes>"
      ]
     },
     "metadata": {},
     "output_type": "display_data"
    },
    {
     "name": "stdout",
     "output_type": "stream",
     "text": [
      "Noise shape: (1, 100)\n",
      "Label shape: (1, 10)\n"
     ]
    },
    {
     "data": {
      "image/png": "[encoded data removed]",
      "text/plain": [
       "<Figure size 640x480 with 1 Axes>"
      ]
     },
     "metadata": {},
     "output_type": "display_data"
    },
    {
     "name": "stdout",
     "output_type": "stream",
     "text": [
      "Noise shape: (1, 100)\n",
      "Label shape: (1, 10)\n"
     ]
    },
    {
     "data": {
      "image/png": "[encoded data removed]",
      "text/plain": [
       "<Figure size 640x480 with 1 Axes>"
      ]
     },
     "metadata": {},
     "output_type": "display_data"
    },
    {
     "name": "stdout",
     "output_type": "stream",
     "text": [
      "Noise shape: (1, 100)\n",
      "Label shape: (1, 10)\n"
     ]
    },
    {
     "data": {
      "image/png": "[encoded data removed]",
      "text/plain": [
       "<Figure size 640x480 with 1 Axes>"
      ]
     },
     "metadata": {},
     "output_type": "display_data"
    },
    {
     "name": "stdout",
     "output_type": "stream",
     "text": [
      "Noise shape: (1, 100)\n",
      "Label shape: (1, 10)\n"
     ]
    },
    {
     "data": {
      "image/png": "[encoded data removed]",
      "text/plain": [
       "<Figure size 640x480 with 1 Axes>"
      ]
     },
     "metadata": {},
     "output_type": "display_data"
    },
    {
     "name": "stdout",
     "output_type": "stream",
     "text": [
      "Noise shape: (1, 100)\n",
      "Label shape: (1, 10)\n"
     ]
    },
    {
     "data": {
      "image/png": "[encoded data removed]",
      "text/plain": [
       "<Figure size 640x480 with 1 Axes>"
      ]
     },
     "metadata": {},
     "output_type": "display_data"
    },
    {
     "name": "stdout",
     "output_type": "stream",
     "text": [
      "Noise shape: (1, 100)\n",
      "Label shape: (1, 10)\n"
     ]
    },
    {
     "data": {
      "image/png": "[encoded data removed]",
      "text/plain": [
       "<Figure size 640x480 with 1 Axes>"
      ]
     },
     "metadata": {},
     "output_type": "display_data"
    },
    {
     "name": "stdout",
     "output_type": "stream",
     "text": [
      "Noise shape: (1, 100)\n",
      "Label shape: (1, 10)\n"
     ]
    },
    {
     "data": {
      "image/png": "[encoded data removed]",
      "text/plain": [
       "<Figure size 640x480 with 1 Axes>"
      ]
     },
     "metadata": {},
     "output_type": "display_data"
    }
   ],
   "source": [
    "def generate_and_plot(generator, digit):\n",
    "    # Generate a batch of noise vectors (batch size = 1)\n",
    "    noise = tf.random.normal([1, NOISE_DIM])  # Shape: (1, NOISE_DIM)\n",
    "\n",
    "    # Create a batch of one-hot encoded labels (batch size = 1)\n",
    "    label = tf.keras.utils.to_categorical([digit], NUM_CLASSES)  # Shape: (1, NUM_CLASSES)\n",
    "\n",
    "    # Ensure both inputs are tensors\n",
    "    noise = tf.convert_to_tensor(noise, dtype=tf.float32)\n",
    "    label = tf.convert_to_tensor(label, dtype=tf.float32)\n",
    "\n",
    "    # Debug input shapes\n",
    "    print(\"Noise shape:\", noise.shape)\n",
    "    print(\"Label shape:\", label.shape)\n",
    "\n",
    "    # Pass noise and label to the generator\n",
    "    generated_image = generator([noise, label])  # Output shape: (1, 28, 28, 1)\n",
    "\n",
    "    # Reshape and plot the generated image\n",
    "    plt.imshow(generated_image[0, :, :, 0], cmap=\"gray\")  # Extract the first (and only) image in the batch\n",
    "    plt.title(f\"Generated Digit: {digit}\")\n",
    "    plt.axis(\"off\")\n",
    "    plt.show()\n",
    "\n",
    "# Visualize digits from 0 to 9\n",
    "for digit in range(10):\n",
    "    generate_and_plot(generator, digit)\n"
   ]
  },
  {
   "cell_type": "code",
   "execution_count": 12,
   "id": "dba6cbfb",
   "metadata": {},
   "outputs": [
    {
     "name": "stderr",
     "output_type": "stream",
     "text": [
      "WARNING:absl:You are saving your model as an HDF5 file via `model.save()` or `keras.saving.save_model(model)`. This file format is considered legacy. We recommend using instead the native Keras format, e.g. `model.save('my_model.keras')` or `keras.saving.save_model(model, 'my_model.keras')`. \n"
     ]
    }
   ],
   "source": [
    "    # save the model\n",
    "generator.save(\"CWGAN_generator.h5\")"
   ]
  },
  {
   "cell_type": "code",
   "execution_count": null,
   "id": "e83afdf9",
   "metadata": {},
   "outputs": [],
   "source": []
  }
 ],
 "metadata": {
  "kernelspec": {
   "display_name": "rexxes",
   "language": "python",
   "name": "python3"
  },
  "language_info": {
   "codemirror_mode": {
    "name": "ipython",
    "version": 3
   },
   "file_extension": ".py",
   "mimetype": "text/x-python",
   "name": "python",
   "nbconvert_exporter": "python",
   "pygments_lexer": "ipython3",
   "version": "3.9.19"
  }
 },
 "nbformat": 4,
 "nbformat_minor": 5
}
