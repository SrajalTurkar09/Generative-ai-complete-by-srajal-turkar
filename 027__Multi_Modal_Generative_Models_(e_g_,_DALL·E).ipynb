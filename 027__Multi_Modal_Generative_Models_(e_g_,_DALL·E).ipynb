{
  "nbformat": 4,
  "nbformat_minor": 0,
  "metadata": {
    "colab": {
      "provenance": []
    },
    "kernelspec": {
      "name": "python3",
      "display_name": "Python 3"
    },
    "language_info": {
      "name": "python"
    }
  },
  "cells": [
    {
      "cell_type": "code",
      "execution_count": null,
      "metadata": {
        "id": "DmhnJzAG5l7d"
      },
      "outputs": [],
      "source": [
        "# DALL·E Text-to-Image Generation Example using OpenAI API\n",
        "\n",
        "import openai\n",
        "\n",
        "# Set up OpenAI API key\n",
        "openai.api_key = \"your-api-key\"\n",
        "\n",
        "# Define a prompt to generate an image\n",
        "prompt = \"A futuristic city with flying cars\"\n",
        "\n",
        "# Request DALL·E to generate an image from the text prompt\n",
        "response = openai.Image.create(\n",
        "    prompt=prompt,\n",
        "    n=1,  # Number of images to generate\n",
        "    size=\"1024x1024\"\n",
        ")\n",
        "\n",
        "# Extract and print the URL of the generated image\n",
        "image_url = response['data'][0]['url']\n",
        "print(\"Generated Image URL:\", image_url)\n"
      ]
    }
  ]
}