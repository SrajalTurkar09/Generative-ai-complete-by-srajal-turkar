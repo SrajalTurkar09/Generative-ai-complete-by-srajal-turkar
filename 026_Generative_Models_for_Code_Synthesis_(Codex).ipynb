{
  "nbformat": 4,
  "nbformat_minor": 0,
  "metadata": {
    "colab": {
      "provenance": []
    },
    "kernelspec": {
      "name": "python3",
      "display_name": "Python 3"
    },
    "language_info": {
      "name": "python"
    }
  },
  "cells": [
    {
      "cell_type": "code",
      "execution_count": null,
      "metadata": {
        "id": "SYKzYfim5Sfl"
      },
      "outputs": [],
      "source": [
        "# Codex-Based Code Generation Example using OpenAI API\n",
        "\n",
        "import openai\n",
        "\n",
        "# Set up OpenAI API key\n",
        "openai.api_key = 'your-api-key'\n",
        "\n",
        "# Define a prompt to generate Python code\n",
        "prompt = \"Create a Python function to calculate the factorial of a number.\"\n",
        "\n",
        "# Request Codex to generate code based on the prompt\n",
        "response = openai.Completion.create(\n",
        "    engine=\"code-davinci-002\",  # Codex model\n",
        "    prompt=prompt,\n",
        "    max_tokens=100\n",
        ")\n",
        "\n",
        "# Extract and print the generated code\n",
        "generated_code = response.choices[0].text.strip()\n",
        "print(generated_code)\n"
      ]
    }
  ]
}