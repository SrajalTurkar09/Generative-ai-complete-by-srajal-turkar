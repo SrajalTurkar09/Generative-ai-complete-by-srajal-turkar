{
  "nbformat": 4,
  "nbformat_minor": 0,
  "metadata": {
    "colab": {
      "provenance": [],
      "gpuType": "T4"
    },
    "kernelspec": {
      "name": "python3",
      "display_name": "Python 3"
    },
    "language_info": {
      "name": "python"
    },
    "accelerator": "GPU"
  },
  "cells": [
    {
      "cell_type": "code",
      "execution_count": 1,
      "metadata": {
        "colab": {
          "base_uri": "https://localhost:8080/"
        },
        "id": "Zqj9nEA-RMi_",
        "outputId": "4e6f0b1f-9480-42b9-a869-7ee43fb9ddb0"
      },
      "outputs": [
        {
          "output_type": "stream",
          "name": "stdout",
          "text": [
            "Downloading data from https://storage.googleapis.com/download.tensorflow.org/data/shakespeare.txt\n",
            "\u001b[1m1115394/1115394\u001b[0m \u001b[32m━━━━━━━━━━━━━━━━━━━━\u001b[0m\u001b[37m\u001b[0m \u001b[1m1s\u001b[0m 1us/step\n"
          ]
        }
      ],
      "source": [
        "import tensorflow as tf\n",
        "import numpy as np\n",
        "import os\n",
        "\n",
        "# Download the dataset (Shakespeare text) for training\n",
        "path_to_file = tf.keras.utils.get_file('shakespeare.txt', 'https://storage.googleapis.com/download.tensorflow.org/data/shakespeare.txt')\n",
        "text = open(path_to_file, 'rb').read().decode(encoding='utf-8')  # Read and decode text data\n",
        "\n",
        "# Create a sorted list of unique characters in the text\n",
        "vocab = sorted(set(text))\n",
        "\n",
        "# Create a mapping from characters to indices and vice versa\n",
        "char2idx = {char: idx for idx, char in enumerate(vocab)}  # Dictionary for character-to-index\n",
        "idx2char = np.array(vocab)  # Array for index-to-character\n",
        "\n",
        "# Convert the entire text into integer representation using character indices\n",
        "text_as_int = np.array([char2idx[c] for c in text])\n"
      ]
    },
    {
      "cell_type": "code",
      "source": [],
      "metadata": {
        "colab": {
          "base_uri": "https://localhost:8080/"
        },
        "id": "k8XHVIAHRwBO",
        "outputId": "7a1345c2-003c-4b91-88be-5bebf3728fcb"
      },
      "execution_count": 9,
      "outputs": [
        {
          "output_type": "execute_result",
          "data": {
            "text/plain": [
              "array([18, 47, 56, ..., 45,  8,  0])"
            ]
          },
          "metadata": {},
          "execution_count": 9
        }
      ]
    },
    {
      "cell_type": "code",
      "source": [
        "# Define the length of each sequence for training\n",
        "seq_length = 100  # Length of each input sequence\n",
        "examples_per_epoch = len(text) // (seq_length + 1)\n",
        "\n",
        "# Create a dataset of character indices\n",
        "char_dataset = tf.data.Dataset.from_tensor_slices(text_as_int)\n",
        "\n",
        "# Split the text into sequences of length `seq_length+1`\n",
        "sequences = char_dataset.batch(seq_length + 1, drop_remainder=True)\n",
        "\n",
        "# Function to create input-target pairs from each sequence\n",
        "def split_input_target(chunk):\n",
        "    input_text = chunk[:-1]  # Input: All characters except the last one\n",
        "    target_text = chunk[1:]  # Target: All characters shifted by one position\n",
        "    return input_text, target_text\n",
        "\n",
        "# Map the dataset to get input-target pairs\n",
        "dataset = sequences.map(split_input_target)\n"
      ],
      "metadata": {
        "id": "9JSZJkZ_RQgv"
      },
      "execution_count": 2,
      "outputs": []
    },
    {
      "cell_type": "code",
      "source": [
        "# Define batch size and buffer size for shuffling\n",
        "BATCH_SIZE = 64\n",
        "BUFFER_SIZE = 10000\n",
        "\n",
        "# Shuffle the dataset and batch it\n",
        "dataset = dataset.shuffle(BUFFER_SIZE).batch(BATCH_SIZE, drop_remainder=True)\n"
      ],
      "metadata": {
        "id": "eTLZ_LYLRQeA"
      },
      "execution_count": 3,
      "outputs": []
    },
    {
      "cell_type": "code",
      "source": [
        "# Set model parameters\n",
        "vocab_size = len(vocab)  # Total number of unique characters\n",
        "embedding_dim = 256      # Dimension of character embeddings\n",
        "rnn_units = 1024         # Number of LSTM units\n",
        "\n",
        "# Build the model architecture\n",
        "from tensorflow.keras import layers, Sequential\n",
        "\n",
        "def build_model(vocab_size, embedding_dim, rnn_units, batch_size):\n",
        "    model = Sequential([\n",
        "        # Define input shape explicitly using an Input layer\n",
        "        layers.Input(batch_shape=(batch_size, None)),  # Include the batch size here\n",
        "\n",
        "        # Embedding layer for character embeddings\n",
        "        layers.Embedding(vocab_size, embedding_dim),\n",
        "\n",
        "        # Stateful LSTM layer\n",
        "        layers.LSTM(rnn_units, return_sequences=True, stateful=True, recurrent_initializer='glorot_uniform'),\n",
        "\n",
        "        # Dense layer to predict the next character\n",
        "        layers.Dense(vocab_size)\n",
        "    ])\n",
        "    return model\n",
        "\n",
        "# Instantiate the model with the correct batch size\n",
        "model = build_model(vocab_size=vocab_size, embedding_dim=embedding_dim, rnn_units=rnn_units, batch_size=BATCH_SIZE)\n",
        "\n",
        "# ... (rest of your code) ..."
      ],
      "metadata": {
        "id": "mgTPDbdkUUUF"
      },
      "execution_count": 5,
      "outputs": []
    },
    {
      "cell_type": "code",
      "source": [
        "# Define the loss function\n",
        "def loss(labels, logits):\n",
        "    # Sparse categorical crossentropy, since labels are integer indices\n",
        "    return tf.keras.losses.sparse_categorical_crossentropy(labels, logits, from_logits=True)\n",
        "\n",
        "# Compile the model with Adam optimizer and the custom loss function\n",
        "model.compile(optimizer='adam', loss=loss)\n",
        "\n",
        "import os\n",
        "import tensorflow as tf\n",
        "\n",
        "# Directory to save checkpoints\n",
        "checkpoint_dir = './training_checkpoints'\n",
        "# Ensure the directory exists\n",
        "os.makedirs(checkpoint_dir, exist_ok=True)\n",
        "\n",
        "# Checkpoint file naming with '.weights.h5' extension\n",
        "checkpoint_prefix = os.path.join(checkpoint_dir, \"ckpt_{epoch}.weights.h5\")\n",
        "\n",
        "# Define the checkpoint callback\n",
        "checkpoint_callback = tf.keras.callbacks.ModelCheckpoint(filepath=checkpoint_prefix, save_weights_only=True)\n",
        "# Train the model for a set number of epochs\n",
        "EPOCHS = 10\n",
        "history = model.fit(dataset, epochs=EPOCHS, callbacks=[checkpoint_callback])\n"
      ],
      "metadata": {
        "colab": {
          "base_uri": "https://localhost:8080/"
        },
        "id": "Jky2BimjRQY_",
        "outputId": "f60eeda7-a0c8-4bb5-baa9-3574007cbb73"
      },
      "execution_count": 6,
      "outputs": [
        {
          "output_type": "stream",
          "name": "stdout",
          "text": [
            "Epoch 1/10\n",
            "\u001b[1m172/172\u001b[0m \u001b[32m━━━━━━━━━━━━━━━━━━━━\u001b[0m\u001b[37m\u001b[0m \u001b[1m18s\u001b[0m 69ms/step - loss: 2.8686\n",
            "Epoch 2/10\n",
            "\u001b[1m172/172\u001b[0m \u001b[32m━━━━━━━━━━━━━━━━━━━━\u001b[0m\u001b[37m\u001b[0m \u001b[1m14s\u001b[0m 71ms/step - loss: 1.8520\n",
            "Epoch 3/10\n",
            "\u001b[1m172/172\u001b[0m \u001b[32m━━━━━━━━━━━━━━━━━━━━\u001b[0m\u001b[37m\u001b[0m \u001b[1m14s\u001b[0m 71ms/step - loss: 1.5994\n",
            "Epoch 4/10\n",
            "\u001b[1m172/172\u001b[0m \u001b[32m━━━━━━━━━━━━━━━━━━━━\u001b[0m\u001b[37m\u001b[0m \u001b[1m14s\u001b[0m 73ms/step - loss: 1.4754\n",
            "Epoch 5/10\n",
            "\u001b[1m172/172\u001b[0m \u001b[32m━━━━━━━━━━━━━━━━━━━━\u001b[0m\u001b[37m\u001b[0m \u001b[1m15s\u001b[0m 75ms/step - loss: 1.3976\n",
            "Epoch 6/10\n",
            "\u001b[1m172/172\u001b[0m \u001b[32m━━━━━━━━━━━━━━━━━━━━\u001b[0m\u001b[37m\u001b[0m \u001b[1m16s\u001b[0m 77ms/step - loss: 1.3473\n",
            "Epoch 7/10\n",
            "\u001b[1m172/172\u001b[0m \u001b[32m━━━━━━━━━━━━━━━━━━━━\u001b[0m\u001b[37m\u001b[0m \u001b[1m20s\u001b[0m 77ms/step - loss: 1.3042\n",
            "Epoch 8/10\n",
            "\u001b[1m172/172\u001b[0m \u001b[32m━━━━━━━━━━━━━━━━━━━━\u001b[0m\u001b[37m\u001b[0m \u001b[1m20s\u001b[0m 75ms/step - loss: 1.2670\n",
            "Epoch 9/10\n",
            "\u001b[1m172/172\u001b[0m \u001b[32m━━━━━━━━━━━━━━━━━━━━\u001b[0m\u001b[37m\u001b[0m \u001b[1m15s\u001b[0m 76ms/step - loss: 1.2361\n",
            "Epoch 10/10\n",
            "\u001b[1m172/172\u001b[0m \u001b[32m━━━━━━━━━━━━━━━━━━━━\u001b[0m\u001b[37m\u001b[0m \u001b[1m20s\u001b[0m 75ms/step - loss: 1.2013\n"
          ]
        }
      ]
    },
    {
      "cell_type": "code",
      "source": [
        "# ipython-input-18-0f2d0cfb4745\n",
        "import os\n",
        "import tensorflow as tf\n",
        "\n",
        "# ... (rest of the code)\n",
        "\n",
        "# Directory to save checkpoints\n",
        "checkpoint_dir = '/content/training_checkpoints'\n",
        "\n",
        "# Get a list of all checkpoint files in the directory\n",
        "checkpoint_files = [f for f in os.listdir(checkpoint_dir) if f.startswith('ckpt')]\n",
        "\n",
        "# If there are checkpoint files, load the latest one\n",
        "if checkpoint_files:\n",
        "    # Find the latest checkpoint file based on epoch number\n",
        "    latest_checkpoint = max(checkpoint_files, key=lambda x: int(x.split('_')[1].split('.')[0]))\n",
        "    latest_checkpoint_path = os.path.join(checkpoint_dir, latest_checkpoint)\n",
        "    print(f\"Loading weights from: {latest_checkpoint_path}\")  # Print the checkpoint being loaded\n",
        "    model.load_weights(latest_checkpoint_path) # Load weights from the latest checkpoint path\n",
        "else:\n",
        "    print(\"No checkpoint files found in the directory.\")\n",
        "\n",
        "model.build(tf.TensorShape([1, None]))  # Set input shape to accept variable-length sequences"
      ],
      "metadata": {
        "colab": {
          "base_uri": "https://localhost:8080/"
        },
        "id": "2Ssu_F3dT-rH",
        "outputId": "d579e942-a91e-4f70-8453-e6092eaaaf16"
      },
      "execution_count": 19,
      "outputs": [
        {
          "output_type": "stream",
          "name": "stdout",
          "text": [
            "Loading weights from: /content/training_checkpoints/ckpt_10.weights.h5\n"
          ]
        }
      ]
    },
    {
      "cell_type": "code",
      "source": [
        "# Function to generate text from a trained model\n",
        "def generate_text(model, start_string, num_generate=1000, temperature=1.0):\n",
        "    # Convert the start string to character indices\n",
        "    input_eval = [char2idx[s] for s in start_string]\n",
        "    input_eval = tf.expand_dims(input_eval, 0)  # Add batch dimension\n",
        "\n",
        "    # Placeholder for generated text\n",
        "    text_generated = []\n",
        "\n",
        "    # Reset model states before text generation\n",
        "    model.reset_states()\n",
        "    for i in range(num_generate):\n",
        "        predictions = model(input_eval)  # Get predictions for the input sequence\n",
        "        predictions = tf.squeeze(predictions, 0)  # Remove batch dimension\n",
        "\n",
        "        # Adjust predictions with temperature\n",
        "        predictions = predictions / temperature\n",
        "        predicted_id = tf.random.categorical(predictions, num_samples=1)[-1, 0].numpy()  # Sample a character index\n",
        "\n",
        "        # Feed the predicted character as the next input\n",
        "        input_eval = tf.expand_dims([predicted_id], 0)\n",
        "\n",
        "        # Convert predicted character index to character and append to generated text\n",
        "        text_generated.append(idx2char[predicted_id])\n",
        "\n",
        "    return start_string + ''.join(text_generated)  # Return the start string and generated text\n"
      ],
      "metadata": {
        "id": "TjtQOkv6RZPh"
      },
      "execution_count": 20,
      "outputs": []
    },
    {
      "cell_type": "code",
      "source": [
        "# Rebuild the model with batch size of 1 for inference\n",
        "model = build_model(vocab_size, embedding_dim, rnn_units, batch_size=1)\n",
        "\n",
        "# Load the latest checkpoint weights into the model\n",
        "model.load_weights(tf.train.latest_checkpoint(checkpoint_dir))\n",
        "model.build(tf.TensorShape([1, None]))  # Set input shape to accept variable-length sequences\n"
      ],
      "metadata": {
        "id": "20MUR-MeRZLd"
      },
      "execution_count": 23,
      "outputs": []
    },
    {
      "cell_type": "code",
      "source": [
        "# Generate text using the trained model with a starting string\n",
        "print(generate_text(model, start_string=\"ROMEO: \"))\n"
      ],
      "metadata": {
        "colab": {
          "base_uri": "https://localhost:8080/",
          "height": 315
        },
        "id": "f5vcWPIERcIm",
        "outputId": "70e9e45c-0e07-49c4-9366-3583bf942a43"
      },
      "execution_count": 24,
      "outputs": [
        {
          "output_type": "error",
          "ename": "AttributeError",
          "evalue": "'Sequential' object has no attribute 'reset_states'",
          "traceback": [
            "\u001b[0;31m---------------------------------------------------------------------------\u001b[0m",
            "\u001b[0;31mAttributeError\u001b[0m                            Traceback (most recent call last)",
            "\u001b[0;32m<ipython-input-24-e55660d6fe06>\u001b[0m in \u001b[0;36m<cell line: 2>\u001b[0;34m()\u001b[0m\n\u001b[1;32m      1\u001b[0m \u001b[0;31m# Generate text using the trained model with a starting string\u001b[0m\u001b[0;34m\u001b[0m\u001b[0;34m\u001b[0m\u001b[0m\n\u001b[0;32m----> 2\u001b[0;31m \u001b[0mprint\u001b[0m\u001b[0;34m(\u001b[0m\u001b[0mgenerate_text\u001b[0m\u001b[0;34m(\u001b[0m\u001b[0mmodel\u001b[0m\u001b[0;34m,\u001b[0m \u001b[0mstart_string\u001b[0m\u001b[0;34m=\u001b[0m\u001b[0;34m\"ROMEO: \"\u001b[0m\u001b[0;34m)\u001b[0m\u001b[0;34m)\u001b[0m\u001b[0;34m\u001b[0m\u001b[0;34m\u001b[0m\u001b[0m\n\u001b[0m",
            "\u001b[0;32m<ipython-input-20-1b60d84ad67a>\u001b[0m in \u001b[0;36mgenerate_text\u001b[0;34m(model, start_string, num_generate, temperature)\u001b[0m\n\u001b[1;32m      9\u001b[0m \u001b[0;34m\u001b[0m\u001b[0m\n\u001b[1;32m     10\u001b[0m     \u001b[0;31m# Reset model states before text generation\u001b[0m\u001b[0;34m\u001b[0m\u001b[0;34m\u001b[0m\u001b[0m\n\u001b[0;32m---> 11\u001b[0;31m     \u001b[0mmodel\u001b[0m\u001b[0;34m.\u001b[0m\u001b[0mreset_states\u001b[0m\u001b[0;34m(\u001b[0m\u001b[0;34m)\u001b[0m\u001b[0;34m\u001b[0m\u001b[0;34m\u001b[0m\u001b[0m\n\u001b[0m\u001b[1;32m     12\u001b[0m     \u001b[0;32mfor\u001b[0m \u001b[0mi\u001b[0m \u001b[0;32min\u001b[0m \u001b[0mrange\u001b[0m\u001b[0;34m(\u001b[0m\u001b[0mnum_generate\u001b[0m\u001b[0;34m)\u001b[0m\u001b[0;34m:\u001b[0m\u001b[0;34m\u001b[0m\u001b[0;34m\u001b[0m\u001b[0m\n\u001b[1;32m     13\u001b[0m         \u001b[0mpredictions\u001b[0m \u001b[0;34m=\u001b[0m \u001b[0mmodel\u001b[0m\u001b[0;34m(\u001b[0m\u001b[0minput_eval\u001b[0m\u001b[0;34m)\u001b[0m  \u001b[0;31m# Get predictions for the input sequence\u001b[0m\u001b[0;34m\u001b[0m\u001b[0;34m\u001b[0m\u001b[0m\n",
            "\u001b[0;31mAttributeError\u001b[0m: 'Sequential' object has no attribute 'reset_states'"
          ]
        }
      ]
    }
  ]
}